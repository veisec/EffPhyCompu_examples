{
 "cells": [
  {
   "cell_type": "code",
   "execution_count": 1,
   "id": "1adb3ad6",
   "metadata": {},
   "outputs": [
    {
     "name": "stdout",
     "output_type": "stream",
     "text": [
      "Hello Sir Newton.\n"
     ]
    }
   ],
   "source": [
    "print(\"Hello Sir Newton.\")"
   ]
  },
  {
   "cell_type": "markdown",
   "id": "33129bfc",
   "metadata": {},
   "source": [
    "What to write in the terminal:\n",
    "\n",
    "```\n",
    "$ ipython\n",
    "Python 2.7.5+ (default, Sep 19 2013, 13:48:49) \n",
    "Type \"copyright\", \"credits\" or \"license\" for more information.\n",
    "\n",
    "IPython 1.1.0 -- An enhanced Interactive Python.\n",
    "?         -> Introduction and overview of IPython's features.\n",
    "%quickref -> Quick reference.\n",
    "help      -> Python's own help system.\n",
    "object?   -> Details about 'object', use 'object??' for extra details.\n",
    "\n",
    "In [1]: print(\"Good day, Madam Curie.\")\n",
    "Good day, Madam Curie.\n",
    "\n",
    "In [2]: \n",
    "```"
   ]
  },
  {
   "cell_type": "code",
   "execution_count": 2,
   "id": "5c3b6798",
   "metadata": {},
   "outputs": [
    {
     "name": "stdout",
     "output_type": "stream",
     "text": [
      "Hey Isaac, what's Newton?!\n",
      "How is it going, Gottfried?\n"
     ]
    }
   ],
   "source": [
    "print(\"Hey Isaac, what's Newton?!\")\n",
    "print(\"How is it going, Gottfried?\")"
   ]
  },
  {
   "cell_type": "code",
   "execution_count": 3,
   "id": "71d97183",
   "metadata": {},
   "outputs": [],
   "source": [
    "h_bar = 1.05457e-34"
   ]
  },
  {
   "cell_type": "code",
   "execution_count": 4,
   "id": "2d7d89b9",
   "metadata": {},
   "outputs": [
    {
     "ename": "SyntaxError",
     "evalue": "invalid syntax (<ipython-input-4-4ce07ef7122d>, line 1)",
     "output_type": "error",
     "traceback": [
      "\u001b[1;36m  File \u001b[1;32m\"<ipython-input-4-4ce07ef7122d>\"\u001b[1;36m, line \u001b[1;32m1\u001b[0m\n\u001b[1;33m    2plus_forty = 42  # bad\u001b[0m\n\u001b[1;37m              ^\u001b[0m\n\u001b[1;31mSyntaxError\u001b[0m\u001b[1;31m:\u001b[0m invalid syntax\n"
     ]
    }
   ],
   "source": [
    "2plus_forty = 42  # bad"
   ]
  },
  {
   "cell_type": "code",
   "execution_count": 5,
   "id": "90ad7a74",
   "metadata": {},
   "outputs": [],
   "source": [
    "two_plus40 = 42   # good"
   ]
  },
  {
   "cell_type": "code",
   "execution_count": 6,
   "id": "b336ff9e",
   "metadata": {},
   "outputs": [
    {
     "name": "stdout",
     "output_type": "stream",
     "text": [
      "6.6260531326e-34\n"
     ]
    }
   ],
   "source": [
    "pi = 3.14159\n",
    "h = 2 * pi * h_bar\n",
    "print(h)"
   ]
  },
  {
   "cell_type": "code",
   "execution_count": 7,
   "id": "2678dfde",
   "metadata": {},
   "outputs": [],
   "source": [
    "dims = 3                   # int, only digits\n",
    "ndim = 3.0                 # float, because of the '.'\n",
    "h_bar = 1.05457e-34        # float, because of the '.' or 'e'\n",
    "label = \"Energy (in MeV)\"  # str, quotes surround the text"
   ]
  },
  {
   "cell_type": "code",
   "execution_count": 8,
   "id": "49085256",
   "metadata": {},
   "outputs": [
    {
     "data": {
      "text/plain": [
       "float"
      ]
     },
     "execution_count": 8,
     "metadata": {},
     "output_type": "execute_result"
    }
   ],
   "source": [
    "type(h_bar)"
   ]
  },
  {
   "cell_type": "code",
   "execution_count": 9,
   "id": "45b2c7c9",
   "metadata": {},
   "outputs": [
    {
     "data": {
      "text/plain": [
       "int"
      ]
     },
     "execution_count": 9,
     "metadata": {},
     "output_type": "execute_result"
    }
   ],
   "source": [
    "type(42)"
   ]
  },
  {
   "cell_type": "code",
   "execution_count": 10,
   "id": "fcb051bd",
   "metadata": {},
   "outputs": [
    {
     "data": {
      "text/plain": [
       "42.0"
      ]
     },
     "execution_count": 10,
     "metadata": {},
     "output_type": "execute_result"
    }
   ],
   "source": [
    "float(42)"
   ]
  },
  {
   "cell_type": "code",
   "execution_count": 11,
   "id": "20636830",
   "metadata": {},
   "outputs": [
    {
     "data": {
      "text/plain": [
       "28"
      ]
     },
     "execution_count": 11,
     "metadata": {},
     "output_type": "execute_result"
    }
   ],
   "source": [
    "int(\"28\")"
   ]
  },
  {
   "cell_type": "code",
   "execution_count": 12,
   "id": "8366a3f0",
   "metadata": {},
   "outputs": [
    {
     "ename": "ValueError",
     "evalue": "invalid literal for int() with base 10: 'quark'",
     "output_type": "error",
     "traceback": [
      "\u001b[1;31m---------------------------------------------------------------------------\u001b[0m\n\u001b[1;31mValueError\u001b[0m                                Traceback (most recent call last)",
      "\u001b[1;32m<ipython-input-12-df7f23f9b45e>\u001b[0m in \u001b[0;36m<module>\u001b[1;34m()\u001b[0m\n\u001b[1;32m----> 1\u001b[1;33m \u001b[0mint\u001b[0m\u001b[1;33m(\u001b[0m\u001b[1;34m\"quark\"\u001b[0m\u001b[1;33m)\u001b[0m\u001b[1;33m\u001b[0m\u001b[0m\n\u001b[0m",
      "\u001b[1;31mValueError\u001b[0m: invalid literal for int() with base 10: 'quark'"
     ]
    }
   ],
   "source": [
    "int(\"quark\")"
   ]
  },
  {
   "cell_type": "code",
   "execution_count": 13,
   "id": "a7134ed9",
   "metadata": {},
   "outputs": [],
   "source": [
    "x = 3\n",
    "x = 1.05457e-34\n",
    "x = \"Energy (in MeV)\""
   ]
  },
  {
   "cell_type": "code",
   "execution_count": 14,
   "id": "afe5c7e3",
   "metadata": {},
   "outputs": [
    {
     "data": {
      "text/plain": [
       "False"
      ]
     },
     "execution_count": 14,
     "metadata": {},
     "output_type": "execute_result"
    }
   ],
   "source": [
    "bool(0)"
   ]
  },
  {
   "cell_type": "code",
   "execution_count": 15,
   "id": "6ccaee35",
   "metadata": {},
   "outputs": [
    {
     "data": {
      "text/plain": [
       "True"
      ]
     },
     "execution_count": 15,
     "metadata": {},
     "output_type": "execute_result"
    }
   ],
   "source": [
    "bool(\"Do we need Oxygen?\")"
   ]
  },
  {
   "cell_type": "code",
   "execution_count": 16,
   "id": "1e05bd8b",
   "metadata": {},
   "outputs": [
    {
     "ename": "TypeError",
     "evalue": "unsupported operand type(s) for /: 'str' and 'float'",
     "output_type": "error",
     "traceback": [
      "\u001b[1;31m---------------------------------------------------------------------------\u001b[0m\n\u001b[1;31mTypeError\u001b[0m                                 Traceback (most recent call last)",
      "\u001b[1;32m<ipython-input-16-8cdca6dc67bb>\u001b[0m in \u001b[0;36m<module>\u001b[1;34m()\u001b[0m\n\u001b[1;32m----> 1\u001b[1;33m \u001b[1;34m\"Gorgus\"\u001b[0m \u001b[1;33m/\u001b[0m \u001b[1;36m2.718\u001b[0m\u001b[1;33m\u001b[0m\u001b[0m\n\u001b[0m",
      "\u001b[1;31mTypeError\u001b[0m: unsupported operand type(s) for /: 'str' and 'float'"
     ]
    }
   ],
   "source": [
    "\"Gorgus\" / 2.718"
   ]
  },
  {
   "cell_type": "code",
   "execution_count": 17,
   "id": "4217a9b7",
   "metadata": {},
   "outputs": [],
   "source": [
    "x = 1  # Create x\n",
    "del x  # Destroy x"
   ]
  },
  {
   "cell_type": "code",
   "execution_count": 18,
   "id": "08e7abc7",
   "metadata": {},
   "outputs": [],
   "source": [
    "x = (42 * 65) - 1"
   ]
  },
  {
   "cell_type": "code",
   "execution_count": 19,
   "id": "bf2e17d7",
   "metadata": {},
   "outputs": [
    {
     "data": {
      "text/plain": [
       "107"
      ]
     },
     "execution_count": 19,
     "metadata": {},
     "output_type": "execute_result"
    }
   ],
   "source": [
    "42 + 65"
   ]
  },
  {
   "cell_type": "code",
   "execution_count": 20,
   "id": "52ccf273",
   "metadata": {},
   "outputs": [
    {
     "data": {
      "text/plain": [
       "108"
      ]
     },
     "execution_count": 20,
     "metadata": {},
     "output_type": "execute_result"
    }
   ],
   "source": [
    "(42 + 65) + 1"
   ]
  },
  {
   "cell_type": "code",
   "execution_count": 21,
   "id": "e7e42b2a",
   "metadata": {},
   "outputs": [],
   "source": [
    "x = \"Nature abhors a vacuum\"\n",
    "y = 'but loves a mop!'"
   ]
  },
  {
   "cell_type": "code",
   "execution_count": 22,
   "id": "dfc8d7d3",
   "metadata": {},
   "outputs": [],
   "source": [
    "p = \"proton\""
   ]
  },
  {
   "cell_type": "code",
   "execution_count": 23,
   "id": "7de8da9a",
   "metadata": {},
   "outputs": [
    {
     "data": {
      "text/plain": [
       "'r'"
      ]
     },
     "execution_count": 23,
     "metadata": {},
     "output_type": "execute_result"
    }
   ],
   "source": [
    "p[1]"
   ]
  },
  {
   "cell_type": "code",
   "execution_count": 24,
   "id": "9bb9405f",
   "metadata": {},
   "outputs": [
    {
     "data": {
      "text/plain": [
       "'n'"
      ]
     },
     "execution_count": 24,
     "metadata": {},
     "output_type": "execute_result"
    }
   ],
   "source": [
    "p[-1]"
   ]
  },
  {
   "cell_type": "code",
   "execution_count": 25,
   "id": "49d8a14d",
   "metadata": {},
   "outputs": [
    {
     "data": {
      "text/plain": [
       "'o'"
      ]
     },
     "execution_count": 25,
     "metadata": {},
     "output_type": "execute_result"
    }
   ],
   "source": [
    "p[len(p)-2]  # also works, but why write len(p) all the time?"
   ]
  },
  {
   "cell_type": "code",
   "execution_count": 26,
   "id": "61993c6f",
   "metadata": {},
   "outputs": [
    {
     "data": {
      "text/plain": [
       "'oto'"
      ]
     },
     "execution_count": 26,
     "metadata": {},
     "output_type": "execute_result"
    }
   ],
   "source": [
    "p[2:5]"
   ]
  },
  {
   "cell_type": "code",
   "execution_count": 27,
   "id": "33165037",
   "metadata": {},
   "outputs": [
    {
     "data": {
      "text/plain": [
       "'roto'"
      ]
     },
     "execution_count": 27,
     "metadata": {},
     "output_type": "execute_result"
    }
   ],
   "source": [
    "p[1:-1]"
   ]
  },
  {
   "cell_type": "code",
   "execution_count": 28,
   "id": "c587d136",
   "metadata": {},
   "outputs": [
    {
     "data": {
      "text/plain": [
       "''"
      ]
     },
     "execution_count": 28,
     "metadata": {},
     "output_type": "execute_result"
    }
   ],
   "source": [
    "p[-1:2]"
   ]
  },
  {
   "cell_type": "code",
   "execution_count": 29,
   "id": "a8eac559",
   "metadata": {},
   "outputs": [],
   "source": [
    "q = \"AaBbCcDdEeFfGgHhIiJjKkLlMmNnOoPpQqRrSsTtUuVvWwXxYyZz\""
   ]
  },
  {
   "cell_type": "code",
   "execution_count": 30,
   "id": "d2446cd8",
   "metadata": {},
   "outputs": [
    {
     "data": {
      "text/plain": [
       "'BCDEFGHIJKLMNOPQRSTUVWXY'"
      ]
     },
     "execution_count": 30,
     "metadata": {},
     "output_type": "execute_result"
    }
   ],
   "source": [
    "q[2:-2:2]"
   ]
  },
  {
   "cell_type": "code",
   "execution_count": 31,
   "id": "006dc23d",
   "metadata": {},
   "outputs": [
    {
     "data": {
      "text/plain": [
       "'abcdefghijklmnopqrstuvwxyz'"
      ]
     },
     "execution_count": 31,
     "metadata": {},
     "output_type": "execute_result"
    }
   ],
   "source": [
    "q[1::2]"
   ]
  },
  {
   "cell_type": "code",
   "execution_count": 32,
   "id": "0e0da1ec",
   "metadata": {},
   "outputs": [
    {
     "data": {
      "text/plain": [
       "'zYwVtSqPnMkJhGeDbA'"
      ]
     },
     "execution_count": 32,
     "metadata": {},
     "output_type": "execute_result"
    }
   ],
   "source": [
    "q[::-3]"
   ]
  },
  {
   "cell_type": "code",
   "execution_count": 33,
   "id": "27cedd86",
   "metadata": {},
   "outputs": [
    {
     "data": {
      "text/plain": [
       "True"
      ]
     },
     "execution_count": 33,
     "metadata": {},
     "output_type": "execute_result"
    }
   ],
   "source": [
    "x = \"neveroddoreven\"\n",
    "x == x[::-1]"
   ]
  },
  {
   "cell_type": "code",
   "execution_count": 34,
   "id": "a1a035bd",
   "metadata": {},
   "outputs": [
    {
     "data": {
      "text/plain": [
       "'ee'"
      ]
     },
     "execution_count": 34,
     "metadata": {},
     "output_type": "execute_result"
    }
   ],
   "source": [
    "my_slice = slice(3, 1415, 9)  # my slice of the pi\n",
    "x[my_slice]"
   ]
  },
  {
   "cell_type": "code",
   "execution_count": 35,
   "id": "a3b6c5e0",
   "metadata": {},
   "outputs": [
    {
     "data": {
      "text/plain": [
       "'kilometer'"
      ]
     },
     "execution_count": 35,
     "metadata": {},
     "output_type": "execute_result"
    }
   ],
   "source": [
    "\"kilo\" + \"meter\" "
   ]
  },
  {
   "cell_type": "code",
   "execution_count": 36,
   "id": "524bed43",
   "metadata": {},
   "outputs": [
    {
     "data": {
      "text/plain": [
       "'x^2'"
      ]
     },
     "execution_count": 36,
     "metadata": {},
     "output_type": "execute_result"
    }
   ],
   "source": [
    "\"x^\" + str(2) "
   ]
  },
  {
   "cell_type": "code",
   "execution_count": 37,
   "id": "45d37d0a",
   "metadata": {},
   "outputs": [
    {
     "data": {
      "text/plain": [
       "'newtonewtonewtonewtonewtonewtonewtonewtonewtonewto'"
      ]
     },
     "execution_count": 37,
     "metadata": {},
     "output_type": "execute_result"
    }
   ],
   "source": [
    "\"newto\" * 10"
   ]
  },
  {
   "cell_type": "code",
   "execution_count": 38,
   "id": "b3c7dae5",
   "metadata": {},
   "outputs": [
    {
     "data": {
      "text/plain": [
       "'H + H -> H2'"
      ]
     },
     "execution_count": 38,
     "metadata": {},
     "output_type": "execute_result"
    }
   ],
   "source": [
    "\"H + H\"    \" -> H2\""
   ]
  },
  {
   "cell_type": "code",
   "execution_count": 39,
   "id": "18bf3765",
   "metadata": {},
   "outputs": [],
   "source": [
    "quote = (\"Science is what we understand well enough to explain to a computer. \"\n",
    "         \"Art is everything else we do. \"\n",
    "         \"-Donald Knuth\")"
   ]
  },
  {
   "cell_type": "code",
   "execution_count": 40,
   "id": "6ab51bf6",
   "metadata": {},
   "outputs": [],
   "source": [
    "x = \"It's easy!\"\n",
    "y = 'The computer said, \"Does not compute.\"'"
   ]
  },
  {
   "cell_type": "code",
   "execution_count": 41,
   "id": "e0bba693",
   "metadata": {},
   "outputs": [
    {
     "data": {
      "text/plain": [
       "'Bones said, \"He\\'s dead, Jim.\"'"
      ]
     },
     "execution_count": 41,
     "metadata": {},
     "output_type": "execute_result"
    }
   ],
   "source": [
    "\"Bones said, \\\"He\\'s dead, Jim.\\\"\""
   ]
  },
  {
   "cell_type": "code",
   "execution_count": 42,
   "id": "5ed80775",
   "metadata": {},
   "outputs": [
    {
     "data": {
      "text/plain": [
       "\"Humpty, he sat on a wall,\\nThen Humpty, he had a great fall.\\nBut all the king's horses\\nAnd men with their forces\\nCouldn't render his entropy small.\\n\""
      ]
     },
     "execution_count": 42,
     "metadata": {},
     "output_type": "execute_result"
    }
   ],
   "source": [
    "\"\"\"Humpty, he sat on a wall,\n",
    "Then Humpty, he had a great fall.\n",
    "But all the king's horses\n",
    "And men with their forces\n",
    "Couldn't render his entropy small.\n",
    "\"\"\""
   ]
  },
  {
   "cell_type": "code",
   "execution_count": 43,
   "id": "369c833c",
   "metadata": {},
   "outputs": [],
   "source": [
    "header = \"  temperature  pressure\\t value \\n\""
   ]
  },
  {
   "cell_type": "code",
   "execution_count": 44,
   "id": "03ef02e0",
   "metadata": {},
   "outputs": [
    {
     "data": {
      "text/plain": [
       "'temperature  pressure\\t value'"
      ]
     },
     "execution_count": 44,
     "metadata": {},
     "output_type": "execute_result"
    }
   ],
   "source": [
    "header.strip()"
   ]
  },
  {
   "cell_type": "code",
   "execution_count": 45,
   "id": "ce447214",
   "metadata": {},
   "outputs": [
    {
     "data": {
      "text/plain": [
       "'  TEMPERATURE  PRESSURE\\t VALUE \\n'"
      ]
     },
     "execution_count": 45,
     "metadata": {},
     "output_type": "execute_result"
    }
   ],
   "source": [
    "header.upper()"
   ]
  },
  {
   "cell_type": "code",
   "execution_count": 46,
   "id": "c4fd904c",
   "metadata": {},
   "outputs": [
    {
     "data": {
      "text/plain": [
       "True"
      ]
     },
     "execution_count": 46,
     "metadata": {},
     "output_type": "execute_result"
    }
   ],
   "source": [
    "\"10\".isdigit()"
   ]
  },
  {
   "cell_type": "code",
   "execution_count": 47,
   "id": "873fabd2",
   "metadata": {},
   "outputs": [
    {
     "data": {
      "text/plain": [
       "False"
      ]
     },
     "execution_count": 47,
     "metadata": {},
     "output_type": "execute_result"
    }
   ],
   "source": [
    "\"10.10\".isdigit()"
   ]
  },
  {
   "cell_type": "code",
   "execution_count": 48,
   "id": "513d0cf8",
   "metadata": {},
   "outputs": [
    {
     "data": {
      "text/plain": [
       "'Hilbert gets into work & then his commute begins!'"
      ]
     },
     "execution_count": 48,
     "metadata": {},
     "output_type": "execute_result"
    }
   ],
   "source": [
    "\"{0} gets into work & then his {1} begins!\".format(\"Hilbert\", \"commute\")"
   ]
  },
  {
   "cell_type": "code",
   "execution_count": 49,
   "id": "775e7cc7",
   "metadata": {},
   "outputs": [],
   "source": [
    "x = 42\n",
    "y = 65.0"
   ]
  },
  {
   "cell_type": "code",
   "execution_count": 50,
   "id": "da0e961a",
   "metadata": {},
   "outputs": [
    {
     "data": {
      "text/plain": [
       "'x=42 y=65.0'"
      ]
     },
     "execution_count": 50,
     "metadata": {},
     "output_type": "execute_result"
    }
   ],
   "source": [
    "\"x={0} y={1}\".format(x, y)"
   ]
  },
  {
   "cell_type": "code",
   "execution_count": 51,
   "id": "cc0ab344",
   "metadata": {},
   "outputs": [
    {
     "data": {
      "text/plain": [
       "'x=42 y=65.0'"
      ]
     },
     "execution_count": 51,
     "metadata": {},
     "output_type": "execute_result"
    }
   ],
   "source": [
    "\"x=\" + str(x) + \" y=\" + str(y)"
   ]
  },
  {
   "cell_type": "code",
   "execution_count": 52,
   "id": "cf50fdb5",
   "metadata": {},
   "outputs": [],
   "source": [
    "import constants\n",
    "\n",
    "two_pi = 2 * constants.pi\n",
    "h_bar = constants.h / two_pi"
   ]
  },
  {
   "cell_type": "code",
   "execution_count": 53,
   "id": "13eadd32",
   "metadata": {},
   "outputs": [],
   "source": [
    "from constants import pi, h\n",
    "\n",
    "two_pi = 2 * pi\n",
    "h_bar = h / two_pi"
   ]
  },
  {
   "cell_type": "code",
   "execution_count": 54,
   "id": "eae059b6",
   "metadata": {},
   "outputs": [],
   "source": [
    "import constants as c\n",
    "\n",
    "constants = 2.71828\n",
    "\n",
    "two_pi = 2 * c.pi\n",
    "h_bar = c.h / 2 / c.pi"
   ]
  },
  {
   "cell_type": "code",
   "execution_count": 55,
   "id": "b5629cad",
   "metadata": {},
   "outputs": [],
   "source": [
    "from constants import pi as PI, h as H\n",
    "\n",
    "two_pi = 2 * PI\n",
    "h_bar = H / two_pi"
   ]
  }
 ],
 "metadata": {
  "kernelspec": {
   "display_name": "Python 3 (ipykernel)",
   "language": "python",
   "name": "python3"
  },
  "language_info": {
   "codemirror_mode": {
    "name": "ipython",
    "version": 3
   },
   "file_extension": ".py",
   "mimetype": "text/x-python",
   "name": "python",
   "nbconvert_exporter": "python",
   "pygments_lexer": "ipython3",
   "version": "3.8.12"
  }
 },
 "nbformat": 4,
 "nbformat_minor": 1
}
