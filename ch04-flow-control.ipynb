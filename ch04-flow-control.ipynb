{
 "cells": [
  {
   "cell_type": "code",
   "execution_count": 1,
   "id": "0767eeb7",
   "metadata": {},
   "outputs": [
    {
     "name": "stdout",
     "output_type": "stream",
     "text": [
      "h-bar isn't really unity! Resetting...\n"
     ]
    }
   ],
   "source": [
    "h_bar = 1.0\n",
    "if h_bar == 1.0:\n",
    "    print(\"h-bar isn't really unity! Resetting...\")\n",
    "    h_bar = 1.05457173e-34"
   ]
  },
  {
   "cell_type": "code",
   "execution_count": 2,
   "id": "dacc9fe8",
   "metadata": {},
   "outputs": [
    {
     "name": "stdout",
     "output_type": "stream",
     "text": [
      "h-bar isn't really unity! Resetting...\n"
     ]
    }
   ],
   "source": [
    "h_bar = 1\n",
    "if h_bar == 1:\n",
    "    print(\"h-bar isn't really unity! Resetting...\")\n",
    "    h_bar = 1.05457173e-34\n",
    "h = h_bar * 2 * 3.14159"
   ]
  },
  {
   "cell_type": "code",
   "execution_count": 3,
   "id": "a4a0fdfe",
   "metadata": {},
   "outputs": [
    {
     "data": {
      "text/plain": [
       "True"
      ]
     },
     "execution_count": 3,
     "metadata": {},
     "output_type": "execute_result"
    }
   ],
   "source": [
    "1 == 1"
   ]
  },
  {
   "cell_type": "code",
   "execution_count": 4,
   "id": "d0ceb4fb",
   "metadata": {},
   "outputs": [
    {
     "data": {
      "text/plain": [
       "True"
      ]
     },
     "execution_count": 4,
     "metadata": {},
     "output_type": "execute_result"
    }
   ],
   "source": [
    "1 == 1.0"
   ]
  },
  {
   "cell_type": "code",
   "execution_count": 5,
   "id": "4c18d646",
   "metadata": {},
   "outputs": [
    {
     "data": {
      "text/plain": [
       "False"
      ]
     },
     "execution_count": 5,
     "metadata": {},
     "output_type": "execute_result"
    }
   ],
   "source": [
    "1 is 1.0"
   ]
  },
  {
   "cell_type": "code",
   "execution_count": 6,
   "id": "3164f520",
   "metadata": {},
   "outputs": [
    {
     "data": {
      "text/plain": [
       "True"
      ]
     },
     "execution_count": 6,
     "metadata": {},
     "output_type": "execute_result"
    }
   ],
   "source": [
    "1 is 1"
   ]
  },
  {
   "cell_type": "code",
   "execution_count": 7,
   "id": "a786e5b1",
   "metadata": {},
   "outputs": [
    {
     "data": {
      "text/plain": [
       "True"
      ]
     },
     "execution_count": 7,
     "metadata": {},
     "output_type": "execute_result"
    }
   ],
   "source": [
    "10**10 == 10**10"
   ]
  },
  {
   "cell_type": "code",
   "execution_count": 8,
   "id": "669029e6",
   "metadata": {},
   "outputs": [
    {
     "data": {
      "text/plain": [
       "False"
      ]
     },
     "execution_count": 8,
     "metadata": {},
     "output_type": "execute_result"
    }
   ],
   "source": [
    "10**10 is 10**10"
   ]
  },
  {
   "cell_type": "code",
   "execution_count": 9,
   "id": "9dfdc1a3",
   "metadata": {},
   "outputs": [
    {
     "data": {
      "text/plain": [
       "True"
      ]
     },
     "execution_count": 9,
     "metadata": {},
     "output_type": "execute_result"
    }
   ],
   "source": [
    "None is None"
   ]
  },
  {
   "cell_type": "code",
   "execution_count": 10,
   "id": "bc9eb621",
   "metadata": {},
   "outputs": [
    {
     "data": {
      "text/plain": [
       "False"
      ]
     },
     "execution_count": 10,
     "metadata": {},
     "output_type": "execute_result"
    }
   ],
   "source": [
    "0 is None "
   ]
  },
  {
   "cell_type": "code",
   "execution_count": 11,
   "id": "1f4f3204",
   "metadata": {},
   "outputs": [
    {
     "data": {
      "text/plain": [
       "False"
      ]
     },
     "execution_count": 11,
     "metadata": {},
     "output_type": "execute_result"
    }
   ],
   "source": [
    "0 == None "
   ]
  },
  {
   "cell_type": "code",
   "execution_count": 12,
   "id": "f9ca310a",
   "metadata": {},
   "outputs": [],
   "source": [
    "h_bar = 1.05457173e-34 if h_bar == 1.0 else h_bar"
   ]
  },
  {
   "cell_type": "code",
   "execution_count": 13,
   "id": "89b14226",
   "metadata": {},
   "outputs": [
    {
     "ename": "ZeroDivisionError",
     "evalue": "float division by zero",
     "output_type": "error",
     "traceback": [
      "\u001b[1;31m---------------------------------------------------------------------------\u001b[0m\n\u001b[1;31mZeroDivisionError\u001b[0m                         Traceback (most recent call last)",
      "\u001b[1;32m<ipython-input-13-f48356829674>\u001b[0m in \u001b[0;36m<module>\u001b[1;34m()\u001b[0m\n\u001b[0;32m      1\u001b[0m \u001b[0mval\u001b[0m \u001b[1;33m=\u001b[0m \u001b[1;36m0.0\u001b[0m\u001b[1;33m\u001b[0m\u001b[0m\n\u001b[1;32m----> 2\u001b[1;33m \u001b[1;36m1.0\u001b[0m \u001b[1;33m/\u001b[0m \u001b[0mval\u001b[0m\u001b[1;33m\u001b[0m\u001b[0m\n\u001b[0m",
      "\u001b[1;31mZeroDivisionError\u001b[0m: float division by zero"
     ]
    }
   ],
   "source": [
    "val = 0.0\n",
    "1.0 / val"
   ]
  },
  {
   "cell_type": "code",
   "execution_count": 14,
   "id": "32209a23",
   "metadata": {},
   "outputs": [
    {
     "name": "stdout",
     "output_type": "stream",
     "text": [
      "A bad value was submitted 0.0, please try again\n"
     ]
    }
   ],
   "source": [
    "try:\n",
    "    inv = 1.0 / val\n",
    "except: \n",
    "    print(\"A bad value was submitted {0}, please try again\".format(val))"
   ]
  },
  {
   "cell_type": "code",
   "execution_count": 15,
   "id": "f5db0b02",
   "metadata": {},
   "outputs": [
    {
     "name": "stdout",
     "output_type": "stream",
     "text": [
      "A zero value was submitted, please try again\n"
     ]
    }
   ],
   "source": [
    "try:\n",
    "    inv = 1.0 / val\n",
    "except ZeroDivisionError: \n",
    "    print(\"A zero value was submitted, please try again\")"
   ]
  },
  {
   "cell_type": "code",
   "execution_count": 16,
   "id": "1e2a5e5a",
   "metadata": {},
   "outputs": [
    {
     "name": "stdout",
     "output_type": "stream",
     "text": [
      "A zero value was submitted, please try again\n"
     ]
    }
   ],
   "source": [
    "try:\n",
    "    inv = 1.0 / val\n",
    "except ZeroDivisionError: \n",
    "    print(\"A zero value was submitted, please try again\")\n",
    "except: \n",
    "    print(\"A bad value was submitted {0}, please try again\".format(val))"
   ]
  },
  {
   "cell_type": "code",
   "execution_count": 17,
   "id": "a0759713",
   "metadata": {},
   "outputs": [
    {
     "ename": "ZeroDivisionError",
     "evalue": "",
     "output_type": "error",
     "traceback": [
      "\u001b[1;31m---------------------------------------------------------------------------\u001b[0m\n\u001b[1;31mZeroDivisionError\u001b[0m                         Traceback (most recent call last)",
      "\u001b[1;32m<ipython-input-17-efb89bed2140>\u001b[0m in \u001b[0;36m<module>\u001b[1;34m()\u001b[0m\n\u001b[0;32m      1\u001b[0m \u001b[1;32mif\u001b[0m \u001b[0mval\u001b[0m \u001b[1;33m==\u001b[0m \u001b[1;36m0.0\u001b[0m\u001b[1;33m:\u001b[0m\u001b[1;33m\u001b[0m\u001b[0m\n\u001b[1;32m----> 2\u001b[1;33m     \u001b[1;32mraise\u001b[0m \u001b[0mZeroDivisionError\u001b[0m\u001b[1;33m\u001b[0m\u001b[0m\n\u001b[0m\u001b[0;32m      3\u001b[0m \u001b[0minv\u001b[0m \u001b[1;33m=\u001b[0m \u001b[1;36m1.0\u001b[0m \u001b[1;33m/\u001b[0m \u001b[0mval\u001b[0m\u001b[1;33m\u001b[0m\u001b[0m\n",
      "\u001b[1;31mZeroDivisionError\u001b[0m: "
     ]
    }
   ],
   "source": [
    "if val == 0.0:\n",
    "    raise ZeroDivisionError\n",
    "inv = 1.0 / val"
   ]
  },
  {
   "cell_type": "code",
   "execution_count": 18,
   "id": "743cb0a5",
   "metadata": {},
   "outputs": [
    {
     "ename": "ZeroDivisionError",
     "evalue": "taking the inverse of zero is forbidden!",
     "output_type": "error",
     "traceback": [
      "\u001b[1;31m---------------------------------------------------------------------------\u001b[0m\n\u001b[1;31mZeroDivisionError\u001b[0m                         Traceback (most recent call last)",
      "\u001b[1;32m<ipython-input-18-4665e2c4c5e3>\u001b[0m in \u001b[0;36m<module>\u001b[1;34m()\u001b[0m\n\u001b[0;32m      1\u001b[0m \u001b[1;32mif\u001b[0m \u001b[0mval\u001b[0m \u001b[1;33m==\u001b[0m \u001b[1;36m0.0\u001b[0m\u001b[1;33m:\u001b[0m\u001b[1;33m\u001b[0m\u001b[0m\n\u001b[1;32m----> 2\u001b[1;33m     \u001b[1;32mraise\u001b[0m \u001b[0mZeroDivisionError\u001b[0m\u001b[1;33m(\u001b[0m\u001b[1;34m\"taking the inverse of zero is forbidden!\"\u001b[0m\u001b[1;33m)\u001b[0m\u001b[1;33m\u001b[0m\u001b[0m\n\u001b[0m\u001b[0;32m      3\u001b[0m \u001b[0minv\u001b[0m \u001b[1;33m=\u001b[0m \u001b[1;36m1.0\u001b[0m \u001b[1;33m/\u001b[0m \u001b[0mval\u001b[0m\u001b[1;33m\u001b[0m\u001b[0m\n",
      "\u001b[1;31mZeroDivisionError\u001b[0m: taking the inverse of zero is forbidden!"
     ]
    }
   ],
   "source": [
    "if val == 0.0:\n",
    "    raise ZeroDivisionError(\"taking the inverse of zero is forbidden!\")\n",
    "inv = 1.0 / val"
   ]
  },
  {
   "cell_type": "code",
   "execution_count": 19,
   "id": "5c220224",
   "metadata": {},
   "outputs": [
    {
     "name": "stdout",
     "output_type": "stream",
     "text": [
      "t-minus 3\n",
      "t-minus 2\n",
      "t-minus 1\n",
      "blastoff!\n"
     ]
    }
   ],
   "source": [
    "t = 3\n",
    "while 0 < t:\n",
    "    print(\"t-minus \" + str(t))\n",
    "    t = t - 1\n",
    "print(\"blastoff!\")"
   ]
  },
  {
   "cell_type": "code",
   "execution_count": 20,
   "id": "e33305b6",
   "metadata": {},
   "outputs": [
    {
     "name": "stdout",
     "output_type": "stream",
     "text": [
      "I can't print that for you.\n"
     ]
    }
   ],
   "source": [
    "while False:\n",
    "    print(\"I am sorry, Dave.\")\n",
    "print(\"I can't print that for you.\")"
   ]
  },
  {
   "cell_type": "code",
   "execution_count": 21,
   "id": "6db1e00f",
   "metadata": {},
   "outputs": [],
   "source": [
    "# Uncomment the following to print forever\n",
    "#t = 3\n",
    "#while True:\n",
    "#    print(\"t-minus \" + str(t))\n",
    "#    t = t - 1\n",
    "#print(\"blastoff!\")"
   ]
  },
  {
   "cell_type": "code",
   "execution_count": 22,
   "id": "dc1f8c0a",
   "metadata": {},
   "outputs": [],
   "source": [
    "fib = [1, 1]\n",
    "while True:\n",
    "    x = fib[-2] + fib[-1]\n",
    "    if x%12 == 0:\n",
    "        break\n",
    "    fib.append(x)"
   ]
  },
  {
   "cell_type": "code",
   "execution_count": 23,
   "id": "a3d11d0b",
   "metadata": {},
   "outputs": [
    {
     "name": "stdout",
     "output_type": "stream",
     "text": [
      "t-minus 3\n",
      "t-minus 2\n",
      "t-minus 1\n",
      "blastoff!\n"
     ]
    }
   ],
   "source": [
    "for t in [3, 2, 1]:\n",
    "    print(\"t-minus \" + str(t))\n",
    "print(\"blastoff!\")"
   ]
  },
  {
   "cell_type": "code",
   "execution_count": 24,
   "id": "bb981255",
   "metadata": {},
   "outputs": [
    {
     "name": "stdout",
     "output_type": "stream",
     "text": [
      "t-minus 7\n",
      "t-minus 5\n",
      "t-minus 3\n",
      "t-minus 1\n",
      "blastoff!\n"
     ]
    }
   ],
   "source": [
    "for t in [7, 6, 5, 4, 3, 2, 1]:\n",
    "    if t%2 == 0:\n",
    "        continue\n",
    "    print(\"t-minus \" + str(t))\n",
    "print(\"blastoff!\")"
   ]
  },
  {
   "cell_type": "code",
   "execution_count": 25,
   "id": "dac346f7",
   "metadata": {},
   "outputs": [
    {
     "name": "stdout",
     "output_type": "stream",
     "text": [
      "G\n",
      "o\n",
      "r\n",
      "g\n",
      "u\n",
      "s\n"
     ]
    }
   ],
   "source": [
    "for letter in \"Gorgus\":\n",
    "    print(letter)"
   ]
  },
  {
   "cell_type": "code",
   "execution_count": 26,
   "id": "c15ee05b",
   "metadata": {},
   "outputs": [
    {
     "name": "stdout",
     "output_type": "stream",
     "text": [
      "0\n",
      "True\n",
      "Gorgus\n"
     ]
    }
   ],
   "source": [
    "for x in {\"Gorgus\", 0, True}:\n",
    "    print(x)"
   ]
  },
  {
   "cell_type": "code",
   "execution_count": 27,
   "id": "f8ee1f2d",
   "metadata": {},
   "outputs": [
    {
     "name": "stdout",
     "output_type": "stream",
     "text": [
      "birthday\n",
      "[1879, 3, 14]\n",
      "======\n",
      "last\n",
      "Einstein\n",
      "======\n",
      "first\n",
      "Albert\n",
      "======\n"
     ]
    }
   ],
   "source": [
    "d = {\"first\": \"Albert\", \n",
    "     \"last\": \"Einstein\", \n",
    "     \"birthday\": [1879, 3, 14]}\n",
    "\n",
    "for key in d:\n",
    "    print(key)\n",
    "    print(d[key])\n",
    "    print(\"======\")"
   ]
  },
  {
   "cell_type": "code",
   "execution_count": 28,
   "id": "79f962de",
   "metadata": {},
   "outputs": [
    {
     "name": "stdout",
     "output_type": "stream",
     "text": [
      "Keys:\n",
      "birthday\n",
      "last\n",
      "first\n",
      "\n",
      "======\n",
      "\n",
      "Values:\n",
      "[1879, 3, 14]\n",
      "Einstein\n",
      "Albert\n",
      "\n",
      "======\n",
      "\n",
      "Items:\n",
      "birthday [1879, 3, 14]\n",
      "last Einstein\n",
      "first Albert\n"
     ]
    }
   ],
   "source": [
    "d = {\"first\": \"Albert\", \n",
    "     \"last\": \"Einstein\", \n",
    "     \"birthday\": [1879, 3, 14]}\n",
    "\n",
    "print(\"Keys:\")\n",
    "for key in d.keys():\n",
    "    print(key)\n",
    "\n",
    "print(\"\\n======\\n\")\n",
    "\n",
    "print(\"Values:\")\n",
    "for value in d.values():\n",
    "    print(value)\n",
    "\n",
    "print(\"\\n======\\n\")\n",
    "\n",
    "print(\"Items:\")\n",
    "for key, value in d.items():\n",
    "    print(key, value)"
   ]
  },
  {
   "cell_type": "code",
   "execution_count": 29,
   "id": "c90e48f5",
   "metadata": {},
   "outputs": [
    {
     "name": "stdout",
     "output_type": "stream",
     "text": [
      "('birthday', [1879, 3, 14])\n",
      "('last', 'Einstein')\n",
      "('first', 'Albert')\n"
     ]
    }
   ],
   "source": [
    "for item in d.items():\n",
    "    print(item)"
   ]
  },
  {
   "cell_type": "code",
   "execution_count": 30,
   "id": "cc2eec5e",
   "metadata": {},
   "outputs": [
    {
     "name": "stdout",
     "output_type": "stream",
     "text": [
      "bottom\n",
      "down\n",
      "up\n",
      "strange\n",
      "top\n",
      "charm\n"
     ]
    }
   ],
   "source": [
    "quarks = {'up', 'down', 'top', 'bottom', 'charm', 'strange'}\n",
    "for quark in quarks:\n",
    "    print(quark)"
   ]
  },
  {
   "cell_type": "code",
   "execution_count": 31,
   "id": "b0a550c8",
   "metadata": {},
   "outputs": [],
   "source": [
    "upper_quarks = []\n",
    "for quark in quarks:\n",
    "    upper_quarks.append(quark.upper())"
   ]
  },
  {
   "cell_type": "code",
   "execution_count": 32,
   "id": "923d73b1",
   "metadata": {},
   "outputs": [
    {
     "data": {
      "text/plain": [
       "['BOTTOM', 'DOWN', 'UP', 'STRANGE', 'TOP', 'CHARM']"
      ]
     },
     "execution_count": 32,
     "metadata": {},
     "output_type": "execute_result"
    }
   ],
   "source": [
    "upper_quarks = [quark.upper() for quark in quarks]\n",
    "upper_quarks"
   ]
  },
  {
   "cell_type": "code",
   "execution_count": 33,
   "id": "72b2a722",
   "metadata": {},
   "outputs": [
    {
     "data": {
      "text/plain": [
       "{'charm', 'strange', 'top'}"
      ]
     },
     "execution_count": 33,
     "metadata": {},
     "output_type": "execute_result"
    }
   ],
   "source": [
    "entries = ['top', 'CHARm', 'Top', 'sTraNGe', 'strangE', 'top']\n",
    "quarks = {quark.lower() for quark in entries}\n",
    "quarks"
   ]
  },
  {
   "cell_type": "code",
   "execution_count": 34,
   "id": "155a0c53",
   "metadata": {},
   "outputs": [
    {
     "data": {
      "text/plain": [
       "{88: 7786, 1: 43, 10: 142, 12.5: 198.25, 65: 4267}"
      ]
     },
     "execution_count": 34,
     "metadata": {},
     "output_type": "execute_result"
    }
   ],
   "source": [
    "entries = [1, 10, 12.5, 65, 88]\n",
    "results = {x: x**2 + 42 for x in entries}\n",
    "results"
   ]
  },
  {
   "cell_type": "code",
   "execution_count": 35,
   "id": "83534ff3",
   "metadata": {},
   "outputs": [
    {
     "data": {
      "text/plain": [
       "{25, 3025}"
      ]
     },
     "execution_count": 35,
     "metadata": {},
     "output_type": "execute_result"
    }
   ],
   "source": [
    "{x**2 for x in fib if x%5 == 0}"
   ]
  },
  {
   "cell_type": "code",
   "execution_count": 36,
   "id": "4ac7e357",
   "metadata": {},
   "outputs": [
    {
     "data": {
      "text/plain": [
       "{'r': 1, 'theta': 2, 'phi': 3}"
      ]
     },
     "execution_count": 36,
     "metadata": {},
     "output_type": "execute_result"
    }
   ],
   "source": [
    "coords = {'x': 1, 'y': 2, 'z': 3, 'r': 1, 'theta': 2, 'phi': 3}\n",
    "polar_keys = {'r', 'theta', 'phi'}\n",
    "polar = {key: value for key, value in coords.items() if key in polar_keys}\n",
    "polar"
   ]
  }
 ],
 "metadata": {
  "kernelspec": {
   "display_name": "Python 3 (ipykernel)",
   "language": "python",
   "name": "python3"
  },
  "language_info": {
   "codemirror_mode": {
    "name": "ipython",
    "version": 3
   },
   "file_extension": ".py",
   "mimetype": "text/x-python",
   "name": "python",
   "nbconvert_exporter": "python",
   "pygments_lexer": "ipython3",
   "version": "3.8.12"
  }
 },
 "nbformat": 4,
 "nbformat_minor": 1
}
