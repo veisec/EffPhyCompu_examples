{
 "cells": [
  {
   "cell_type": "code",
   "execution_count": 1,
   "id": "1bcd8e41",
   "metadata": {},
   "outputs": [
    {
     "name": "stdout",
     "output_type": "stream",
     "text": [
      "Help on int object:\n",
      "\n",
      "class int(object)\n",
      " |  int(x=0) -> integer\n",
      " |  int(x, base=10) -> integer\n",
      " |  \n",
      " |  Convert a number or string to an integer, or return 0 if no arguments\n",
      " |  are given.  If x is a number, return x.__int__().  For floating point\n",
      " |  numbers, this truncates towards zero.\n",
      " |  \n",
      " |  If x is not a number or if base is given, then x must be a string,\n",
      " |  bytes, or bytearray instance representing an integer literal in the\n",
      " |  given base.  The literal can be preceded by '+' or '-' and be surrounded\n",
      " |  by whitespace.  The base defaults to 10.  Valid bases are 0 and 2-36.\n",
      " |  Base 0 means to interpret the base from the string as an integer literal.\n",
      " |  >>> int('0b100', base=0)\n",
      " |  4\n",
      " |  \n",
      " |  Methods defined here:\n",
      " |  \n",
      " |  __abs__(self, /)\n",
      " |      abs(self)\n",
      " |  \n",
      " |  __add__(self, value, /)\n",
      " |      Return self+value.\n",
      " |  \n",
      " |  __and__(self, value, /)\n",
      " |      Return self&value.\n",
      " |  \n",
      " |  __bool__(self, /)\n",
      " |      self != 0\n",
      " |  \n",
      " |  __ceil__(...)\n",
      " |      Ceiling of an Integral returns itself.\n",
      " |  \n",
      " |  __divmod__(self, value, /)\n",
      " |      Return divmod(self, value).\n",
      " |  \n",
      " |  __eq__(self, value, /)\n",
      " |      Return self==value.\n",
      " |  \n",
      " |  __float__(self, /)\n",
      " |      float(self)\n",
      " |  \n",
      " |  __floor__(...)\n",
      " |      Flooring an Integral returns itself.\n",
      " |  \n",
      " |  __floordiv__(self, value, /)\n",
      " |      Return self//value.\n",
      " |  \n",
      " |  __format__(...)\n",
      " |  \n",
      " |  __ge__(self, value, /)\n",
      " |      Return self>=value.\n",
      " |  \n",
      " |  __getattribute__(self, name, /)\n",
      " |      Return getattr(self, name).\n",
      " |  \n",
      " |  __getnewargs__(...)\n",
      " |  \n",
      " |  __gt__(self, value, /)\n",
      " |      Return self>value.\n",
      " |  \n",
      " |  __hash__(self, /)\n",
      " |      Return hash(self).\n",
      " |  \n",
      " |  __index__(self, /)\n",
      " |      Return self converted to an integer, if self is suitable for use as an index into a list.\n",
      " |  \n",
      " |  __int__(self, /)\n",
      " |      int(self)\n",
      " |  \n",
      " |  __invert__(self, /)\n",
      " |      ~self\n",
      " |  \n",
      " |  __le__(self, value, /)\n",
      " |      Return self<=value.\n",
      " |  \n",
      " |  __lshift__(self, value, /)\n",
      " |      Return self<<value.\n",
      " |  \n",
      " |  __lt__(self, value, /)\n",
      " |      Return self<value.\n",
      " |  \n",
      " |  __mod__(self, value, /)\n",
      " |      Return self%value.\n",
      " |  \n",
      " |  __mul__(self, value, /)\n",
      " |      Return self*value.\n",
      " |  \n",
      " |  __ne__(self, value, /)\n",
      " |      Return self!=value.\n",
      " |  \n",
      " |  __neg__(self, /)\n",
      " |      -self\n",
      " |  \n",
      " |  __new__(*args, **kwargs) from builtins.type\n",
      " |      Create and return a new object.  See help(type) for accurate signature.\n",
      " |  \n",
      " |  __or__(self, value, /)\n",
      " |      Return self|value.\n",
      " |  \n",
      " |  __pos__(self, /)\n",
      " |      +self\n",
      " |  \n",
      " |  __pow__(self, value, mod=None, /)\n",
      " |      Return pow(self, value, mod).\n",
      " |  \n",
      " |  __radd__(self, value, /)\n",
      " |      Return value+self.\n",
      " |  \n",
      " |  __rand__(self, value, /)\n",
      " |      Return value&self.\n",
      " |  \n",
      " |  __rdivmod__(self, value, /)\n",
      " |      Return divmod(value, self).\n",
      " |  \n",
      " |  __repr__(self, /)\n",
      " |      Return repr(self).\n",
      " |  \n",
      " |  __rfloordiv__(self, value, /)\n",
      " |      Return value//self.\n",
      " |  \n",
      " |  __rlshift__(self, value, /)\n",
      " |      Return value<<self.\n",
      " |  \n",
      " |  __rmod__(self, value, /)\n",
      " |      Return value%self.\n",
      " |  \n",
      " |  __rmul__(self, value, /)\n",
      " |      Return value*self.\n",
      " |  \n",
      " |  __ror__(self, value, /)\n",
      " |      Return value|self.\n",
      " |  \n",
      " |  __round__(...)\n",
      " |      Rounding an Integral returns itself.\n",
      " |      Rounding with an ndigits argument also returns an integer.\n",
      " |  \n",
      " |  __rpow__(self, value, mod=None, /)\n",
      " |      Return pow(value, self, mod).\n",
      " |  \n",
      " |  __rrshift__(self, value, /)\n",
      " |      Return value>>self.\n",
      " |  \n",
      " |  __rshift__(self, value, /)\n",
      " |      Return self>>value.\n",
      " |  \n",
      " |  __rsub__(self, value, /)\n",
      " |      Return value-self.\n",
      " |  \n",
      " |  __rtruediv__(self, value, /)\n",
      " |      Return value/self.\n",
      " |  \n",
      " |  __rxor__(self, value, /)\n",
      " |      Return value^self.\n",
      " |  \n",
      " |  __sizeof__(...)\n",
      " |      Returns size in memory, in bytes\n",
      " |  \n",
      " |  __str__(self, /)\n",
      " |      Return str(self).\n",
      " |  \n",
      " |  __sub__(self, value, /)\n",
      " |      Return self-value.\n",
      " |  \n",
      " |  __truediv__(self, value, /)\n",
      " |      Return self/value.\n",
      " |  \n",
      " |  __trunc__(...)\n",
      " |      Truncating an Integral returns itself.\n",
      " |  \n",
      " |  __xor__(self, value, /)\n",
      " |      Return self^value.\n",
      " |  \n",
      " |  bit_length(...)\n",
      " |      int.bit_length() -> int\n",
      " |      \n",
      " |      Number of bits necessary to represent self in binary.\n",
      " |      >>> bin(37)\n",
      " |      '0b100101'\n",
      " |      >>> (37).bit_length()\n",
      " |      6\n",
      " |  \n",
      " |  conjugate(...)\n",
      " |      Returns self, the complex conjugate of any int.\n",
      " |  \n",
      " |  from_bytes(...) from builtins.type\n",
      " |      int.from_bytes(bytes, byteorder, *, signed=False) -> int\n",
      " |      \n",
      " |      Return the integer represented by the given array of bytes.\n",
      " |      \n",
      " |      The bytes argument must either support the buffer protocol or be an\n",
      " |      iterable object producing bytes.  Bytes and bytearray are examples of\n",
      " |      built-in objects that support the buffer protocol.\n",
      " |      \n",
      " |      The byteorder argument determines the byte order used to represent the\n",
      " |      integer.  If byteorder is 'big', the most significant byte is at the\n",
      " |      beginning of the byte array.  If byteorder is 'little', the most\n",
      " |      significant byte is at the end of the byte array.  To request the native\n",
      " |      byte order of the host system, use `sys.byteorder' as the byte order value.\n",
      " |      \n",
      " |      The signed keyword-only argument indicates whether two's complement is\n",
      " |      used to represent the integer.\n",
      " |  \n",
      " |  to_bytes(...)\n",
      " |      int.to_bytes(length, byteorder, *, signed=False) -> bytes\n",
      " |      \n",
      " |      Return an array of bytes representing an integer.\n",
      " |      \n",
      " |      The integer is represented using length bytes.  An OverflowError is\n",
      " |      raised if the integer is not representable with the given number of\n",
      " |      bytes.\n",
      " |      \n",
      " |      The byteorder argument determines the byte order used to represent the\n",
      " |      integer.  If byteorder is 'big', the most significant byte is at the\n",
      " |      beginning of the byte array.  If byteorder is 'little', the most\n",
      " |      significant byte is at the end of the byte array.  To request the native\n",
      " |      byte order of the host system, use `sys.byteorder' as the byte order value.\n",
      " |      \n",
      " |      The signed keyword-only argument determines whether two's complement is\n",
      " |      used to represent the integer.  If signed is False and a negative integer\n",
      " |      is given, an OverflowError is raised.\n",
      " |  \n",
      " |  ----------------------------------------------------------------------\n",
      " |  Data descriptors defined here:\n",
      " |  \n",
      " |  denominator\n",
      " |      the denominator of a rational number in lowest terms\n",
      " |  \n",
      " |  imag\n",
      " |      the imaginary part of a complex number\n",
      " |  \n",
      " |  numerator\n",
      " |      the numerator of a rational number in lowest terms\n",
      " |  \n",
      " |  real\n",
      " |      the real part of a complex number\n",
      "\n"
     ]
    }
   ],
   "source": [
    "a = 1\n",
    "help(a)"
   ]
  },
  {
   "cell_type": "code",
   "execution_count": 2,
   "id": "cc50b3a6",
   "metadata": {},
   "outputs": [
    {
     "data": {
      "text/plain": [
       "['__abs__',\n",
       " '__add__',\n",
       " '__and__',\n",
       " '__bool__',\n",
       " '__ceil__',\n",
       " '__class__',\n",
       " '__delattr__',\n",
       " '__dir__',\n",
       " '__divmod__',\n",
       " '__doc__',\n",
       " '__eq__',\n",
       " '__float__',\n",
       " '__floor__',\n",
       " '__floordiv__',\n",
       " '__format__',\n",
       " '__ge__',\n",
       " '__getattribute__',\n",
       " '__getnewargs__',\n",
       " '__gt__',\n",
       " '__hash__',\n",
       " '__index__',\n",
       " '__init__',\n",
       " '__int__',\n",
       " '__invert__',\n",
       " '__le__',\n",
       " '__lshift__',\n",
       " '__lt__',\n",
       " '__mod__',\n",
       " '__mul__',\n",
       " '__ne__',\n",
       " '__neg__',\n",
       " '__new__',\n",
       " '__or__',\n",
       " '__pos__',\n",
       " '__pow__',\n",
       " '__radd__',\n",
       " '__rand__',\n",
       " '__rdivmod__',\n",
       " '__reduce__',\n",
       " '__reduce_ex__',\n",
       " '__repr__',\n",
       " '__rfloordiv__',\n",
       " '__rlshift__',\n",
       " '__rmod__',\n",
       " '__rmul__',\n",
       " '__ror__',\n",
       " '__round__',\n",
       " '__rpow__',\n",
       " '__rrshift__',\n",
       " '__rshift__',\n",
       " '__rsub__',\n",
       " '__rtruediv__',\n",
       " '__rxor__',\n",
       " '__setattr__',\n",
       " '__sizeof__',\n",
       " '__str__',\n",
       " '__sub__',\n",
       " '__subclasshook__',\n",
       " '__truediv__',\n",
       " '__trunc__',\n",
       " '__xor__',\n",
       " 'bit_length',\n",
       " 'conjugate',\n",
       " 'denominator',\n",
       " 'from_bytes',\n",
       " 'imag',\n",
       " 'numerator',\n",
       " 'real',\n",
       " 'to_bytes']"
      ]
     },
     "execution_count": 2,
     "metadata": {},
     "output_type": "execute_result"
    }
   ],
   "source": [
    "a = 1\n",
    "dir(a)"
   ]
  },
  {
   "cell_type": "code",
   "execution_count": 3,
   "id": "cf0fde4c",
   "metadata": {},
   "outputs": [
    {
     "data": {
      "text/plain": [
       "1"
      ]
     },
     "execution_count": 3,
     "metadata": {},
     "output_type": "execute_result"
    }
   ],
   "source": [
    "a = 1\n",
    "a.__abs__()"
   ]
  },
  {
   "cell_type": "code",
   "execution_count": 4,
   "id": "d6955604",
   "metadata": {},
   "outputs": [
    {
     "data": {
      "text/plain": [
       "2"
      ]
     },
     "execution_count": 4,
     "metadata": {},
     "output_type": "execute_result"
    }
   ],
   "source": [
    "b = -2\n",
    "b.__abs__()"
   ]
  },
  {
   "cell_type": "code",
   "execution_count": 5,
   "id": "edbabba0",
   "metadata": {},
   "outputs": [
    {
     "data": {
      "text/plain": [
       "1"
      ]
     },
     "execution_count": 5,
     "metadata": {},
     "output_type": "execute_result"
    }
   ],
   "source": [
    "a = 1\n",
    "abs(a)"
   ]
  },
  {
   "cell_type": "code",
   "execution_count": 6,
   "id": "df32670c",
   "metadata": {},
   "outputs": [
    {
     "data": {
      "text/plain": [
       "2"
      ]
     },
     "execution_count": 6,
     "metadata": {},
     "output_type": "execute_result"
    }
   ],
   "source": [
    "b = -2\n",
    "abs(b)"
   ]
  },
  {
   "cell_type": "code",
   "execution_count": 7,
   "id": "10e7dfd1",
   "metadata": {},
   "outputs": [
    {
     "data": {
      "text/plain": [
       "['__call__',\n",
       " '__class__',\n",
       " '__delattr__',\n",
       " '__dir__',\n",
       " '__doc__',\n",
       " '__eq__',\n",
       " '__format__',\n",
       " '__ge__',\n",
       " '__getattribute__',\n",
       " '__gt__',\n",
       " '__hash__',\n",
       " '__init__',\n",
       " '__le__',\n",
       " '__lt__',\n",
       " '__module__',\n",
       " '__name__',\n",
       " '__ne__',\n",
       " '__new__',\n",
       " '__qualname__',\n",
       " '__reduce__',\n",
       " '__reduce_ex__',\n",
       " '__repr__',\n",
       " '__self__',\n",
       " '__setattr__',\n",
       " '__sizeof__',\n",
       " '__str__',\n",
       " '__subclasshook__',\n",
       " '__text_signature__']"
      ]
     },
     "execution_count": 7,
     "metadata": {},
     "output_type": "execute_result"
    }
   ],
   "source": [
    "import math\n",
    "dir(math.sin)"
   ]
  },
  {
   "cell_type": "code",
   "execution_count": 8,
   "id": "60920de6",
   "metadata": {},
   "outputs": [
    {
     "data": {
      "text/plain": [
       "'sin(x)\\n\\nReturn the sine of x (measured in radians).'"
      ]
     },
     "execution_count": 8,
     "metadata": {},
     "output_type": "execute_result"
    }
   ],
   "source": [
    "import math \n",
    "math.sin.__doc__"
   ]
  },
  {
   "cell_type": "code",
   "execution_count": 9,
   "id": "74d928e0",
   "metadata": {},
   "outputs": [],
   "source": [
    "class Particle(object):\n",
    "    \"\"\"A particle is a constituent unit of the universe.\"\"\"\n",
    "    # class body definition here"
   ]
  },
  {
   "cell_type": "code",
   "execution_count": 10,
   "id": "518812ef",
   "metadata": {},
   "outputs": [],
   "source": [
    "# particle.py\n",
    "class Particle(object):\n",
    "    \"\"\"A particle is a constituent unit of the universe.\"\"\"\n",
    "    roar = \"I am a particle!\" "
   ]
  },
  {
   "cell_type": "code",
   "execution_count": 11,
   "id": "efc9815b",
   "metadata": {},
   "outputs": [],
   "source": [
    "import os\n",
    "import sys\n",
    "sys.path.insert(0, os.path.abspath('obj'))"
   ]
  },
  {
   "cell_type": "code",
   "execution_count": 12,
   "id": "6bb2ba33",
   "metadata": {},
   "outputs": [
    {
     "name": "stdout",
     "output_type": "stream",
     "text": [
      "I am a particle!\n"
     ]
    }
   ],
   "source": [
    "# import the particle module\n",
    "import particle as p\n",
    "print(p.Particle.roar)"
   ]
  },
  {
   "cell_type": "code",
   "execution_count": 13,
   "id": "7e33cea3",
   "metadata": {},
   "outputs": [
    {
     "name": "stdout",
     "output_type": "stream",
     "text": [
      "I am a particle!\n"
     ]
    }
   ],
   "source": [
    "# import the particle module\n",
    "import particle as p\n",
    "higgs = p.Particle()\n",
    "print(higgs.roar)"
   ]
  },
  {
   "cell_type": "code",
   "execution_count": 14,
   "id": "1e5d478a",
   "metadata": {},
   "outputs": [
    {
     "name": "stdout",
     "output_type": "stream",
     "text": [
      "{'x': 100.0, 'z': -42.0, 'y': 38.0}\n",
      "{'x': 0.01, 'z': 32.0, 'y': 99.0}\n"
     ]
    }
   ],
   "source": [
    "# import the Particle class from the particle module\n",
    "from particle import Particle\n",
    "\n",
    "# create an empty list to hold observed particle data\n",
    "obs = []\n",
    "\n",
    "# append the first particle\n",
    "obs.append(Particle())\n",
    "\n",
    "# assign its position\n",
    "obs[0].r = {'x': 100.0, 'y': 38.0, 'z': -42.0}\n",
    "\n",
    "# append the second particle\n",
    "obs.append(Particle())\n",
    "\n",
    "# assign the position of the second particle\n",
    "obs[1].r = {'x': 0.01, 'y': 99.0, 'z': 32.0}\n",
    "\n",
    "# print the positions of each particle\n",
    "print(obs[0].r)\n",
    "print(obs[1].r)"
   ]
  },
  {
   "cell_type": "code",
   "execution_count": 15,
   "id": "b1c9a1f0",
   "metadata": {},
   "outputs": [],
   "source": [
    "# particle.py\n",
    "class Particle(object):\n",
    "    \"\"\"A particle is a constituent unit of the universe.\n",
    "    \n",
    "    Attributes\n",
    "    ----------\n",
    "    c : charge in units of [e]\n",
    "    m : mass in units of [kg]\n",
    "    r : position in units of [meters]\n",
    "    \"\"\"\n",
    "\n",
    "    roar = \"I am a particle!\"\n",
    "\n",
    "    def __init__(self):\n",
    "        \"\"\"Initializes the particle with default values for \n",
    "        charge c, mass m, and position r.\n",
    "        \"\"\"\n",
    "        self.c = 0\n",
    "        self.m = 0\n",
    "        self.r = {'x': 0, 'y': 0, 'z': 0}\n"
   ]
  },
  {
   "cell_type": "code",
   "execution_count": 16,
   "id": "a5c15816",
   "metadata": {},
   "outputs": [],
   "source": [
    "# particle.py\n",
    "class Particle(object):\n",
    "    \"\"\"A particle is a constituent unit of the universe.\n",
    "    \n",
    "    Attributes\n",
    "    ----------\n",
    "    c : charge in units of [e]\n",
    "    m : mass in units of [kg]\n",
    "    r : position in units of [meters]\n",
    "    \"\"\"\n",
    "\n",
    "    roar = \"I am a particle!\"\n",
    "\n",
    "    def __init__(self, charge, mass, position):\n",
    "        \"\"\"Initializes the particle with supplied values for \n",
    "        charge c, mass m, and position r.\n",
    "        \"\"\"\n",
    "        self.c = charge\n",
    "        self.m = mass\n",
    "        self.r = position\n"
   ]
  },
  {
   "cell_type": "code",
   "execution_count": 17,
   "id": "ecb26a77",
   "metadata": {},
   "outputs": [],
   "source": [
    "# particle.py\n",
    "class Particle(object):\n",
    "    \"\"\"A particle is a constituent unit of the universe.\n",
    "    \n",
    "    Attributes\n",
    "    ----------\n",
    "    c : charge in units of [e]\n",
    "    m : mass in units of [kg]\n",
    "    r : position in units of [meters]\n",
    "    \"\"\"\n",
    "\n",
    "    roar = \"I am a particle!\"\n",
    "\n",
    "    def __init__(self, charge, mass, position): \n",
    "        \"\"\"Initializes the particle with supplied values for \n",
    "        charge c, mass m, and position r.\n",
    "        \"\"\"\n",
    "        self.c = charge\n",
    "        self.m = mass\n",
    "        self.r = position\n",
    "\n",
    "    def hear_me(self):\n",
    "        myroar = self.roar + (\n",
    "            \"  My charge is:     \" + str(self.c) + \n",
    "            \"  My mass is:       \" + str(self.m) +\n",
    "            \"  My x position is: \" + str(self.r['x']) +\n",
    "            \"  My y position is: \" + str(self.r['y']) +\n",
    "            \"  My z position is: \" + str(self.r['z']))\n",
    "        print(myroar)"
   ]
  },
  {
   "cell_type": "code",
   "execution_count": 18,
   "id": "0483931f",
   "metadata": {},
   "outputs": [
    {
     "name": "stdout",
     "output_type": "stream",
     "text": [
      "I am a particle!\n",
      " My mass is: 1.672621777e-27\n",
      " My charge is: 1\n",
      " My x position is: 1\n",
      " My y position is: 1\n",
      " My z position is: 53\n"
     ]
    }
   ],
   "source": [
    "from scipy import constants\n",
    "\n",
    "import particle as p\n",
    "\n",
    "m_p = constants.m_p\n",
    "r_p = {'x': 1, 'y': 1, 'z': 53}\n",
    "a_p = p.Particle(1, m_p, r_p)\n",
    "a_p.hear_me()"
   ]
  },
  {
   "cell_type": "code",
   "execution_count": 19,
   "id": "63644506",
   "metadata": {},
   "outputs": [],
   "source": [
    "def flip(self):\n",
    "    if self.flavor == \"up\":\n",
    "        self.flavor = \"down\"\n",
    "    elif self.flavor == \"down\":\n",
    "        self.flavor = \"up\"\n",
    "    elif self.flavor == \"top\":\n",
    "        self.flavor = \"bottom\"\n",
    "    elif self.flavor == \"bottom\":\n",
    "        self.flavor = \"top\"\n",
    "    elif self.flavor == \"strange\":\n",
    "        self.flavor = \"charm\"\n",
    "    elif self.flavor == \"charm\":\n",
    "        self.flavor = \"strange\"\n",
    "    else :\n",
    "        raise AttributeError(\"The quark cannot be flipped, because the \"\n",
    "                             \"flavor is not valid.\")"
   ]
  },
  {
   "cell_type": "code",
   "execution_count": 20,
   "id": "a5355b08",
   "metadata": {},
   "outputs": [
    {
     "name": "stdout",
     "output_type": "stream",
     "text": [
      "bottom\n"
     ]
    }
   ],
   "source": [
    "# import the class\n",
    "from quark import Quark\n",
    "\n",
    "# create a Quark object\n",
    "t = Quark()\n",
    "\n",
    "# set the flavor\n",
    "t.flavor = \"top\"\n",
    "\n",
    "# flip the flavor\n",
    "t.flip()\n",
    "\n",
    "# print the flavor\n",
    "print(t.flavor)"
   ]
  },
  {
   "cell_type": "code",
   "execution_count": 21,
   "id": "5cd3d161",
   "metadata": {},
   "outputs": [],
   "source": [
    "from scipy import constants\n",
    "\n",
    "class Particle(object):\n",
    "    \"\"\"A particle is a constituent unit of the universe.\"\"\"\n",
    "\n",
    "    # ... other parts of the class definition ...\n",
    "\n",
    "    def delta_x_min(self, delta_p_x):\n",
    "        hbar = constants.hbar\n",
    "        delx_min = hbar / (2.0 * delta_p_x)\n",
    "        return delx_min"
   ]
  },
  {
   "cell_type": "code",
   "execution_count": 22,
   "id": "af954878",
   "metadata": {},
   "outputs": [],
   "source": [
    "def possible_flavors():\n",
    "    return [\"up\", \"down\", \"top\", \"bottom\", \"strange\", \"charm\"]"
   ]
  },
  {
   "cell_type": "code",
   "execution_count": 23,
   "id": "175a5be7",
   "metadata": {},
   "outputs": [],
   "source": [
    "from scipy import constants\n",
    "\n",
    "def possible_flavors():\n",
    "  return[\"up\",\"down\",\"top\",\"bottom\",\"strange\",\"charm\"]\n",
    "\n",
    "class Particle(object):\n",
    "    \"\"\"A particle is a constituent unit of the universe.\"\"\"\n",
    "\n",
    "    # ... other parts of the class definition ...\n",
    "\n",
    "    def delta_x_min(self, delta_p_x):\n",
    "        hbar = constants.hbar\n",
    "        delx_min = hbar / (2.0 * delta_p_x)\n",
    "        return delx_min\n",
    "\n",
    "    @staticmethod\n",
    "    def possible_flavors():\n",
    "        return [\"up\", \"down\", \"top\", \"bottom\", \"strange\", \"charm\"]"
   ]
  },
  {
   "cell_type": "code",
   "execution_count": 24,
   "id": "0d0914eb",
   "metadata": {},
   "outputs": [],
   "source": [
    "def total_charge(particles):\n",
    "    tot = 0\n",
    "    for p in particles:\n",
    "        tot += p.c\n",
    "    return tot"
   ]
  },
  {
   "cell_type": "code",
   "execution_count": 25,
   "id": "e6d5b2ba",
   "metadata": {},
   "outputs": [],
   "source": [
    "def total_charge(collection):\n",
    "    tot = 0\n",
    "    for p in collection:\n",
    "        if isinstance(p, Particle):\n",
    "            tot += p.c\n",
    "    return tot"
   ]
  },
  {
   "cell_type": "code",
   "execution_count": 26,
   "id": "0fe232c2",
   "metadata": {},
   "outputs": [],
   "source": [
    "# elementary.py\n",
    "class ElementaryParticle(Particle):\n",
    "\n",
    "    def __init__(self, spin):\n",
    "        self.s = spin\n",
    "        self.is_fermion = bool(spin % 1.0)\n",
    "        self.is_boson = not self.is_fermion"
   ]
  },
  {
   "cell_type": "code",
   "execution_count": 27,
   "id": "e5a756f0",
   "metadata": {},
   "outputs": [],
   "source": [
    "# composite.py\n",
    "class CompositeParticle(Particle):\n",
    "\n",
    "    def __init__(self, parts):\n",
    "        self.constituents = parts"
   ]
  },
  {
   "cell_type": "code",
   "execution_count": 28,
   "id": "b5492bcd",
   "metadata": {},
   "outputs": [],
   "source": [
    "# elementary.py\n",
    "class ElementaryParticle(Particle):\n",
    "\n",
    "    roar = \"I am an Elementary Particle!\"\n",
    "\n",
    "    def __init__(self, spin):\n",
    "        self.s = spin\n",
    "        self.is_fermion = bool(spin % 1.0)\n",
    "        self.is_boson = not self.is_fermion"
   ]
  },
  {
   "cell_type": "code",
   "execution_count": 29,
   "id": "00909162",
   "metadata": {},
   "outputs": [
    {
     "ename": "AttributeError",
     "evalue": "'ElementaryParticle' object has no attribute 'm'",
     "output_type": "error",
     "traceback": [
      "\u001b[1;31m---------------------------------------------------------------------------\u001b[0m\n\u001b[1;31mAttributeError\u001b[0m                            Traceback (most recent call last)",
      "\u001b[1;32m<ipython-input-29-04a38822c38e>\u001b[0m in \u001b[0;36m<module>\u001b[1;34m()\u001b[0m\n\u001b[0;32m      4\u001b[0m \u001b[0mp\u001b[0m \u001b[1;33m=\u001b[0m \u001b[0mElementaryParticle\u001b[0m\u001b[1;33m(\u001b[0m\u001b[0mspin\u001b[0m\u001b[1;33m)\u001b[0m\u001b[1;33m\u001b[0m\u001b[0m\n\u001b[0;32m      5\u001b[0m \u001b[0mp\u001b[0m\u001b[1;33m.\u001b[0m\u001b[0ms\u001b[0m\u001b[1;33m\u001b[0m\u001b[0m\n\u001b[1;32m----> 6\u001b[1;33m \u001b[0mp\u001b[0m\u001b[1;33m.\u001b[0m\u001b[0mhear_me\u001b[0m\u001b[1;33m(\u001b[0m\u001b[1;33m)\u001b[0m\u001b[1;33m\u001b[0m\u001b[0m\n\u001b[0m",
      "\u001b[1;32m/home/scopatz/physics-codes-examples/obj/particle.py\u001b[0m in \u001b[0;36mhear_me\u001b[1;34m(self)\u001b[0m\n\u001b[0;32m     13\u001b[0m         \u001b[1;34m\" My x position is: \"\u001b[0m \u001b[1;33m+\u001b[0m \u001b[0mstr\u001b[0m\u001b[1;33m(\u001b[0m\u001b[0mself\u001b[0m\u001b[1;33m.\u001b[0m\u001b[0mr\u001b[0m\u001b[1;33m[\u001b[0m\u001b[1;34m'x'\u001b[0m\u001b[1;33m]\u001b[0m\u001b[1;33m)\u001b[0m \u001b[1;33m+\u001b[0m\u001b[1;34m\"\\n\"\u001b[0m\u001b[1;33m+\u001b[0m\u001b[0;31m\\\u001b[0m\u001b[1;33m\u001b[0m\u001b[0m\n\u001b[0;32m     14\u001b[0m         \u001b[1;34m\" My y position is: \"\u001b[0m \u001b[1;33m+\u001b[0m \u001b[0mstr\u001b[0m\u001b[1;33m(\u001b[0m\u001b[0mself\u001b[0m\u001b[1;33m.\u001b[0m\u001b[0mr\u001b[0m\u001b[1;33m[\u001b[0m\u001b[1;34m'y'\u001b[0m\u001b[1;33m]\u001b[0m\u001b[1;33m)\u001b[0m \u001b[1;33m+\u001b[0m\u001b[1;34m\"\\n\"\u001b[0m\u001b[1;33m+\u001b[0m\u001b[0;31m\\\u001b[0m\u001b[1;33m\u001b[0m\u001b[0m\n\u001b[1;32m---> 15\u001b[1;33m         \u001b[1;34m\" My z position is: \"\u001b[0m \u001b[1;33m+\u001b[0m \u001b[0mstr\u001b[0m\u001b[1;33m(\u001b[0m\u001b[0mself\u001b[0m\u001b[1;33m.\u001b[0m\u001b[0mr\u001b[0m\u001b[1;33m[\u001b[0m\u001b[1;34m'z'\u001b[0m\u001b[1;33m]\u001b[0m\u001b[1;33m)\u001b[0m\u001b[1;33m\u001b[0m\u001b[0m\n\u001b[0m\u001b[0;32m     16\u001b[0m         \u001b[0mprint\u001b[0m\u001b[1;33m(\u001b[0m\u001b[0mself\u001b[0m\u001b[1;33m.\u001b[0m\u001b[0mmyroar\u001b[0m\u001b[1;33m)\u001b[0m\u001b[1;33m\u001b[0m\u001b[0m\n\u001b[0;32m     17\u001b[0m \u001b[1;33m\u001b[0m\u001b[0m\n",
      "\u001b[1;31mAttributeError\u001b[0m: 'ElementaryParticle' object has no attribute 'm'"
     ]
    }
   ],
   "source": [
    "from elementary import ElementaryParticle\n",
    "\n",
    "spin = 1.5\n",
    "p = ElementaryParticle(spin)\n",
    "p.s\n",
    "p.hear_me()"
   ]
  },
  {
   "cell_type": "code",
   "execution_count": 30,
   "id": "f5159bdb",
   "metadata": {},
   "outputs": [],
   "source": [
    "import randphys as rp\n",
    "\n",
    "class Quark(ElementaryParticle):\n",
    "\n",
    "    def __init__(self):\n",
    "        phys = rp.RandomPhysics()\n",
    "        self.color = phys.color()\n",
    "        self.charge = phys.charge()\n",
    "        self.color_charge = phys.color_charge()\n",
    "        self.spin = phys.spin()\n",
    "        self.flavor = phys.flavor()"
   ]
  },
  {
   "cell_type": "code",
   "execution_count": 31,
   "id": "efa02332",
   "metadata": {},
   "outputs": [
    {
     "ename": "SyntaxError",
     "evalue": "invalid syntax (<ipython-input-31-7baafc632b38>, line 1)",
     "output_type": "error",
     "traceback": [
      "\u001b[1;36m  File \u001b[1;32m\"<ipython-input-31-7baafc632b38>\"\u001b[1;36m, line \u001b[1;32m1\u001b[0m\n\u001b[1;33m    def add_is_particle(cls): <1>\u001b[0m\n\u001b[1;37m                              ^\u001b[0m\n\u001b[1;31mSyntaxError\u001b[0m\u001b[1;31m:\u001b[0m invalid syntax\n"
     ]
    }
   ],
   "source": [
    "def add_is_particle(cls): <1>\n",
    "    cls.is_particle = True <2>\n",
    "    return cls <3>\n",
    "\n",
    "\n",
    "@add_is_particle <4>\n",
    "class Particle(object):\n",
    "    \"\"\"A particle is a constituent unit of the universe.\"\"\"\n",
    "\n",
    "    # ... other parts of the class definition ..."
   ]
  },
  {
   "cell_type": "code",
   "execution_count": 32,
   "id": "04705811",
   "metadata": {},
   "outputs": [],
   "source": [
    "from math import sqrt\n",
    "\n",
    "def add_distance(cls):\n",
    "    def distance(self, other): \n",
    "        d2 = 0.0\n",
    "        for axis in ['x', 'y', 'z']:\n",
    "            d2 += (self.r[axis] - other.r[axis])**2\n",
    "        d = sqrt(d2)\n",
    "        return d\n",
    "    cls.distance = distance\n",
    "    return cls \n",
    "\n",
    "\n",
    "@add_distance\n",
    "class Particle(object):\n",
    "    \"\"\"A particle is a constituent unit of the universe.\"\"\"\n",
    "\n",
    "    # ... other parts of the class definition ..."
   ]
  },
  {
   "cell_type": "code",
   "execution_count": 33,
   "id": "01f913d6",
   "metadata": {},
   "outputs": [
    {
     "data": {
      "text/plain": [
       "type"
      ]
     },
     "execution_count": 33,
     "metadata": {},
     "output_type": "execute_result"
    }
   ],
   "source": [
    "type(type)"
   ]
  },
  {
   "cell_type": "code",
   "execution_count": 34,
   "id": "378b2db6",
   "metadata": {},
   "outputs": [],
   "source": [
    "class IsParticle(type):\n",
    "    pass"
   ]
  },
  {
   "cell_type": "code",
   "execution_count": 35,
   "id": "c57c6286",
   "metadata": {},
   "outputs": [],
   "source": [
    "class Particle(metaclass=IsParticle):\n",
    "    \"\"\"A particle is a constituent unit of the universe.\"\"\"\n",
    "\n",
    "    # ... other parts of the class definition ..."
   ]
  },
  {
   "cell_type": "code",
   "execution_count": 36,
   "id": "f1f31a5c",
   "metadata": {},
   "outputs": [],
   "source": [
    "isinstance(Particle, IsParticle)\n",
    "p = Particle()"
   ]
  },
  {
   "cell_type": "code",
   "execution_count": 37,
   "id": "ee32b84d",
   "metadata": {},
   "outputs": [
    {
     "data": {
      "text/plain": [
       "False"
      ]
     },
     "execution_count": 37,
     "metadata": {},
     "output_type": "execute_result"
    }
   ],
   "source": [
    "isinstance(p, IsParticle)"
   ]
  }
 ],
 "metadata": {
  "kernelspec": {
   "display_name": "Python 3 (ipykernel)",
   "language": "python",
   "name": "python3"
  },
  "language_info": {
   "codemirror_mode": {
    "name": "ipython",
    "version": 3
   },
   "file_extension": ".py",
   "mimetype": "text/x-python",
   "name": "python",
   "nbconvert_exporter": "python",
   "pygments_lexer": "ipython3",
   "version": "3.8.12"
  }
 },
 "nbformat": 4,
 "nbformat_minor": 1
}
