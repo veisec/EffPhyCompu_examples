{
 "cells": [
  {
   "cell_type": "code",
   "execution_count": 1,
   "id": "13a0de2b",
   "metadata": {},
   "outputs": [],
   "source": [
    "import re"
   ]
  },
  {
   "cell_type": "code",
   "execution_count": 2,
   "id": "74c6ea2b",
   "metadata": {},
   "outputs": [
    {
     "data": {
      "text/plain": [
       "<_sre.SRE_Match object; span=(0, 10), match='2015-12-16'>"
      ]
     },
     "execution_count": 2,
     "metadata": {},
     "output_type": "execute_result"
    }
   ],
   "source": [
    "re.match(\"20[01][0-9].*[0-9][0-9].*[0-9][0-9]\", '2015-12-16')"
   ]
  },
  {
   "cell_type": "code",
   "execution_count": 3,
   "id": "f79f857e",
   "metadata": {},
   "outputs": [],
   "source": [
    "m = re.match(\"20[01][0-9].*[0-9][0-9].*[0-9][0-9]\", '2015-12-16')"
   ]
  },
  {
   "cell_type": "code",
   "execution_count": 4,
   "id": "624ff722",
   "metadata": {},
   "outputs": [
    {
     "data": {
      "text/plain": [
       "0"
      ]
     },
     "execution_count": 4,
     "metadata": {},
     "output_type": "execute_result"
    }
   ],
   "source": [
    "m.pos"
   ]
  },
  {
   "cell_type": "code",
   "execution_count": 5,
   "id": "7bb604d2",
   "metadata": {},
   "outputs": [
    {
     "data": {
      "text/plain": [
       "()"
      ]
     },
     "execution_count": 5,
     "metadata": {},
     "output_type": "execute_result"
    }
   ],
   "source": [
    "m.groups()"
   ]
  },
  {
   "cell_type": "code",
   "execution_count": 6,
   "id": "cbebee74",
   "metadata": {},
   "outputs": [],
   "source": [
    "m = re.match(\"20[01][0-9].*[0-9][0-9].*[0-9][0-9]\", 'not-a-date')"
   ]
  },
  {
   "cell_type": "code",
   "execution_count": 7,
   "id": "570a82df",
   "metadata": {},
   "outputs": [
    {
     "data": {
      "text/plain": [
       "True"
      ]
     },
     "execution_count": 7,
     "metadata": {},
     "output_type": "execute_result"
    }
   ],
   "source": [
    "m is None"
   ]
  },
  {
   "cell_type": "code",
   "execution_count": 8,
   "id": "4815b518",
   "metadata": {},
   "outputs": [],
   "source": [
    "re_date = re.compile(\"(20[01][0-9]).*([0-9][0-9]).*([0-9][0-9])\")"
   ]
  },
  {
   "cell_type": "code",
   "execution_count": 9,
   "id": "661d5b10",
   "metadata": {},
   "outputs": [
    {
     "data": {
      "text/plain": [
       "<_sre.SRE_Match object; span=(0, 10), match='2014-28-01'>"
      ]
     },
     "execution_count": 9,
     "metadata": {},
     "output_type": "execute_result"
    }
   ],
   "source": [
    "re_date.match('2014-28-01')"
   ]
  },
  {
   "cell_type": "code",
   "execution_count": 10,
   "id": "08272f6f",
   "metadata": {},
   "outputs": [],
   "source": [
    "m = re_date.match('2014-28-01')"
   ]
  },
  {
   "cell_type": "code",
   "execution_count": 11,
   "id": "595863b5",
   "metadata": {},
   "outputs": [
    {
     "data": {
      "text/plain": [
       "('2014', '28', '01')"
      ]
     },
     "execution_count": 11,
     "metadata": {},
     "output_type": "execute_result"
    }
   ],
   "source": [
    "m.groups()"
   ]
  }
 ],
 "metadata": {
  "kernelspec": {
   "display_name": "Python 3 (ipykernel)",
   "language": "python",
   "name": "python3"
  },
  "language_info": {
   "codemirror_mode": {
    "name": "ipython",
    "version": 3
   },
   "file_extension": ".py",
   "mimetype": "text/x-python",
   "name": "python",
   "nbconvert_exporter": "python",
   "pygments_lexer": "ipython3",
   "version": "3.8.12"
  }
 },
 "nbformat": 4,
 "nbformat_minor": 1
}
