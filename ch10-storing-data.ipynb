{
 "cells": [
  {
   "cell_type": "code",
   "execution_count": 1,
   "id": "ec2fbb7e",
   "metadata": {},
   "outputs": [],
   "source": [
    "f = open('matrix.txt')\n",
    "matrix = []\n",
    "for line in f.readlines():\n",
    "    row = [int(x) for x in line.split(',')]\n",
    "    matrix.append(row)\n",
    "f.close()"
   ]
  },
  {
   "cell_type": "code",
   "execution_count": 2,
   "id": "fd6e9a29",
   "metadata": {},
   "outputs": [
    {
     "data": {
      "text/plain": [
       "[[1, 4, 15, 9], [0, 11, 7, 3], [2, 8, 12, 13], [14, 5, 10, 6]]"
      ]
     },
     "execution_count": 2,
     "metadata": {},
     "output_type": "execute_result"
    }
   ],
   "source": [
    "matrix"
   ]
  },
  {
   "cell_type": "code",
   "execution_count": 3,
   "id": "1115bf28",
   "metadata": {},
   "outputs": [],
   "source": [
    "f = open('matrix.txt', 'r+')\n",
    "orig = f.read()\n",
    "f.seek(0)\n",
    "#f.write('0,0,0,0\\n')\n",
    "#f.write(orig)\n",
    "#f.write('\\n1,1,1,1')\n",
    "f.close()"
   ]
  },
  {
   "cell_type": "code",
   "execution_count": 4,
   "id": "4e50f920",
   "metadata": {},
   "outputs": [
    {
     "data": {
      "text/plain": [
       "[[1, 4, 15, 9], [0, 11, 7, 3], [2, 8, 12, 13], [14, 5, 10, 6]]"
      ]
     },
     "execution_count": 4,
     "metadata": {},
     "output_type": "execute_result"
    }
   ],
   "source": [
    "matrix"
   ]
  },
  {
   "cell_type": "code",
   "execution_count": 5,
   "id": "0b8899bb",
   "metadata": {},
   "outputs": [
    {
     "data": {
      "text/plain": [
       "[[1, 4, 15, 9], [0, 11, 7, 3], [2, 8, 12, 13], [14, 5, 10, 6]]"
      ]
     },
     "execution_count": 5,
     "metadata": {},
     "output_type": "execute_result"
    }
   ],
   "source": [
    "matrix = []\n",
    "with open('matrix.txt') as f:\n",
    "    for line in f.readlines():\n",
    "        row = [int(x) for x in line.split(',')]\n",
    "        matrix.append(row)\n",
    "matrix"
   ]
  },
  {
   "cell_type": "code",
   "execution_count": 6,
   "id": "2cb74277",
   "metadata": {},
   "outputs": [],
   "source": [
    "import os\n",
    "import numpy as np\n",
    "if os.path.isfile('ch10.h5'):\n",
    "    os.remove('ch10.h5')"
   ]
  },
  {
   "cell_type": "code",
   "execution_count": 7,
   "id": "a2ca10cc",
   "metadata": {},
   "outputs": [],
   "source": [
    "import tables as tb\n",
    "f = tb.open_file('ch10.h5', 'a')"
   ]
  },
  {
   "cell_type": "code",
   "execution_count": 8,
   "id": "5ac39527",
   "metadata": {},
   "outputs": [
    {
     "data": {
      "text/plain": [
       "/a_group (Group) 'My Group'\n",
       "  children := []"
      ]
     },
     "execution_count": 8,
     "metadata": {},
     "output_type": "execute_result"
    }
   ],
   "source": [
    "f.create_group('/', 'a_group', \"My Group\")\n",
    "f.root.a_group"
   ]
  },
  {
   "cell_type": "code",
   "execution_count": 9,
   "id": "2cafeb1f",
   "metadata": {},
   "outputs": [],
   "source": [
    "# integer array\n",
    "f.create_array('/a_group', 'arthur_count', [1, 2, 5, 3])\n",
    "\n",
    "# tables need descriptions\n",
    "dt = np.dtype([('id', int), ('name', 'S10')])\n",
    "knights = np.array([(42, 'Lancelot'), (12, 'Bedivere')], dtype=dt)\n",
    "f.create_table('/', 'knights', dt)\n",
    "f.root.knights.append(knights)"
   ]
  },
  {
   "cell_type": "code",
   "execution_count": 10,
   "id": "0f27cc81",
   "metadata": {},
   "outputs": [
    {
     "data": {
      "text/plain": [
       "[1, 2, 5, 3]"
      ]
     },
     "execution_count": 10,
     "metadata": {},
     "output_type": "execute_result"
    }
   ],
   "source": [
    "f.root.a_group.arthur_count[:]"
   ]
  },
  {
   "cell_type": "code",
   "execution_count": 11,
   "id": "1b780b77",
   "metadata": {},
   "outputs": [
    {
     "data": {
      "text/plain": [
       "list"
      ]
     },
     "execution_count": 11,
     "metadata": {},
     "output_type": "execute_result"
    }
   ],
   "source": [
    "type(f.root.a_group.arthur_count[:])"
   ]
  },
  {
   "cell_type": "code",
   "execution_count": 12,
   "id": "2a77ea2a",
   "metadata": {},
   "outputs": [
    {
     "data": {
      "text/plain": [
       "tables.array.Array"
      ]
     },
     "execution_count": 12,
     "metadata": {},
     "output_type": "execute_result"
    }
   ],
   "source": [
    "type(f.root.a_group.arthur_count)"
   ]
  },
  {
   "cell_type": "code",
   "execution_count": 13,
   "id": "388c8023",
   "metadata": {},
   "outputs": [
    {
     "data": {
      "text/plain": [
       "(12, b'Bedivere')"
      ]
     },
     "execution_count": 13,
     "metadata": {},
     "output_type": "execute_result"
    }
   ],
   "source": [
    "f.root.knights[1]"
   ]
  },
  {
   "cell_type": "code",
   "execution_count": 14,
   "id": "0b7205c3",
   "metadata": {},
   "outputs": [
    {
     "data": {
      "text/plain": [
       "array([(42, b'Lancelot')], \n",
       "      dtype=[('id', '<i8'), ('name', 'S10')])"
      ]
     },
     "execution_count": 14,
     "metadata": {},
     "output_type": "execute_result"
    }
   ],
   "source": [
    "f.root.knights[:1] "
   ]
  },
  {
   "cell_type": "code",
   "execution_count": 15,
   "id": "9f1c5ee4",
   "metadata": {},
   "outputs": [
    {
     "data": {
      "text/plain": [
       "array([(12, b'Bedivere')], \n",
       "      dtype=[('id', '<i8'), ('name', 'S10')])"
      ]
     },
     "execution_count": 15,
     "metadata": {},
     "output_type": "execute_result"
    }
   ],
   "source": [
    "mask = (f.root.knights.cols.id[:] < 28)\n",
    "f.root.knights[mask]"
   ]
  },
  {
   "cell_type": "code",
   "execution_count": 16,
   "id": "39ff58b6",
   "metadata": {},
   "outputs": [
    {
     "data": {
      "text/plain": [
       "array([(12, b'Bedivere'), (42, b'Lancelot')], \n",
       "      dtype=[('id', '<i8'), ('name', 'S10')])"
      ]
     },
     "execution_count": 16,
     "metadata": {},
     "output_type": "execute_result"
    }
   ],
   "source": [
    "f.root.knights[([1, 0],)]"
   ]
  },
  {
   "cell_type": "code",
   "execution_count": 17,
   "id": "a48d9684",
   "metadata": {},
   "outputs": [],
   "source": [
    "# don't forget to close the file\n",
    "f.close()"
   ]
  },
  {
   "cell_type": "code",
   "execution_count": 18,
   "id": "9597bce0",
   "metadata": {},
   "outputs": [
    {
     "data": {
      "text/plain": [
       "/c (CArray(10, 10000)) ''\n",
       "  atom := Float32Atom(shape=(), dflt=3.0)\n",
       "  maindim := 0\n",
       "  flavor := 'numpy'\n",
       "  byteorder := 'little'\n",
       "  chunkshape := (1, 10000)"
      ]
     },
     "execution_count": 18,
     "metadata": {},
     "output_type": "execute_result"
    }
   ],
   "source": [
    "# clean-up\n",
    "if os.path.isfile('ch10-1.h5'):\n",
    "    os.remove('ch10-1.h5')\n",
    "\n",
    "# open a new file\n",
    "shape = (10, 10000)\n",
    "f = tb.open_file('ch10-1.h5', \"w\")\n",
    "\n",
    "# create the arrays \n",
    "a = f.create_carray(f.root, 'a', tb.Float32Atom(dflt=1.), shape)\n",
    "b = f.create_carray(f.root, 'b', tb.Float32Atom(dflt=2.), shape)\n",
    "c = f.create_carray(f.root, 'c', tb.Float32Atom(dflt=3.), shape)\n",
    "\n",
    "# evaluate the expression, using the c array as the output\n",
    "expr = tb.Expr(\"42*a + 28*b + 6\")\n",
    "expr.set_output(c)\n",
    "expr.eval()"
   ]
  },
  {
   "cell_type": "code",
   "execution_count": 19,
   "id": "d485324c",
   "metadata": {},
   "outputs": [],
   "source": [
    "# close the file\n",
    "f.close()"
   ]
  }
 ],
 "metadata": {
  "kernelspec": {
   "display_name": "Python 3 (ipykernel)",
   "language": "python",
   "name": "python3"
  },
  "language_info": {
   "codemirror_mode": {
    "name": "ipython",
    "version": 3
   },
   "file_extension": ".py",
   "mimetype": "text/x-python",
   "name": "python",
   "nbconvert_exporter": "python",
   "pygments_lexer": "ipython3",
   "version": "3.8.12"
  }
 },
 "nbformat": 4,
 "nbformat_minor": 1
}
