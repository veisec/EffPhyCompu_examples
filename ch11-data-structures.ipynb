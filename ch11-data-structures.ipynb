{
 "cells": [
  {
   "cell_type": "code",
   "execution_count": 1,
   "id": "f24b5a43",
   "metadata": {},
   "outputs": [
    {
     "data": {
      "text/plain": [
       "True"
      ]
     },
     "execution_count": 1,
     "metadata": {},
     "output_type": "execute_result"
    }
   ],
   "source": [
    "hash('') == hash(0) == hash(0.0) == hash(False) == 0"
   ]
  },
  {
   "cell_type": "code",
   "execution_count": 2,
   "id": "71a08bae",
   "metadata": {},
   "outputs": [],
   "source": [
    "import pandas as pd"
   ]
  },
  {
   "cell_type": "code",
   "execution_count": 3,
   "id": "4c8aa9fc",
   "metadata": {},
   "outputs": [
    {
     "data": {
      "text/plain": [
       "0    42\n",
       "1    43\n",
       "2    44\n",
       "dtype: float64"
      ]
     },
     "execution_count": 3,
     "metadata": {},
     "output_type": "execute_result"
    }
   ],
   "source": [
    "pd.Series([42, 43, 44], dtype='f8')"
   ]
  },
  {
   "cell_type": "code",
   "execution_count": 4,
   "id": "6b705847",
   "metadata": {},
   "outputs": [],
   "source": [
    "s = pd.Series([42, 43, 44], \n",
    "      index=[\"electron\", \n",
    "             \"proton\", \n",
    "             \"neutron\"])"
   ]
  },
  {
   "cell_type": "code",
   "execution_count": 5,
   "id": "e927ebf2",
   "metadata": {},
   "outputs": [
    {
     "data": {
      "text/plain": [
       "electron    42\n",
       "proton      43\n",
       "neutron     44\n",
       "dtype: int64"
      ]
     },
     "execution_count": 5,
     "metadata": {},
     "output_type": "execute_result"
    }
   ],
   "source": [
    "s"
   ]
  },
  {
   "cell_type": "code",
   "execution_count": 6,
   "id": "3a5f2e88",
   "metadata": {},
   "outputs": [
    {
     "data": {
      "text/plain": [
       "42"
      ]
     },
     "execution_count": 6,
     "metadata": {},
     "output_type": "execute_result"
    }
   ],
   "source": [
    "s['electron']"
   ]
  },
  {
   "cell_type": "code",
   "execution_count": 7,
   "id": "5bf632c3",
   "metadata": {},
   "outputs": [
    {
     "data": {
      "text/plain": [
       "electron    42\n",
       "proton      43\n",
       "dtype: int64"
      ]
     },
     "execution_count": 7,
     "metadata": {},
     "output_type": "execute_result"
    }
   ],
   "source": [
    "# inclusive bounds\n",
    "s['electron':'proton']"
   ]
  },
  {
   "cell_type": "code",
   "execution_count": 8,
   "id": "c9805f3d",
   "metadata": {},
   "outputs": [
    {
     "data": {
      "text/plain": [
       "proton     43\n",
       "neutron    44\n",
       "dtype: int64"
      ]
     },
     "execution_count": 8,
     "metadata": {},
     "output_type": "execute_result"
    }
   ],
   "source": [
    "# integer indexing still OK\n",
    "s[1:]"
   ]
  },
  {
   "cell_type": "code",
   "execution_count": 9,
   "id": "3d876724",
   "metadata": {},
   "outputs": [],
   "source": [
    "t = pd.Series({'electron': 6, \n",
    "              'neutron': 28, \n",
    "              'proton': 496, \n",
    "              'neutrino': 8128})"
   ]
  },
  {
   "cell_type": "code",
   "execution_count": 10,
   "id": "85209bd8",
   "metadata": {},
   "outputs": [
    {
     "data": {
      "text/plain": [
       "electron       6\n",
       "neutrino    8128\n",
       "neutron       28\n",
       "proton       496\n",
       "dtype: int64"
      ]
     },
     "execution_count": 10,
     "metadata": {},
     "output_type": "execute_result"
    }
   ],
   "source": [
    "t"
   ]
  },
  {
   "cell_type": "code",
   "execution_count": 11,
   "id": "c505c83a",
   "metadata": {},
   "outputs": [
    {
     "data": {
      "text/plain": [
       "electron     48\n",
       "neutrino    NaN\n",
       "neutron      72\n",
       "proton      539\n",
       "dtype: float64"
      ]
     },
     "execution_count": 11,
     "metadata": {},
     "output_type": "execute_result"
    }
   ],
   "source": [
    "s + t"
   ]
  },
  {
   "cell_type": "code",
   "execution_count": 12,
   "id": "75a27c5f",
   "metadata": {},
   "outputs": [],
   "source": [
    "df = pd.DataFrame({'S': s, 'T': t})"
   ]
  },
  {
   "cell_type": "code",
   "execution_count": 13,
   "id": "1dac5458",
   "metadata": {},
   "outputs": [
    {
     "data": {
      "text/html": [
       "<div style=\"max-height:1000px;max-width:1500px;overflow:auto;\">\n",
       "<table border=\"1\" class=\"dataframe\">\n",
       "  <thead>\n",
       "    <tr style=\"text-align: right;\">\n",
       "      <th></th>\n",
       "      <th>S</th>\n",
       "      <th>T</th>\n",
       "    </tr>\n",
       "  </thead>\n",
       "  <tbody>\n",
       "    <tr>\n",
       "      <th>electron</th>\n",
       "      <td>42</td>\n",
       "      <td>6</td>\n",
       "    </tr>\n",
       "    <tr>\n",
       "      <th>neutrino</th>\n",
       "      <td>NaN</td>\n",
       "      <td>8128</td>\n",
       "    </tr>\n",
       "    <tr>\n",
       "      <th>neutron</th>\n",
       "      <td>44</td>\n",
       "      <td>28</td>\n",
       "    </tr>\n",
       "    <tr>\n",
       "      <th>proton</th>\n",
       "      <td>43</td>\n",
       "      <td>496</td>\n",
       "    </tr>\n",
       "  </tbody>\n",
       "</table>\n",
       "</div>"
      ],
      "text/plain": [
       "           S     T\n",
       "electron  42     6\n",
       "neutrino NaN  8128\n",
       "neutron   44    28\n",
       "proton    43   496"
      ]
     },
     "execution_count": 13,
     "metadata": {},
     "output_type": "execute_result"
    }
   ],
   "source": [
    "df"
   ]
  },
  {
   "cell_type": "code",
   "execution_count": 14,
   "id": "4657f27a",
   "metadata": {},
   "outputs": [
    {
     "data": {
      "text/html": [
       "<div style=\"max-height:1000px;max-width:1500px;overflow:auto;\">\n",
       "<table border=\"1\" class=\"dataframe\">\n",
       "  <thead>\n",
       "    <tr style=\"text-align: right;\">\n",
       "      <th></th>\n",
       "      <th>S</th>\n",
       "      <th>T</th>\n",
       "    </tr>\n",
       "  </thead>\n",
       "  <tbody>\n",
       "    <tr>\n",
       "      <th>electron</th>\n",
       "      <td>42</td>\n",
       "      <td>6</td>\n",
       "    </tr>\n",
       "    <tr>\n",
       "      <th>neutron</th>\n",
       "      <td>44</td>\n",
       "      <td>28</td>\n",
       "    </tr>\n",
       "  </tbody>\n",
       "</table>\n",
       "</div>"
      ],
      "text/plain": [
       "           S   T\n",
       "electron  42   6\n",
       "neutron   44  28"
      ]
     },
     "execution_count": 14,
     "metadata": {},
     "output_type": "execute_result"
    }
   ],
   "source": [
    "df[::2]"
   ]
  },
  {
   "cell_type": "code",
   "execution_count": 15,
   "id": "34a48e41",
   "metadata": {},
   "outputs": [
    {
     "data": {
      "text/html": [
       "<div style=\"max-height:1000px;max-width:1500px;overflow:auto;\">\n",
       "<table border=\"1\" class=\"dataframe\">\n",
       "  <thead>\n",
       "    <tr style=\"text-align: right;\">\n",
       "      <th></th>\n",
       "      <th>S</th>\n",
       "      <th>T</th>\n",
       "    </tr>\n",
       "  </thead>\n",
       "  <tbody>\n",
       "    <tr>\n",
       "      <th>electron</th>\n",
       "      <td>42</td>\n",
       "      <td>6</td>\n",
       "    </tr>\n",
       "    <tr>\n",
       "      <th>neutrino</th>\n",
       "      <td>NaN</td>\n",
       "      <td>8128</td>\n",
       "    </tr>\n",
       "    <tr>\n",
       "      <th>neutron</th>\n",
       "      <td>44</td>\n",
       "      <td>28</td>\n",
       "    </tr>\n",
       "    <tr>\n",
       "      <th>proton</th>\n",
       "      <td>43</td>\n",
       "      <td>496</td>\n",
       "    </tr>\n",
       "    <tr>\n",
       "      <th>antineutrino</th>\n",
       "      <td>-8128</td>\n",
       "      <td>NaN</td>\n",
       "    </tr>\n",
       "  </tbody>\n",
       "</table>\n",
       "</div>"
      ],
      "text/plain": [
       "                 S     T\n",
       "electron        42     6\n",
       "neutrino       NaN  8128\n",
       "neutron         44    28\n",
       "proton          43   496\n",
       "antineutrino -8128   NaN"
      ]
     },
     "execution_count": 15,
     "metadata": {},
     "output_type": "execute_result"
    }
   ],
   "source": [
    "dg = df.append(pd.DataFrame({'S': [-8128]}, index=['antineutrino']))\n",
    "dg"
   ]
  },
  {
   "cell_type": "code",
   "execution_count": 16,
   "id": "3ecc9e97",
   "metadata": {},
   "outputs": [
    {
     "data": {
      "text/html": [
       "<div style=\"max-height:1000px;max-width:1500px;overflow:auto;\">\n",
       "<table border=\"1\" class=\"dataframe\">\n",
       "  <thead>\n",
       "    <tr style=\"text-align: right;\">\n",
       "      <th></th>\n",
       "      <th>S</th>\n",
       "      <th>T</th>\n",
       "    </tr>\n",
       "  </thead>\n",
       "  <tbody>\n",
       "    <tr>\n",
       "      <th>electron</th>\n",
       "      <td>42</td>\n",
       "      <td>6</td>\n",
       "    </tr>\n",
       "    <tr>\n",
       "      <th>neutrino</th>\n",
       "      <td>NaN</td>\n",
       "      <td>8128</td>\n",
       "    </tr>\n",
       "    <tr>\n",
       "      <th>proton</th>\n",
       "      <td>43</td>\n",
       "      <td>496</td>\n",
       "    </tr>\n",
       "    <tr>\n",
       "      <th>antineutrino</th>\n",
       "      <td>-8128</td>\n",
       "      <td>NaN</td>\n",
       "    </tr>\n",
       "  </tbody>\n",
       "</table>\n",
       "</div>"
      ],
      "text/plain": [
       "                 S     T\n",
       "electron        42     6\n",
       "neutrino       NaN  8128\n",
       "proton          43   496\n",
       "antineutrino -8128   NaN"
      ]
     },
     "execution_count": 16,
     "metadata": {},
     "output_type": "execute_result"
    }
   ],
   "source": [
    "dh = dg.drop('neutron')\n",
    "dh"
   ]
  },
  {
   "cell_type": "code",
   "execution_count": 17,
   "id": "e428d791",
   "metadata": {},
   "outputs": [
    {
     "data": {
      "text/html": [
       "<div style=\"max-height:1000px;max-width:1500px;overflow:auto;\">\n",
       "<table border=\"1\" class=\"dataframe\">\n",
       "  <thead>\n",
       "    <tr style=\"text-align: right;\">\n",
       "      <th></th>\n",
       "      <th>electron</th>\n",
       "      <th>neutrino</th>\n",
       "      <th>neutron</th>\n",
       "      <th>proton</th>\n",
       "    </tr>\n",
       "  </thead>\n",
       "  <tbody>\n",
       "    <tr>\n",
       "      <th>S</th>\n",
       "      <td>42</td>\n",
       "      <td>NaN</td>\n",
       "      <td>44</td>\n",
       "      <td>43</td>\n",
       "    </tr>\n",
       "    <tr>\n",
       "      <th>T</th>\n",
       "      <td>6</td>\n",
       "      <td>8128</td>\n",
       "      <td>28</td>\n",
       "      <td>496</td>\n",
       "    </tr>\n",
       "  </tbody>\n",
       "</table>\n",
       "</div>"
      ],
      "text/plain": [
       "   electron  neutrino  neutron  proton\n",
       "S        42       NaN       44      43\n",
       "T         6      8128       28     496"
      ]
     },
     "execution_count": 17,
     "metadata": {},
     "output_type": "execute_result"
    }
   ],
   "source": [
    "df.T"
   ]
  },
  {
   "cell_type": "code",
   "execution_count": 18,
   "id": "86b11f3a",
   "metadata": {},
   "outputs": [
    {
     "data": {
      "text/html": [
       "<div style=\"max-height:1000px;max-width:1500px;overflow:auto;\">\n",
       "<table border=\"1\" class=\"dataframe\">\n",
       "  <thead>\n",
       "    <tr style=\"text-align: right;\">\n",
       "      <th></th>\n",
       "      <th>S</th>\n",
       "      <th>T</th>\n",
       "    </tr>\n",
       "  </thead>\n",
       "  <tbody>\n",
       "    <tr>\n",
       "      <th>electron</th>\n",
       "      <td>False</td>\n",
       "      <td>True</td>\n",
       "    </tr>\n",
       "    <tr>\n",
       "      <th>neutrino</th>\n",
       "      <td>False</td>\n",
       "      <td>False</td>\n",
       "    </tr>\n",
       "    <tr>\n",
       "      <th>neutron</th>\n",
       "      <td>False</td>\n",
       "      <td>True</td>\n",
       "    </tr>\n",
       "    <tr>\n",
       "      <th>proton</th>\n",
       "      <td>False</td>\n",
       "      <td>False</td>\n",
       "    </tr>\n",
       "  </tbody>\n",
       "</table>\n",
       "</div>"
      ],
      "text/plain": [
       "              S      T\n",
       "electron  False   True\n",
       "neutrino  False  False\n",
       "neutron   False   True\n",
       "proton    False  False"
      ]
     },
     "execution_count": 18,
     "metadata": {},
     "output_type": "execute_result"
    }
   ],
   "source": [
    "df < 42"
   ]
  },
  {
   "cell_type": "code",
   "execution_count": 19,
   "id": "1239d199",
   "metadata": {},
   "outputs": [
    {
     "data": {
      "text/plain": [
       "electron       6\n",
       "neutrino    8128\n",
       "neutron       28\n",
       "proton       496\n",
       "Name: T, dtype: int64"
      ]
     },
     "execution_count": 19,
     "metadata": {},
     "output_type": "execute_result"
    }
   ],
   "source": [
    "# accessing a single column \n",
    "# will return a series\n",
    "df['T']"
   ]
  },
  {
   "cell_type": "code",
   "execution_count": 20,
   "id": "95fd6d18",
   "metadata": {},
   "outputs": [
    {
     "data": {
      "text/html": [
       "<div style=\"max-height:1000px;max-width:1500px;overflow:auto;\">\n",
       "<table border=\"1\" class=\"dataframe\">\n",
       "  <thead>\n",
       "    <tr style=\"text-align: right;\">\n",
       "      <th></th>\n",
       "      <th>S</th>\n",
       "      <th>T</th>\n",
       "      <th>small</th>\n",
       "    </tr>\n",
       "  </thead>\n",
       "  <tbody>\n",
       "    <tr>\n",
       "      <th>electron</th>\n",
       "      <td>42</td>\n",
       "      <td>6</td>\n",
       "      <td>True</td>\n",
       "    </tr>\n",
       "    <tr>\n",
       "      <th>neutrino</th>\n",
       "      <td>NaN</td>\n",
       "      <td>8128</td>\n",
       "      <td>False</td>\n",
       "    </tr>\n",
       "    <tr>\n",
       "      <th>neutron</th>\n",
       "      <td>44</td>\n",
       "      <td>28</td>\n",
       "      <td>True</td>\n",
       "    </tr>\n",
       "    <tr>\n",
       "      <th>proton</th>\n",
       "      <td>43</td>\n",
       "      <td>496</td>\n",
       "      <td>False</td>\n",
       "    </tr>\n",
       "  </tbody>\n",
       "</table>\n",
       "</div>"
      ],
      "text/plain": [
       "           S     T  small\n",
       "electron  42     6   True\n",
       "neutrino NaN  8128  False\n",
       "neutron   44    28   True\n",
       "proton    43   496  False"
      ]
     },
     "execution_count": 20,
     "metadata": {},
     "output_type": "execute_result"
    }
   ],
   "source": [
    "# setting a name to a series\n",
    "# or expression will add a \n",
    "# column to the frame\n",
    "df['small'] = df['T'] < 100\n",
    "df"
   ]
  },
  {
   "cell_type": "code",
   "execution_count": 21,
   "id": "a25c50f5",
   "metadata": {},
   "outputs": [
    {
     "data": {
      "text/html": [
       "<div style=\"max-height:1000px;max-width:1500px;overflow:auto;\">\n",
       "<table border=\"1\" class=\"dataframe\">\n",
       "  <thead>\n",
       "    <tr style=\"text-align: right;\">\n",
       "      <th></th>\n",
       "      <th>S</th>\n",
       "      <th>T</th>\n",
       "    </tr>\n",
       "  </thead>\n",
       "  <tbody>\n",
       "    <tr>\n",
       "      <th>electron</th>\n",
       "      <td>42</td>\n",
       "      <td>6</td>\n",
       "    </tr>\n",
       "    <tr>\n",
       "      <th>neutrino</th>\n",
       "      <td>NaN</td>\n",
       "      <td>8128</td>\n",
       "    </tr>\n",
       "    <tr>\n",
       "      <th>neutron</th>\n",
       "      <td>44</td>\n",
       "      <td>28</td>\n",
       "    </tr>\n",
       "    <tr>\n",
       "      <th>proton</th>\n",
       "      <td>43</td>\n",
       "      <td>496</td>\n",
       "    </tr>\n",
       "  </tbody>\n",
       "</table>\n",
       "</div>"
      ],
      "text/plain": [
       "           S     T\n",
       "electron  42     6\n",
       "neutrino NaN  8128\n",
       "neutron   44    28\n",
       "proton    43   496"
      ]
     },
     "execution_count": 21,
     "metadata": {},
     "output_type": "execute_result"
    }
   ],
   "source": [
    "# deleting a column will\n",
    "# remove it from the frame\n",
    "del df['small']\n",
    "df"
   ]
  },
  {
   "cell_type": "code",
   "execution_count": 22,
   "id": "9d29f4bc",
   "metadata": {},
   "outputs": [],
   "source": [
    "from blist import sorteddict"
   ]
  },
  {
   "cell_type": "code",
   "execution_count": 23,
   "id": "81ed27b8",
   "metadata": {},
   "outputs": [
    {
     "data": {
      "text/plain": [
       "sorteddict({'birthday': [1879, 3, 14], 'first': 'Albert', 'last': 'Einstein'})"
      ]
     },
     "execution_count": 23,
     "metadata": {},
     "output_type": "execute_result"
    }
   ],
   "source": [
    "b = sorteddict(first=\"Albert\", \n",
    "               last=\"Einstein\",\n",
    "               birthday=[1879, 3, 14])\n",
    "b"
   ]
  },
  {
   "cell_type": "code",
   "execution_count": 24,
   "id": "45279292",
   "metadata": {},
   "outputs": [
    {
     "data": {
      "text/plain": [
       "sorteddict({'birthday': [1879, 3, 14], 'died': [1955, 4, 18], 'first': 'Albert', 'last': 'Einstein'})"
      ]
     },
     "execution_count": 24,
     "metadata": {},
     "output_type": "execute_result"
    }
   ],
   "source": [
    "b['died'] = [1955, 4, 18]\n",
    "b"
   ]
  },
  {
   "cell_type": "code",
   "execution_count": 25,
   "id": "a9bcce3c",
   "metadata": {},
   "outputs": [
    {
     "data": {
      "text/plain": [
       "['birthday', 'died', 'first', 'last']"
      ]
     },
     "execution_count": 25,
     "metadata": {},
     "output_type": "execute_result"
    }
   ],
   "source": [
    "list(b.keys())"
   ]
  },
  {
   "cell_type": "code",
   "execution_count": 26,
   "id": "2142c2e5",
   "metadata": {},
   "outputs": [],
   "source": [
    "class Node(object):\n",
    "    \n",
    "    def __init__(self, point, left=None, right=None):\n",
    "        self.point = point\n",
    "        self.left = left\n",
    "        self.right = right\n",
    "        \n",
    "    def __repr__(self):\n",
    "        isleaf = self.left is None and self.right is None\n",
    "        s = repr(self.point)\n",
    "        if not isleaf:\n",
    "            s = \"[\" + s + \":\"\n",
    "        if self.left is not None:\n",
    "            s += \"\\n  left = \" + \"\\n  \".join(repr(self.left).split('\\n'))\n",
    "        if self.right is not None:\n",
    "            s += \"\\n  right = \" + \"\\n  \".join(repr(self.right).split('\\n'))\n",
    "        if not isleaf:\n",
    "            s += \"\\n  ]\"\n",
    "        return s\n",
    "\n",
    "\n",
    "def kdtree(points, depth=0):\n",
    "    if len(points) == 0:\n",
    "        return None\n",
    "    k = len(points[0])\n",
    "    a = depth % k\n",
    "    points = sorted(points, key=lambda x: x[a])\n",
    "    i = int(len(points) / 2)  # middle index, rounded down\n",
    "    node_left = kdtree(points[:i], depth + 1)\n",
    "    node_right = kdtree(points[i+1:], depth + 1)\n",
    "    node = Node(points[i], node_left, node_right)\n",
    "    return node"
   ]
  },
  {
   "cell_type": "code",
   "execution_count": 27,
   "id": "56b8234c",
   "metadata": {},
   "outputs": [
    {
     "name": "stdout",
     "output_type": "stream",
     "text": [
      "[(3, 2):\n",
      "  left = [(1, 2):\n",
      "    left = (2, 1)\n",
      "    right = (1, 5)\n",
      "    ]\n",
      "  right = [(5, 5):\n",
      "    left = (4, 3)\n",
      "    ]\n",
      "  ]\n"
     ]
    }
   ],
   "source": [
    "points = [(1, 2), (3, 2), \n",
    "          (5, 5), (2, 1), \n",
    "          (4, 3), (1, 5)]\n",
    "root = kdtree(points)\n",
    "print(root)"
   ]
  },
  {
   "cell_type": "code",
   "execution_count": 28,
   "id": "d4ab9b5e",
   "metadata": {},
   "outputs": [],
   "source": [
    "from scipy.spatial import KDTree\n",
    "tree = KDTree(points)"
   ]
  },
  {
   "cell_type": "code",
   "execution_count": 29,
   "id": "7f8d65ba",
   "metadata": {},
   "outputs": [
    {
     "data": {
      "text/plain": [
       "array([[1, 2],\n",
       "       [3, 2],\n",
       "       [5, 5],\n",
       "       [2, 1],\n",
       "       [4, 3],\n",
       "       [1, 5]])"
      ]
     },
     "execution_count": 29,
     "metadata": {},
     "output_type": "execute_result"
    }
   ],
   "source": [
    "tree.data"
   ]
  },
  {
   "cell_type": "code",
   "execution_count": 30,
   "id": "1bb559ac",
   "metadata": {},
   "outputs": [],
   "source": [
    "# query() defaults to only the closest point\n",
    "dist, idx = tree.query([(4.5, 1.25)])"
   ]
  },
  {
   "cell_type": "code",
   "execution_count": 31,
   "id": "f87f9048",
   "metadata": {},
   "outputs": [
    {
     "data": {
      "text/plain": [
       "array([ 1.67705098])"
      ]
     },
     "execution_count": 31,
     "metadata": {},
     "output_type": "execute_result"
    }
   ],
   "source": [
    "dist"
   ]
  },
  {
   "cell_type": "code",
   "execution_count": 32,
   "id": "4fc0528c",
   "metadata": {},
   "outputs": [
    {
     "data": {
      "text/plain": [
       "array([1])"
      ]
     },
     "execution_count": 32,
     "metadata": {},
     "output_type": "execute_result"
    }
   ],
   "source": [
    "idx "
   ]
  },
  {
   "cell_type": "code",
   "execution_count": 33,
   "id": "0b25612e",
   "metadata": {},
   "outputs": [
    {
     "data": {
      "text/plain": [
       "array([[3, 2]])"
      ]
     },
     "execution_count": 33,
     "metadata": {},
     "output_type": "execute_result"
    }
   ],
   "source": [
    "# fancy index by idx to get the point\n",
    "tree.data[idx]"
   ]
  }
 ],
 "metadata": {
  "kernelspec": {
   "display_name": "Python 3 (ipykernel)",
   "language": "python",
   "name": "python3"
  },
  "language_info": {
   "codemirror_mode": {
    "name": "ipython",
    "version": 3
   },
   "file_extension": ".py",
   "mimetype": "text/x-python",
   "name": "python",
   "nbconvert_exporter": "python",
   "pygments_lexer": "ipython3",
   "version": "3.8.12"
  }
 },
 "nbformat": 4,
 "nbformat_minor": 1
}
