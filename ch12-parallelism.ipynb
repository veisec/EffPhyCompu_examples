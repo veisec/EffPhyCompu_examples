{
 "cells": [
  {
   "cell_type": "markdown",
   "id": "8de8aeb9",
   "metadata": {},
   "source": [
    "# Please also refer to the accompanying *n-body-** notebooks Python files for the specific parallel solutions.  "
   ]
  },
  {
   "cell_type": "code",
   "execution_count": 4,
   "id": "280c1d5b",
   "metadata": {},
   "outputs": [],
   "source": [
    "import numpy as np\n",
    "\n",
    "def remove_i(x, i):\n",
    "    \"\"\"Drops the ith element of an array.\"\"\"\n",
    "    shape = (x.shape[0]-1,) + x.shape[1:]\n",
    "    y = np.empty(shape, dtype=float)\n",
    "    y[:i] = x[:i]\n",
    "    y[i:] = x[i+1:]\n",
    "    return y\n",
    "\n",
    "def a(i, x, G, m):\n",
    "    \"\"\"The acceleration of the ith mass.\"\"\"\n",
    "    x_i = x[i]\n",
    "    x_j = remove_i(x, i)\n",
    "    m_j = remove_i(m, i)\n",
    "    diff = x_j - x_i\n",
    "    mag3 = np.sum(diff**2, axis=1)**1.5\n",
    "    result = G * np.sum(diff * (m_j / mag3)[:,np.newaxis], axis=0)\n",
    "    return result\n",
    "\n",
    "def timestep(x0, v0, G, m, dt):\n",
    "    \"\"\"Computes the next position and velocity for all masses given \n",
    "    initial conditions and a time step size.\n",
    "    \"\"\"\n",
    "    N = len(x0)\n",
    "    x1 = np.empty(x0.shape, dtype=float)\n",
    "    v1 = np.empty(v0.shape, dtype=float)\n",
    "    for i in range(N):\n",
    "        a_i0 = a(i, x0, G, m)\n",
    "        v1[i] = a_i0 * dt + v0[i]\n",
    "        x1[i] = a_i0 * dt**2 + v0[i] * dt + x0[i]\n",
    "    return x1, v1\n",
    "\n",
    "def initial_cond(N, D):\n",
    "    \"\"\"Generates initial conditions for N unity masses at rest \n",
    "    starting at random positions in D-dimensional space.\n",
    "    \"\"\"\n",
    "    x0 = np.random.rand(N, D)\n",
    "    v0 = np.zeros((N, D), dtype=float)\n",
    "    m = np.ones(N, dtype=float)\n",
    "    return x0, v0, m "
   ]
  },
  {
   "cell_type": "code",
   "execution_count": 5,
   "id": "5d3fd76c",
   "metadata": {},
   "outputs": [],
   "source": [
    "x0, v0, m = initial_cond(10, 2)\n",
    "x1, v1 = timestep(x0, v0, 1.0, m, 1.0e-3)"
   ]
  },
  {
   "cell_type": "code",
   "execution_count": 6,
   "id": "a2f3a506",
   "metadata": {},
   "outputs": [],
   "source": [
    "def simulate(N, D, S, G, dt):\n",
    "    x0, v0, m = initial_cond(N, D)\n",
    "    for s in range(S):\n",
    "        x1, v1 = timestep(x0, v0, G, m, dt)\n",
    "        x0, v0 = x1, v1"
   ]
  },
  {
   "cell_type": "code",
   "execution_count": 12,
   "id": "51fb72fd",
   "metadata": {},
   "outputs": [
    {
     "data": {
      "text/plain": [
       "[0.015008687973022461,\n",
       " 0.02507328987121582,\n",
       " 0.0499880313873291,\n",
       " 0.10300207138061523,\n",
       " 0.21500730514526367,\n",
       " 0.4679555892944336,\n",
       " 1.1159768104553223,\n",
       " 2.7408454418182373,\n",
       " 8.853973388671875,\n",
       " 25.784214973449707]"
      ]
     },
     "execution_count": 12,
     "metadata": {},
     "output_type": "execute_result"
    }
   ],
   "source": [
    "import time\n",
    "# Ns = [2, 4, 8, 16, 32, 64, 128, 256, 512, 1024, 2048, 4096, 8192]\n",
    "Ns = [2, 4, 8, 16, 32,64,128,256,512,1024]\n",
    "runtimes = []\n",
    "for N in Ns:\n",
    "    start = time.time()\n",
    "    simulate(N, 2, 300, 1.0, 1e-3)\n",
    "    stop = time.time()\n",
    "    runtimes.append(stop - start)\n",
    "runtimes"
   ]
  },
  {
   "cell_type": "code",
   "execution_count": 11,
   "metadata": {},
   "outputs": [
    {
     "data": {
      "text/plain": [
       "[<matplotlib.lines.Line2D at 0x1a5af1884c0>]"
      ]
     },
     "execution_count": 11,
     "metadata": {},
     "output_type": "execute_result"
    },
    {
     "data": {
      "image/png": "[encoded data removed]",
      "text/plain": [
       "<Figure size 432x288 with 1 Axes>"
      ]
     },
     "metadata": {
      "needs_background": "light"
     },
     "output_type": "display_data"
    }
   ],
   "source": [
    "## visualize runtime\n",
    "import matplotlib.pyplot as plt\n",
    "plt.plot(Ns,runtimes,'ks-')"
   ]
  },
  {
   "cell_type": "code",
   "execution_count": 13,
   "id": "ac46e001",
   "metadata": {},
   "outputs": [],
   "source": [
    "from threading import Thread\n",
    "\n",
    "class Worker(Thread):\n",
    "    \"\"\"Computes x, v, and a of the ith body.\"\"\"\n",
    "    def __init__(self, *args, **kwargs):\n",
    "        super(Worker, self).__init__(*args, **kwargs)\n",
    "        self.inputs = []\n",
    "        self.results = []\n",
    "        self.running = True\n",
    "        self.daemon = True\n",
    "        self.start()\n",
    "        \n",
    "    def run(self):\n",
    "        while self.running:\n",
    "            if len(self.inputs) == 0:\n",
    "                continue\n",
    "            i, x0, v0, G, m, dt = self.inputs.pop(0)\n",
    "            a_i0 = a(i, x0, G, m)\n",
    "            v_i1 = a_i0 * dt + v0[i]\n",
    "            x_i1 = a_i0 * dt**2 + v0[i] * dt + x0[i]\n",
    "            result = (i, x_i1, v_i1)\n",
    "            self.results.append(result)"
   ]
  },
  {
   "cell_type": "code",
   "execution_count": 14,
   "id": "d87d1799",
   "metadata": {},
   "outputs": [],
   "source": [
    "class Pool(object):\n",
    "    \"\"\"A collection of P worker threads that distributes tasks \n",
    "    evenly across them.\n",
    "    \"\"\"\n",
    "    def __init__(self, size):\n",
    "        self.size = size\n",
    "        self.workers = [Worker() for p in range(size)]\n",
    "        \n",
    "    def do(self, tasks):\n",
    "        for p in range(self.size):\n",
    "            self.workers[p].inputs += tasks[p::self.size]\n",
    "        while any([len(worker.inputs) != 0 for worker in self.workers]):\n",
    "            pass\n",
    "        results = []\n",
    "        for worker in self.workers:\n",
    "            results += worker.results\n",
    "            worker.results.clear()\n",
    "        return results\n",
    "    \n",
    "    def __del__(self):\n",
    "        for worker in self.workers:\n",
    "            worker.running = False"
   ]
  },
  {
   "cell_type": "code",
   "execution_count": 15,
   "id": "223787d9",
   "metadata": {},
   "outputs": [],
   "source": [
    "def timestep(x0, v0, G, m, dt, pool):\n",
    "    \"\"\"Computes the next position and velocity for all masses given \n",
    "    initial conditions and a time step size.\n",
    "    \"\"\"\n",
    "    N = len(x0)\n",
    "    tasks = [(i, x0, v0, G, m, dt) for i in range(N)]\n",
    "    results = pool.do(tasks)\n",
    "    x1 = np.empty(x0.shape, dtype=float)\n",
    "    v1 = np.empty(v0.shape, dtype=float)\n",
    "    for i, x_i1, v_i1 in results:\n",
    "        x1[i] = x_i1\n",
    "        v1[i] = v_i1\n",
    "    return x1, v1"
   ]
  },
  {
   "cell_type": "code",
   "execution_count": 16,
   "id": "46791cf8",
   "metadata": {},
   "outputs": [],
   "source": [
    "def simulate(P, N, D, S, G, dt):\n",
    "    x0, v0, m = initial_cond(N, D)\n",
    "    pool = Pool(P)\n",
    "    for s in range(S):\n",
    "        x1, v1 = timestep(x0, v0, G, m, dt, pool)\n",
    "        x0, v0 = x1, v1"
   ]
  },
  {
   "cell_type": "code",
   "execution_count": 17,
   "id": "26b5dcfc",
   "metadata": {},
   "outputs": [],
   "source": [
    "# Ps = [1, 2, 4, 8]\n",
    "Ps = [1, 2,4]\n",
    "runtimes = []\n",
    "for P in Ps:\n",
    "    start = time.time()\n",
    "    simulate(P, 4, 3, 300, 1.0, 1e-3)\n",
    "    stop = time.time()\n",
    "    runtimes.append(stop - start)"
   ]
  },
  {
   "cell_type": "code",
   "execution_count": null,
   "id": "0532290c",
   "metadata": {},
   "outputs": [],
   "source": [
    "from multiprocessing import Pool\n",
    "\n",
    "def timestep_i(args):\n",
    "    \"\"\"Computes the next position and velocity for the ith mass.\"\"\"\n",
    "    i, x0, v0, G, m, dt = args\n",
    "    a_i0 = a(i, x0, G, m)\n",
    "    v_i1 = a_i0 * dt + v0[i]\n",
    "    x_i1 = a_i0 * dt**2 + v0[i] * dt + x0[i]\n",
    "    return i, x_i1, v_i1"
   ]
  },
  {
   "cell_type": "code",
   "execution_count": null,
   "id": "221ed265",
   "metadata": {},
   "outputs": [],
   "source": [
    "def timestep(x0, v0, G, m, dt, pool):\n",
    "    \"\"\"Computes the next position and velocity for all masses given \n",
    "    initial conditions and a time step size.\n",
    "    \"\"\"\n",
    "    N = len(x0)\n",
    "    tasks = [(i, x0, v0, G, m, dt) for i in range(N)]\n",
    "    results = pool.map(timestep_i, tasks)\n",
    "    x1 = np.empty(x0.shape, dtype=float)\n",
    "    v1 = np.empty(v0.shape, dtype=float)\n",
    "    for i, x_i1, v_i1 in results:\n",
    "        x1[i] = x_i1\n",
    "        v1[i] = v_i1\n",
    "    return x1, v1"
   ]
  },
  {
   "cell_type": "code",
   "execution_count": null,
   "id": "5aa36846",
   "metadata": {},
   "outputs": [],
   "source": [
    "import time\n",
    "Ps = [1, 2, 4, 8]\n",
    "runtimes = []\n",
    "for P in Ps:\n",
    "    start = time.time()\n",
    "    simulate(P, 256, 3, 300, 1.0, 1e-3)\n",
    "    stop = time.time()\n",
    "    runtimes.append(stop - start)"
   ]
  },
  {
   "cell_type": "code",
   "execution_count": null,
   "id": "e3f4901f",
   "metadata": {},
   "outputs": [],
   "source": [
    "from mpi4py import MPI\n",
    "from mpi4py.MPI import COMM_WORLD\n",
    "\n",
    "from types import FunctionType"
   ]
  },
  {
   "cell_type": "code",
   "execution_count": null,
   "id": "9f725522",
   "metadata": {},
   "outputs": [],
   "source": [
    "class Pool(object):\n",
    "    \"\"\"Process pool using MPI.\"\"\"\n",
    "    def __init__(self):\n",
    "        self.f = None\n",
    "        self.P = COMM_WORLD.Get_size()\n",
    "        self.rank = COMM_WORLD.Get_rank()\n",
    "\n",
    "    def wait(self):\n",
    "        if self.rank == 0:\n",
    "            raise RuntimeError(\"Proc 0 cannot wait!\")\n",
    "        status = MPI.Status()\n",
    "        while True:\n",
    "            task = COMM_WORLD.recv(source=0, tag=MPI.ANY_TAG, status=status)\n",
    "            if not task:\n",
    "                break\n",
    "            if isinstance(task, FunctionType):\n",
    "                self.f = task\n",
    "                continue\n",
    "            result = self.f(task)\n",
    "            COMM_WORLD.isend(result, dest=0, tag=status.tag)\n",
    "\n",
    "    def map(self, f, tasks):\n",
    "        N = len(tasks)\n",
    "        P = self.P\n",
    "        Pless1 = P - 1\n",
    "        if self.rank != 0:\n",
    "            self.wait()\n",
    "            return\n",
    "\n",
    "        if f is not self.f:\n",
    "            self.f = f\n",
    "            requests = []\n",
    "            for p in range(1, self.P):\n",
    "                r = COMM_WORLD.isend(f, dest=p)\n",
    "                requests.append(r)\n",
    "            MPI.Request.waitall(requests)\n",
    "\n",
    "        requests = []\n",
    "        for i, task in enumerate(tasks):\n",
    "            r = COMM_WORLD.isend(task, dest=(i%Pless1)+1, tag=i)\n",
    "            requests.append(r)\n",
    "        MPI.Request.waitall(requests)\n",
    "\n",
    "        results = []\n",
    "        for i in range(N):\n",
    "            result = COMM_WORLD.recv(source=(i%Pless1)+1, tag=i)\n",
    "            results.append(result)\n",
    "        return results\n",
    "\n",
    "    def __del__(self):\n",
    "        if self.rank == 0:\n",
    "            for p in range(1, self.P):\n",
    "                COMM_WORLD.isend(False, dest=p)"
   ]
  },
  {
   "cell_type": "code",
   "execution_count": null,
   "id": "9273c055",
   "metadata": {},
   "outputs": [],
   "source": [
    "def simulate(N, D, S, G, dt):\n",
    "    x0, v0, m = initial_cond(N, D)\n",
    "    pool = Pool()\n",
    "    if COMM_WORLD.Get_rank() == 0:\n",
    "        for s in range(S):\n",
    "            x1, v1 = timestep(x0, v0, G, m, dt, pool)\n",
    "            x0, v0 = x1, v1\n",
    "    else:\n",
    "        pool.wait()"
   ]
  },
  {
   "cell_type": "code",
   "execution_count": null,
   "id": "82369d11",
   "metadata": {},
   "outputs": [],
   "source": [
    "if __name__ == '__main__':\n",
    "    simulate(128, 3, 300, 1.0, 1e-3)"
   ]
  }
 ],
 "metadata": {
  "kernelspec": {
   "display_name": "Python 3 (ipykernel)",
   "language": "python",
   "name": "python3"
  },
  "language_info": {
   "codemirror_mode": {
    "name": "ipython",
    "version": 3
   },
   "file_extension": ".py",
   "mimetype": "text/x-python",
   "name": "python",
   "nbconvert_exporter": "python",
   "pygments_lexer": "ipython3",
   "version": "3.8.12"
  }
 },
 "nbformat": 4,
 "nbformat_minor": 1
}
