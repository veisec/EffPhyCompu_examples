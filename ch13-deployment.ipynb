{
 "cells": [
  {
   "cell_type": "markdown",
   "id": "651a9964",
   "metadata": {},
   "source": [
    "# This file is also available in *.py format"
   ]
  },
  {
   "cell_type": "code",
   "execution_count": 1,
   "id": "a6ad96a9",
   "metadata": {},
   "outputs": [],
   "source": [
    "import sys\n",
    "try:\n",
    "    from setuptools import setup\n",
    "    have_setuptools = True\n",
    "except ImportError:\n",
    "    from distutils.core import setup\n",
    "    have_setuptools = False\n",
    "\n",
    "setup_kwargs = {\n",
    "    'name': 'compphys',\n",
    "    'version': '0.1',\n",
    "    'description': 'Effective Computation in Physics',\n",
    "    'author': 'Anthony Scopatz and Kathryn D. Huff',\n",
    "    'author_email': 'koolkatz@gmail.com',\n",
    "    'url': 'http://www.oreilly.com/',\n",
    "    'classifiers': [\n",
    "        'License :: OSI Approved',\n",
    "        'Intended Audience :: Developers',\n",
    "        'Programming Language :: Python :: 3',\n",
    "        ],\n",
    "    'zip_safe': False,\n",
    "    'packages': ['compphys', 'compphys.more'],\n",
    "    'package_dir': {\n",
    "        'compphys': 'compphys', \n",
    "        'compphys.more': 'compphys/more', \n",
    "        },\n",
    "    'data_files': [('compphys/raw', ['*.txt'])],\n",
    "    }\n",
    "\n",
    "#if __name__ == '__main__':\n",
    "#    setup(**setup_kwargs)"
   ]
  }
 ],
 "metadata": {
  "kernelspec": {
   "display_name": "Python 3 (ipykernel)",
   "language": "python",
   "name": "python3"
  },
  "language_info": {
   "codemirror_mode": {
    "name": "ipython",
    "version": 3
   },
   "file_extension": ".py",
   "mimetype": "text/x-python",
   "name": "python",
   "nbconvert_exporter": "python",
   "pygments_lexer": "ipython3",
   "version": "3.8.12"
  }
 },
 "nbformat": 4,
 "nbformat_minor": 1
}
