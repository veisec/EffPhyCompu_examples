{
 "cells": [
  {
   "cell_type": "code",
   "execution_count": 1,
   "id": "455c6cdf",
   "metadata": {},
   "outputs": [],
   "source": [
    "def kepler_loc(p1, p2, dt, t):\n",
    "    ...\n",
    "    return p3"
   ]
  },
  {
   "cell_type": "code",
   "execution_count": 2,
   "id": "289d2c96",
   "metadata": {},
   "outputs": [],
   "source": [
    "def test_kepler_loc():\n",
    "    p1 = jupiter(two_days_ago)\n",
    "    p2 = jupiter(yesterday)\n",
    "    exp = jupiter(today)\n",
    "    obs = kepler_loc(p1, p2, 1, 1)\n",
    "    if exp != obs:\n",
    "        raise ValueError(\"Jupiter is not where it should be!\")"
   ]
  },
  {
   "cell_type": "code",
   "execution_count": 3,
   "id": "197051b7",
   "metadata": {},
   "outputs": [],
   "source": [
    "def test_func():\n",
    "    exp = get_expected()\n",
    "    obs = func(*args, **kwargs)\n",
    "    assert exp == obs"
   ]
  },
  {
   "cell_type": "code",
   "execution_count": 4,
   "id": "1e85c736",
   "metadata": {},
   "outputs": [],
   "source": [
    "def test_keppler_loc():\n",
    "    p1 = jupiter(two_days_ago)\n",
    "    p2 = jupiter(yesterday)\n",
    "    exp = jupiter(today)\n",
    "    obs = keppler_loc(p1, p2, 1, 1)\n",
    "    assert exp == obs"
   ]
  },
  {
   "cell_type": "code",
   "execution_count": 5,
   "id": "1956d05c",
   "metadata": {},
   "outputs": [],
   "source": [
    "from nose.tools import assert_equal\n",
    "\n",
    "def test_kepler_loc():\n",
    "    p1 = jupiter(two_days_ago)\n",
    "    p2 = jupiter(yesterday)\n",
    "    exp = jupiter(today)\n",
    "    obs = keppler_loc(p1, p2, 1, 1)\n",
    "    assert_equal(exp, obs)"
   ]
  },
  {
   "cell_type": "code",
   "execution_count": 6,
   "id": "2d29ab62",
   "metadata": {},
   "outputs": [],
   "source": [
    "def fib(n):\n",
    "    if n == 0 or n == 1:\n",
    "        return 1\n",
    "    else:\n",
    "        return fib(n - 1) + fib(n - 2)"
   ]
  },
  {
   "cell_type": "code",
   "execution_count": 7,
   "id": "24effdb7",
   "metadata": {},
   "outputs": [],
   "source": [
    "from nose.tools import assert_equal\n",
    "\n",
    "def test_fib0():\n",
    "    # test edge 0\n",
    "    obs = fib(0)\n",
    "    assert_equal(1, obs)\n",
    "\n",
    "def test_fib1():\n",
    "    # test edge 1\n",
    "    obs = fib(1)\n",
    "    assert_equal(1, obs)\n",
    "\n",
    "def test_fib6():\n",
    "    # test regular point\n",
    "    obs = fib(6)\n",
    "    assert_equal(13, obs)"
   ]
  },
  {
   "cell_type": "code",
   "execution_count": 8,
   "id": "73c462e3",
   "metadata": {},
   "outputs": [],
   "source": [
    "# Running the test functions manually should produce no output if the tests pass\n",
    "test_fib0()\n",
    "test_fib1()\n",
    "test_fib6()"
   ]
  },
  {
   "cell_type": "code",
   "execution_count": 9,
   "id": "9013fb12",
   "metadata": {},
   "outputs": [],
   "source": [
    "import numpy as np\n",
    "\n",
    "def sinc2d(x, y):\n",
    "    if x == 0.0 and y == 0.0:\n",
    "        return 1.0\n",
    "    elif x == 0.0:\n",
    "        return np.sin(y) / y\n",
    "    elif y == 0.0:\n",
    "        return np.sin(x) / x\n",
    "    else:\n",
    "        return (np.sin(x) / x) * (np.sin(y) / y)"
   ]
  },
  {
   "cell_type": "code",
   "execution_count": 10,
   "id": "93d43472",
   "metadata": {},
   "outputs": [],
   "source": [
    "import numpy as np\n",
    "from nose.tools import assert_equal\n",
    "\n",
    "def test_internal():\n",
    "    exp = (2.0 / np.pi) * (-2.0 / (3.0 * np.pi))\n",
    "    obs = sinc2d(np.pi / 2.0, 3.0 * np.pi / 2.0)\n",
    "    assert_equal(exp, obs)\n",
    "\n",
    "def test_edge_x():\n",
    "    exp = (-2.0 / (3.0 * np.pi))\n",
    "    obs = sinc2d(0.0, 3.0 * np.pi / 2.0)\n",
    "    assert_equal(exp, obs)\n",
    "\n",
    "def test_edge_y():\n",
    "    exp = (2.0 / np.pi)\n",
    "    obs = sinc2d(np.pi / 2.0, 0.0)\n",
    "    assert_equal(exp, obs)\n",
    "\n",
    "def test_corner():\n",
    "    exp = 1.0\n",
    "    obs = sinc2d(0.0, 0.0)\n",
    "    assert_equal(exp, obs)"
   ]
  },
  {
   "cell_type": "code",
   "execution_count": 11,
   "id": "2b7d3247",
   "metadata": {},
   "outputs": [],
   "source": [
    "# run the tests for sinc2() manually here!"
   ]
  },
  {
   "cell_type": "code",
   "execution_count": 12,
   "id": "b7d79dca",
   "metadata": {},
   "outputs": [],
   "source": [
    "def a(x):\n",
    "    return x + 1\n",
    "\n",
    "def b(x):\n",
    "    return 2 * x\n",
    "\n",
    "def c(x):\n",
    "    return b(a(x))"
   ]
  },
  {
   "cell_type": "code",
   "execution_count": 13,
   "id": "7d454859",
   "metadata": {},
   "outputs": [],
   "source": [
    "from nose.tools import assert_equal\n",
    "\n",
    "def test_c():\n",
    "    exp = 6\n",
    "    obs = c(2)\n",
    "    assert_equal(exp, obs)\n",
    "    \n",
    "test_c()"
   ]
  },
  {
   "cell_type": "code",
   "execution_count": 14,
   "id": "f4a5d8a1",
   "metadata": {},
   "outputs": [],
   "source": [
    "from nose.tools import assert_equal\n",
    "\n",
    "def test_std1():\n",
    "    obs = std([0.0, 2.0])\n",
    "    exp = 1.0\n",
    "    assert_equal(obs, exp)"
   ]
  },
  {
   "cell_type": "code",
   "execution_count": 15,
   "id": "be5d8381",
   "metadata": {},
   "outputs": [],
   "source": [
    "def std(vals):\n",
    "    # surely this is cheating...\n",
    "    return 1.0\n",
    "\n",
    "# run the test\n",
    "test_std1()"
   ]
  },
  {
   "cell_type": "code",
   "execution_count": 16,
   "id": "eec39cc0",
   "metadata": {},
   "outputs": [
    {
     "ename": "AssertionError",
     "evalue": "1.0 != 0.0",
     "output_type": "error",
     "traceback": [
      "\u001b[1;31m---------------------------------------------------------------------------\u001b[0m\n\u001b[1;31mAssertionError\u001b[0m                            Traceback (most recent call last)",
      "\u001b[1;32m<ipython-input-16-7d31efb13ae3>\u001b[0m in \u001b[0;36m<module>\u001b[1;34m()\u001b[0m\n\u001b[0;32m     16\u001b[0m \u001b[1;31m# run the tests\u001b[0m\u001b[1;33m\u001b[0m\u001b[1;33m\u001b[0m\u001b[0m\n\u001b[0;32m     17\u001b[0m \u001b[0mtest_std1\u001b[0m\u001b[1;33m(\u001b[0m\u001b[1;33m)\u001b[0m\u001b[1;33m\u001b[0m\u001b[0m\n\u001b[1;32m---> 18\u001b[1;33m \u001b[0mtest_std2\u001b[0m\u001b[1;33m(\u001b[0m\u001b[1;33m)\u001b[0m\u001b[1;33m\u001b[0m\u001b[0m\n\u001b[0m\u001b[0;32m     19\u001b[0m \u001b[0mtest_std3\u001b[0m\u001b[1;33m(\u001b[0m\u001b[1;33m)\u001b[0m\u001b[1;33m\u001b[0m\u001b[0m\n",
      "\u001b[1;32m<ipython-input-16-7d31efb13ae3>\u001b[0m in \u001b[0;36mtest_std2\u001b[1;34m()\u001b[0m\n\u001b[0;32m      7\u001b[0m     \u001b[0mobs\u001b[0m \u001b[1;33m=\u001b[0m \u001b[0mstd\u001b[0m\u001b[1;33m(\u001b[0m\u001b[1;33m[\u001b[0m\u001b[1;33m]\u001b[0m\u001b[1;33m)\u001b[0m\u001b[1;33m\u001b[0m\u001b[0m\n\u001b[0;32m      8\u001b[0m     \u001b[0mexp\u001b[0m \u001b[1;33m=\u001b[0m \u001b[1;36m0.0\u001b[0m\u001b[1;33m\u001b[0m\u001b[0m\n\u001b[1;32m----> 9\u001b[1;33m     \u001b[0massert_equal\u001b[0m\u001b[1;33m(\u001b[0m\u001b[0mobs\u001b[0m\u001b[1;33m,\u001b[0m \u001b[0mexp\u001b[0m\u001b[1;33m)\u001b[0m\u001b[1;33m\u001b[0m\u001b[0m\n\u001b[0m\u001b[0;32m     10\u001b[0m \u001b[1;33m\u001b[0m\u001b[0m\n\u001b[0;32m     11\u001b[0m \u001b[1;32mdef\u001b[0m \u001b[0mtest_std3\u001b[0m\u001b[1;33m(\u001b[0m\u001b[1;33m)\u001b[0m\u001b[1;33m:\u001b[0m\u001b[1;33m\u001b[0m\u001b[0m\n",
      "\u001b[1;32m/home/scopatz/miniconda3/lib/python3.4/unittest/case.py\u001b[0m in \u001b[0;36massertEqual\u001b[1;34m(self, first, second, msg)\u001b[0m\n\u001b[0;32m    795\u001b[0m         \"\"\"\n\u001b[0;32m    796\u001b[0m         \u001b[0massertion_func\u001b[0m \u001b[1;33m=\u001b[0m \u001b[0mself\u001b[0m\u001b[1;33m.\u001b[0m\u001b[0m_getAssertEqualityFunc\u001b[0m\u001b[1;33m(\u001b[0m\u001b[0mfirst\u001b[0m\u001b[1;33m,\u001b[0m \u001b[0msecond\u001b[0m\u001b[1;33m)\u001b[0m\u001b[1;33m\u001b[0m\u001b[0m\n\u001b[1;32m--> 797\u001b[1;33m         \u001b[0massertion_func\u001b[0m\u001b[1;33m(\u001b[0m\u001b[0mfirst\u001b[0m\u001b[1;33m,\u001b[0m \u001b[0msecond\u001b[0m\u001b[1;33m,\u001b[0m \u001b[0mmsg\u001b[0m\u001b[1;33m=\u001b[0m\u001b[0mmsg\u001b[0m\u001b[1;33m)\u001b[0m\u001b[1;33m\u001b[0m\u001b[0m\n\u001b[0m\u001b[0;32m    798\u001b[0m \u001b[1;33m\u001b[0m\u001b[0m\n\u001b[0;32m    799\u001b[0m     \u001b[1;32mdef\u001b[0m \u001b[0massertNotEqual\u001b[0m\u001b[1;33m(\u001b[0m\u001b[0mself\u001b[0m\u001b[1;33m,\u001b[0m \u001b[0mfirst\u001b[0m\u001b[1;33m,\u001b[0m \u001b[0msecond\u001b[0m\u001b[1;33m,\u001b[0m \u001b[0mmsg\u001b[0m\u001b[1;33m=\u001b[0m\u001b[1;32mNone\u001b[0m\u001b[1;33m)\u001b[0m\u001b[1;33m:\u001b[0m\u001b[1;33m\u001b[0m\u001b[0m\n",
      "\u001b[1;32m/home/scopatz/miniconda3/lib/python3.4/unittest/case.py\u001b[0m in \u001b[0;36m_baseAssertEqual\u001b[1;34m(self, first, second, msg)\u001b[0m\n\u001b[0;32m    788\u001b[0m             \u001b[0mstandardMsg\u001b[0m \u001b[1;33m=\u001b[0m \u001b[1;34m'%s != %s'\u001b[0m \u001b[1;33m%\u001b[0m \u001b[0m_common_shorten_repr\u001b[0m\u001b[1;33m(\u001b[0m\u001b[0mfirst\u001b[0m\u001b[1;33m,\u001b[0m \u001b[0msecond\u001b[0m\u001b[1;33m)\u001b[0m\u001b[1;33m\u001b[0m\u001b[0m\n\u001b[0;32m    789\u001b[0m             \u001b[0mmsg\u001b[0m \u001b[1;33m=\u001b[0m \u001b[0mself\u001b[0m\u001b[1;33m.\u001b[0m\u001b[0m_formatMessage\u001b[0m\u001b[1;33m(\u001b[0m\u001b[0mmsg\u001b[0m\u001b[1;33m,\u001b[0m \u001b[0mstandardMsg\u001b[0m\u001b[1;33m)\u001b[0m\u001b[1;33m\u001b[0m\u001b[0m\n\u001b[1;32m--> 790\u001b[1;33m             \u001b[1;32mraise\u001b[0m \u001b[0mself\u001b[0m\u001b[1;33m.\u001b[0m\u001b[0mfailureException\u001b[0m\u001b[1;33m(\u001b[0m\u001b[0mmsg\u001b[0m\u001b[1;33m)\u001b[0m\u001b[1;33m\u001b[0m\u001b[0m\n\u001b[0m\u001b[0;32m    791\u001b[0m \u001b[1;33m\u001b[0m\u001b[0m\n\u001b[0;32m    792\u001b[0m     \u001b[1;32mdef\u001b[0m \u001b[0massertEqual\u001b[0m\u001b[1;33m(\u001b[0m\u001b[0mself\u001b[0m\u001b[1;33m,\u001b[0m \u001b[0mfirst\u001b[0m\u001b[1;33m,\u001b[0m \u001b[0msecond\u001b[0m\u001b[1;33m,\u001b[0m \u001b[0mmsg\u001b[0m\u001b[1;33m=\u001b[0m\u001b[1;32mNone\u001b[0m\u001b[1;33m)\u001b[0m\u001b[1;33m:\u001b[0m\u001b[1;33m\u001b[0m\u001b[0m\n",
      "\u001b[1;31mAssertionError\u001b[0m: 1.0 != 0.0"
     ]
    }
   ],
   "source": [
    "def test_std1():\n",
    "    obs = std([0.0, 2.0])\n",
    "    exp = 1.0\n",
    "    assert_equal(obs, exp)\n",
    "\n",
    "def test_std2():\n",
    "    obs = std([]) \n",
    "    exp = 0.0\n",
    "    assert_equal(obs, exp)\n",
    "\n",
    "def test_std3():\n",
    "    obs = std([0.0, 4.0])\n",
    "    exp = 2.0\n",
    "    assert_equal(obs, exp)\n",
    "    \n",
    "# run the tests\n",
    "test_std1()\n",
    "test_std2()\n",
    "test_std3()"
   ]
  },
  {
   "cell_type": "code",
   "execution_count": 17,
   "id": "e883560b",
   "metadata": {},
   "outputs": [],
   "source": [
    "def std(vals):\n",
    "    # a little better\n",
    "    if len(vals) == 0:\n",
    "        return 0.0\n",
    "    return vals[-1] / 2.0"
   ]
  },
  {
   "cell_type": "code",
   "execution_count": 18,
   "id": "d86f1acb",
   "metadata": {},
   "outputs": [
    {
     "ename": "AssertionError",
     "evalue": "1.5 != 1.0",
     "output_type": "error",
     "traceback": [
      "\u001b[1;31m---------------------------------------------------------------------------\u001b[0m\n\u001b[1;31mAssertionError\u001b[0m                            Traceback (most recent call last)",
      "\u001b[1;32m<ipython-input-18-e0b9b2ac3617>\u001b[0m in \u001b[0;36m<module>\u001b[1;34m()\u001b[0m\n\u001b[0;32m     28\u001b[0m \u001b[0mtest_std2\u001b[0m\u001b[1;33m(\u001b[0m\u001b[1;33m)\u001b[0m\u001b[1;33m\u001b[0m\u001b[0m\n\u001b[0;32m     29\u001b[0m \u001b[0mtest_std3\u001b[0m\u001b[1;33m(\u001b[0m\u001b[1;33m)\u001b[0m\u001b[1;33m\u001b[0m\u001b[0m\n\u001b[1;32m---> 30\u001b[1;33m \u001b[0mtest_std4\u001b[0m\u001b[1;33m(\u001b[0m\u001b[1;33m)\u001b[0m\u001b[1;33m\u001b[0m\u001b[0m\n\u001b[0m\u001b[0;32m     31\u001b[0m \u001b[0mtest_std5\u001b[0m\u001b[1;33m(\u001b[0m\u001b[1;33m)\u001b[0m\u001b[1;33m\u001b[0m\u001b[0m\n",
      "\u001b[1;32m<ipython-input-18-e0b9b2ac3617>\u001b[0m in \u001b[0;36mtest_std4\u001b[1;34m()\u001b[0m\n\u001b[0;32m     17\u001b[0m     \u001b[0mobs\u001b[0m \u001b[1;33m=\u001b[0m \u001b[0mstd\u001b[0m\u001b[1;33m(\u001b[0m\u001b[1;33m[\u001b[0m\u001b[1;36m1.0\u001b[0m\u001b[1;33m,\u001b[0m \u001b[1;36m3.0\u001b[0m\u001b[1;33m]\u001b[0m\u001b[1;33m)\u001b[0m\u001b[1;33m\u001b[0m\u001b[0m\n\u001b[0;32m     18\u001b[0m     \u001b[0mexp\u001b[0m \u001b[1;33m=\u001b[0m \u001b[1;36m1.0\u001b[0m\u001b[1;33m\u001b[0m\u001b[0m\n\u001b[1;32m---> 19\u001b[1;33m     \u001b[0massert_equal\u001b[0m\u001b[1;33m(\u001b[0m\u001b[0mobs\u001b[0m\u001b[1;33m,\u001b[0m \u001b[0mexp\u001b[0m\u001b[1;33m)\u001b[0m\u001b[1;33m\u001b[0m\u001b[0m\n\u001b[0m\u001b[0;32m     20\u001b[0m \u001b[1;33m\u001b[0m\u001b[0m\n\u001b[0;32m     21\u001b[0m \u001b[1;32mdef\u001b[0m \u001b[0mtest_std5\u001b[0m\u001b[1;33m(\u001b[0m\u001b[1;33m)\u001b[0m\u001b[1;33m:\u001b[0m\u001b[1;33m\u001b[0m\u001b[0m\n",
      "\u001b[1;32m/home/scopatz/miniconda3/lib/python3.4/unittest/case.py\u001b[0m in \u001b[0;36massertEqual\u001b[1;34m(self, first, second, msg)\u001b[0m\n\u001b[0;32m    795\u001b[0m         \"\"\"\n\u001b[0;32m    796\u001b[0m         \u001b[0massertion_func\u001b[0m \u001b[1;33m=\u001b[0m \u001b[0mself\u001b[0m\u001b[1;33m.\u001b[0m\u001b[0m_getAssertEqualityFunc\u001b[0m\u001b[1;33m(\u001b[0m\u001b[0mfirst\u001b[0m\u001b[1;33m,\u001b[0m \u001b[0msecond\u001b[0m\u001b[1;33m)\u001b[0m\u001b[1;33m\u001b[0m\u001b[0m\n\u001b[1;32m--> 797\u001b[1;33m         \u001b[0massertion_func\u001b[0m\u001b[1;33m(\u001b[0m\u001b[0mfirst\u001b[0m\u001b[1;33m,\u001b[0m \u001b[0msecond\u001b[0m\u001b[1;33m,\u001b[0m \u001b[0mmsg\u001b[0m\u001b[1;33m=\u001b[0m\u001b[0mmsg\u001b[0m\u001b[1;33m)\u001b[0m\u001b[1;33m\u001b[0m\u001b[0m\n\u001b[0m\u001b[0;32m    798\u001b[0m \u001b[1;33m\u001b[0m\u001b[0m\n\u001b[0;32m    799\u001b[0m     \u001b[1;32mdef\u001b[0m \u001b[0massertNotEqual\u001b[0m\u001b[1;33m(\u001b[0m\u001b[0mself\u001b[0m\u001b[1;33m,\u001b[0m \u001b[0mfirst\u001b[0m\u001b[1;33m,\u001b[0m \u001b[0msecond\u001b[0m\u001b[1;33m,\u001b[0m \u001b[0mmsg\u001b[0m\u001b[1;33m=\u001b[0m\u001b[1;32mNone\u001b[0m\u001b[1;33m)\u001b[0m\u001b[1;33m:\u001b[0m\u001b[1;33m\u001b[0m\u001b[0m\n",
      "\u001b[1;32m/home/scopatz/miniconda3/lib/python3.4/unittest/case.py\u001b[0m in \u001b[0;36m_baseAssertEqual\u001b[1;34m(self, first, second, msg)\u001b[0m\n\u001b[0;32m    788\u001b[0m             \u001b[0mstandardMsg\u001b[0m \u001b[1;33m=\u001b[0m \u001b[1;34m'%s != %s'\u001b[0m \u001b[1;33m%\u001b[0m \u001b[0m_common_shorten_repr\u001b[0m\u001b[1;33m(\u001b[0m\u001b[0mfirst\u001b[0m\u001b[1;33m,\u001b[0m \u001b[0msecond\u001b[0m\u001b[1;33m)\u001b[0m\u001b[1;33m\u001b[0m\u001b[0m\n\u001b[0;32m    789\u001b[0m             \u001b[0mmsg\u001b[0m \u001b[1;33m=\u001b[0m \u001b[0mself\u001b[0m\u001b[1;33m.\u001b[0m\u001b[0m_formatMessage\u001b[0m\u001b[1;33m(\u001b[0m\u001b[0mmsg\u001b[0m\u001b[1;33m,\u001b[0m \u001b[0mstandardMsg\u001b[0m\u001b[1;33m)\u001b[0m\u001b[1;33m\u001b[0m\u001b[0m\n\u001b[1;32m--> 790\u001b[1;33m             \u001b[1;32mraise\u001b[0m \u001b[0mself\u001b[0m\u001b[1;33m.\u001b[0m\u001b[0mfailureException\u001b[0m\u001b[1;33m(\u001b[0m\u001b[0mmsg\u001b[0m\u001b[1;33m)\u001b[0m\u001b[1;33m\u001b[0m\u001b[0m\n\u001b[0m\u001b[0;32m    791\u001b[0m \u001b[1;33m\u001b[0m\u001b[0m\n\u001b[0;32m    792\u001b[0m     \u001b[1;32mdef\u001b[0m \u001b[0massertEqual\u001b[0m\u001b[1;33m(\u001b[0m\u001b[0mself\u001b[0m\u001b[1;33m,\u001b[0m \u001b[0mfirst\u001b[0m\u001b[1;33m,\u001b[0m \u001b[0msecond\u001b[0m\u001b[1;33m,\u001b[0m \u001b[0mmsg\u001b[0m\u001b[1;33m=\u001b[0m\u001b[1;32mNone\u001b[0m\u001b[1;33m)\u001b[0m\u001b[1;33m:\u001b[0m\u001b[1;33m\u001b[0m\u001b[0m\n",
      "\u001b[1;31mAssertionError\u001b[0m: 1.5 != 1.0"
     ]
    }
   ],
   "source": [
    "def test_std1():\n",
    "    obs = std([0.0, 2.0])\n",
    "    exp = 1.0\n",
    "    assert_equal(obs, exp)\n",
    "\n",
    "def test_std2():\n",
    "    obs = std([])\n",
    "    exp = 0.0\n",
    "    assert_equal(obs, exp)\n",
    "\n",
    "def test_std3():\n",
    "    obs = std([0.0, 4.0])\n",
    "    exp = 2.0\n",
    "    assert_equal(obs, exp)\n",
    "\n",
    "def test_std4():\n",
    "    obs = std([1.0, 3.0])\n",
    "    exp = 1.0\n",
    "    assert_equal(obs, exp)\n",
    "\n",
    "def test_std5():\n",
    "    obs = std([1.0, 1.0, 1.0])\n",
    "    exp = 0.0\n",
    "    assert_equal(obs, exp)\n",
    "\n",
    "# run the tests\n",
    "test_std1()\n",
    "test_std2()\n",
    "test_std3()\n",
    "test_std4()\n",
    "test_std5()"
   ]
  },
  {
   "cell_type": "code",
   "execution_count": 19,
   "id": "83b51cb9",
   "metadata": {},
   "outputs": [],
   "source": [
    "def std(vals):\n",
    "    # finally, some math\n",
    "    n = len(vals)\n",
    "    if n == 0:\n",
    "        return 0.0\n",
    "    mu = sum(vals) / n\n",
    "    var = 0.0\n",
    "    for val in vals:\n",
    "        var = var + (val - mu)**2\n",
    "    return (var / n)**0.5"
   ]
  },
  {
   "cell_type": "code",
   "execution_count": 20,
   "id": "f15980df",
   "metadata": {},
   "outputs": [],
   "source": [
    "# run the tests\n",
    "test_std1()\n",
    "test_std2()\n",
    "test_std3()\n",
    "test_std4()\n",
    "test_std5()"
   ]
  }
 ],
 "metadata": {
  "kernelspec": {
   "display_name": "Python 3 (ipykernel)",
   "language": "python",
   "name": "python3"
  },
  "language_info": {
   "codemirror_mode": {
    "name": "ipython",
    "version": 3
   },
   "file_extension": ".py",
   "mimetype": "text/x-python",
   "name": "python",
   "nbconvert_exporter": "python",
   "pygments_lexer": "ipython3",
   "version": "3.8.12"
  }
 },
 "nbformat": 4,
 "nbformat_minor": 1
}
