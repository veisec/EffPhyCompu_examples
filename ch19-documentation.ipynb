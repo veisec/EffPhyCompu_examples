{
 "cells": [
  {
   "cell_type": "code",
   "execution_count": 1,
   "id": "435352d8",
   "metadata": {},
   "outputs": [],
   "source": [
    "def the_function(var):\n",
    "    \"\"\"This is a docstring, where a function definition might live\"\"\"\n",
    "    a = 1 + var  # this is a simple comment\n",
    "    return a"
   ]
  },
  {
   "cell_type": "code",
   "execution_count": 2,
   "id": "90036b9f",
   "metadata": {},
   "outputs": [],
   "source": [
    "def decay(index, database):\n",
    "    # first, retrieve the decay constants from the database\n",
    "    mylist = database.decay_constants()\n",
    "    # next, try to access an element of the list\n",
    "    try:\n",
    "        d = mylist[index] # gets decay constant at index in the list\n",
    "    # if the index doesn't exist\n",
    "    except IndexError:\n",
    "        # throw an informative error message\n",
    "        raise Exception(\"value not found in the list\")\n",
    "    return d"
   ]
  },
  {
   "cell_type": "code",
   "execution_count": 3,
   "id": "6131de8f",
   "metadata": {},
   "outputs": [],
   "source": [
    "def decay(index, database):\n",
    "    lambdas = database.decay_constants()\n",
    "    try:\n",
    "        lambda_i = lambdas[index]    # gets decay constant at index in the list\n",
    "    except IndexError:\n",
    "        raise Exception(\"value not found in the list\")\n",
    "    return lambda_i"
   ]
  },
  {
   "cell_type": "code",
   "execution_count": 4,
   "id": "a3aa541c",
   "metadata": {},
   "outputs": [],
   "source": [
    "def decay(index, database):\n",
    "    lambdas = database.decay_constants()\n",
    "    try:\n",
    "        lambda_i = lambdas[index]    # gets decay constant at index in the list\n",
    "    except LookupError:\n",
    "        raise Exception(\"value not found in the decay constants object\")\n",
    "    return lambda_i"
   ]
  },
  {
   "cell_type": "code",
   "execution_count": 5,
   "id": "9c804213",
   "metadata": {},
   "outputs": [],
   "source": [
    "def power(base, x):\n",
    "    \"\"\"Computes base^x. Both base and x should be integers,\n",
    "    floats, or another numeric type.\n",
    "    \"\"\"\n",
    "    return base**x "
   ]
  },
  {
   "cell_type": "code",
   "execution_count": 6,
   "id": "cb353eb6",
   "metadata": {},
   "outputs": [],
   "source": [
    "class Isotope(object):\n",
    "    \"\"\"A class defining the data and behaviors of a radionuclide.\n",
    "    \"\"\""
   ]
  }
 ],
 "metadata": {
  "kernelspec": {
   "display_name": "Python 3 (ipykernel)",
   "language": "python",
   "name": "python3"
  },
  "language_info": {
   "codemirror_mode": {
    "name": "ipython",
    "version": 3
   },
   "file_extension": ".py",
   "mimetype": "text/x-python",
   "name": "python",
   "nbconvert_exporter": "python",
   "pygments_lexer": "ipython3",
   "version": "3.8.12"
  }
 },
 "nbformat": 4,
 "nbformat_minor": 1
}
