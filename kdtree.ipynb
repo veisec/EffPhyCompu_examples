{
 "cells": [
  {
   "cell_type": "code",
   "execution_count": 1,
   "id": "e1cd0dcd",
   "metadata": {},
   "outputs": [],
   "source": [
    "class Node(object):\n",
    "    \n",
    "    def __init__(self, point, left=None, right=None):\n",
    "        self.point = point\n",
    "        self.left = left\n",
    "        self.right = right\n",
    "        \n",
    "    def __repr__(self):\n",
    "        isleaf = self.left is None and self.right is None\n",
    "        s = repr(self.point)\n",
    "        if not isleaf:\n",
    "            s = \"[\" + s + \":\"\n",
    "        if self.left is not None:\n",
    "            s += \"\\n  left = \" + \"\\n  \".join(repr(self.left).split('\\n'))\n",
    "        if self.right is not None:\n",
    "            s += \"\\n  right = \" + \"\\n  \".join(repr(self.right).split('\\n'))\n",
    "        if not isleaf:\n",
    "            s += \"\\n  ]\"\n",
    "        return s\n",
    "\n",
    "def kdtree(points, depth=0):\n",
    "    if len(points) == 0:\n",
    "        return None\n",
    "    k = len(points[0])\n",
    "    a = depth % k\n",
    "    points = sorted(points, key=lambda x: x[a])\n",
    "    i = int(len(points) / 2)  # middle index, rounded down\n",
    "    node_left = kdtree(points[:i], depth + 1)\n",
    "    node_right = kdtree(points[i+1:], depth + 1)\n",
    "    node = Node(points[i], node_left, node_right)\n",
    "    return node"
   ]
  },
  {
   "cell_type": "code",
   "execution_count": 2,
   "id": "4ac9717a",
   "metadata": {},
   "outputs": [],
   "source": [
    "import numpy as np\n",
    "import matplotlib.pyplot as plt\n",
    "%matplotlib inline"
   ]
  },
  {
   "cell_type": "code",
   "execution_count": 3,
   "id": "add2f0e4",
   "metadata": {},
   "outputs": [
    {
     "name": "stdout",
     "output_type": "stream",
     "text": [
      "[(1, 3), (5, 1), (5, 5), (2, 2), (1, 1), (1, 4)]\n"
     ]
    },
    {
     "data": {
      "text/plain": [
       "[(2, 2):\n",
       "  left = [(1, 3):\n",
       "    left = (1, 1)\n",
       "    right = (1, 4)\n",
       "    ]\n",
       "  right = [(5, 5):\n",
       "    left = (5, 1)\n",
       "    ]\n",
       "  ]"
      ]
     },
     "execution_count": 3,
     "metadata": {},
     "output_type": "execute_result"
    }
   ],
   "source": [
    "points = list(set([(int(x), int(y)) for x, y in np.random.randint(1, 6, size=(60, 2))]))[::3][:6]\n",
    "print(points)\n",
    "kdtree(points)"
   ]
  },
  {
   "cell_type": "code",
   "execution_count": 4,
   "id": "421bc147",
   "metadata": {},
   "outputs": [
    {
     "name": "stdout",
     "output_type": "stream",
     "text": [
      "[(3, 2):\n",
      "  left = [(1, 2):\n",
      "    left = (2, 1)\n",
      "    right = (1, 5)\n",
      "    ]\n",
      "  right = [(5, 5):\n",
      "    left = (4, 3)\n",
      "    ]\n",
      "  ]\n"
     ]
    }
   ],
   "source": [
    "points = [(1, 2), (3, 2), (5, 5), (2, 1), (4, 3), (1, 5)]\n",
    "root = kdtree(points)\n",
    "print(root)"
   ]
  },
  {
   "cell_type": "code",
   "execution_count": 5,
   "id": "4fb6173d",
   "metadata": {},
   "outputs": [
    {
     "data": {
      "image/png": "[encoded data removed]",
      "text/plain": [
       "<matplotlib.figure.Figure at 0x7f3a440498d0>"
      ]
     },
     "metadata": {},
     "output_type": "display_data"
    }
   ],
   "source": [
    "def partition_plot(node, xlower=0, xupper=6, ylower=0, yupper=6, depth=0):\n",
    "    x, y = node.point\n",
    "    if depth % 2 == 0:\n",
    "        plt.plot([x, x], [ylower, yupper], c='b')\n",
    "    else:\n",
    "        plt.plot([xlower, xupper], [y, y], c='g')\n",
    "    if node.left is not None:\n",
    "        if depth % 2 == 0:\n",
    "            partition_plot(node.left, xlower, x, ylower, yupper, depth+1)\n",
    "        else:\n",
    "            partition_plot(node.left, xlower, xupper, ylower, y, depth+1)\n",
    "    if node.right is not None:\n",
    "        if depth % 2 == 0:\n",
    "            partition_plot(node.right, x, xupper, ylower, yupper, depth+1)\n",
    "        else:\n",
    "            partition_plot(node.right, xlower, xupper, y, yupper, depth+1)\n",
    "partition_plot(root)\n",
    "plt.scatter([x[0] for x in points], [x[1] for x in points], c='k')\n",
    "plt.axis([0, 6, 0, 6])\n",
    "plt.xlabel(\"x\")\n",
    "plt.ylabel(\"y\")\n",
    "plt.axes().set_aspect('equal')\n",
    "plt.savefig(\"kdtree.svg\")\n",
    "plt.show()"
   ]
  },
  {
   "cell_type": "code",
   "execution_count": 6,
   "id": "dfed0a7d",
   "metadata": {},
   "outputs": [],
   "source": [
    "from scipy.spatial import KDTree\n",
    "tree = KDTree(points)"
   ]
  },
  {
   "cell_type": "code",
   "execution_count": 7,
   "id": "4a8dc005",
   "metadata": {},
   "outputs": [
    {
     "data": {
      "text/plain": [
       "array([[1, 2],\n",
       "       [3, 2],\n",
       "       [5, 5],\n",
       "       [2, 1],\n",
       "       [4, 3],\n",
       "       [1, 5]])"
      ]
     },
     "execution_count": 7,
     "metadata": {},
     "output_type": "execute_result"
    }
   ],
   "source": [
    "tree.data"
   ]
  },
  {
   "cell_type": "code",
   "execution_count": 8,
   "id": "bacb587e",
   "metadata": {},
   "outputs": [],
   "source": [
    "dist, idx = tree.query([(4.5, 1.25)])"
   ]
  },
  {
   "cell_type": "code",
   "execution_count": 9,
   "id": "0f436f3c",
   "metadata": {},
   "outputs": [
    {
     "data": {
      "text/plain": [
       "array([ 1.67705098])"
      ]
     },
     "execution_count": 9,
     "metadata": {},
     "output_type": "execute_result"
    }
   ],
   "source": [
    "dist"
   ]
  },
  {
   "cell_type": "code",
   "execution_count": 10,
   "id": "0c73b736",
   "metadata": {},
   "outputs": [
    {
     "data": {
      "text/plain": [
       "array([1])"
      ]
     },
     "execution_count": 10,
     "metadata": {},
     "output_type": "execute_result"
    }
   ],
   "source": [
    "idx"
   ]
  },
  {
   "cell_type": "code",
   "execution_count": 11,
   "id": "7e10fd59",
   "metadata": {},
   "outputs": [
    {
     "data": {
      "text/plain": [
       "array([[3, 2]])"
      ]
     },
     "execution_count": 11,
     "metadata": {},
     "output_type": "execute_result"
    }
   ],
   "source": [
    "tree.data[idx]"
   ]
  },
  {
   "cell_type": "code",
   "execution_count": 12,
   "id": "330fb519",
   "metadata": {},
   "outputs": [
    {
     "data": {
      "image/png": "[encoded data removed]",
      "text/plain": [
       "<matplotlib.figure.Figure at 0x7f3a43f640d0>"
      ]
     },
     "metadata": {},
     "output_type": "display_data"
    }
   ],
   "source": [
    "partition_plot(root)\n",
    "plt.scatter([x[0] for x in points] + [4.5], [x[1] for x in points] + [1.25], c='k')\n",
    "plt.plot([4.5, 3], [1.25, 2], 'r--')\n",
    "plt.axis([0, 6, 0, 6])\n",
    "plt.xlabel(\"x\")\n",
    "plt.ylabel(\"y\")\n",
    "plt.axes().set_aspect('equal')\n",
    "plt.savefig(\"kdtree-query.svg\")\n",
    "plt.show()"
   ]
  },
  {
   "cell_type": "code",
   "execution_count": 12,
   "id": "2c76e330",
   "metadata": {},
   "outputs": [],
   "source": []
  }
 ],
 "metadata": {
  "kernelspec": {
   "display_name": "Python 3 (ipykernel)",
   "language": "python",
   "name": "python3"
  },
  "language_info": {
   "codemirror_mode": {
    "name": "ipython",
    "version": 3
   },
   "file_extension": ".py",
   "mimetype": "text/x-python",
   "name": "python",
   "nbconvert_exporter": "python",
   "pygments_lexer": "ipython3",
   "version": "3.8.12"
  }
 },
 "nbformat": 4,
 "nbformat_minor": 1
}
