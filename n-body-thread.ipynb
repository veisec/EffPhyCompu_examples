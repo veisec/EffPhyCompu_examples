{
 "cells": [
  {
   "cell_type": "code",
   "execution_count": 1,
   "id": "d2d9ca6c",
   "metadata": {},
   "outputs": [],
   "source": [
    "import numpy as np\n",
    "\n",
    "def remove_i(x, i):\n",
    "    \"\"\"Drops the ith element of an array.\"\"\"\n",
    "    shape = (x.shape[0]-1,) + x.shape[1:]\n",
    "    y = np.empty(shape, dtype=float)\n",
    "    y[:i] = x[:i]\n",
    "    y[i:] = x[i+1:]\n",
    "    return y\n",
    "\n",
    "def a(i, x, G, m):\n",
    "    \"\"\"The acelleration of the ith mass.\"\"\"\n",
    "    x_i = x[i]\n",
    "    x_j = remove_i(x, i)\n",
    "    m_j = remove_i(m, i)\n",
    "    diff = x_j - x_i\n",
    "    mag3 = np.sum(diff**2, axis=1)**1.5\n",
    "    result = G * np.sum(diff * (m_j / mag3)[:,np.newaxis], axis=0)\n",
    "    return result"
   ]
  },
  {
   "cell_type": "code",
   "execution_count": 2,
   "id": "9e9219cb",
   "metadata": {},
   "outputs": [],
   "source": [
    "from threading import Thread\n",
    "\n",
    "class Worker(Thread):\n",
    "    \"\"\"Computes x, v, and a of the ith body.\"\"\"\n",
    "    def __init__(self, *args, **kwargs):\n",
    "        super(Worker, self).__init__(*args, **kwargs)\n",
    "        self.inputs = []\n",
    "        self.results = []\n",
    "        self.running = True\n",
    "        self.daemon = True\n",
    "        self.start()\n",
    "        \n",
    "    def run(self):\n",
    "        while self.running:\n",
    "            if len(self.inputs) == 0:\n",
    "                continue\n",
    "            i, x0, v0, G, m, dt = self.inputs[0]\n",
    "            a_i0 = a(i, x0, G, m)\n",
    "            v_i1 = a_i0 * dt + v0[i]\n",
    "            x_i1 = a_i0 * dt**2 + v0[i] * dt + x0[i]\n",
    "            result = (i, x_i1, v_i1)\n",
    "            self.results.append(result)\n",
    "            del self.inputs[0]\n",
    "            \n",
    "class Pool(object):\n",
    "    \"\"\"A collection of P worker threads that disrtibutes tasks \n",
    "    evenly across them.\n",
    "    \"\"\"\n",
    "    def __init__(self, size):\n",
    "        self.size = size\n",
    "        self.workers = [Worker() for p in range(size)]\n",
    "        \n",
    "    def do(self, tasks):\n",
    "        for p in range(self.size):\n",
    "            self.workers[p].inputs += tasks[p::self.size]\n",
    "        while any([len(worker.inputs) != 0 for worker in self.workers]):\n",
    "            pass\n",
    "        results = []\n",
    "        for worker in self.workers:\n",
    "            results += worker.results\n",
    "            worker.results.clear()\n",
    "        return results\n",
    "    \n",
    "    def __del__(self):\n",
    "        for worker in self.workers:\n",
    "            worker.running = False"
   ]
  },
  {
   "cell_type": "code",
   "execution_count": 3,
   "id": "7b9d6ee5",
   "metadata": {},
   "outputs": [],
   "source": [
    "def timestep(x0, v0, G, m, dt, pool):\n",
    "    \"\"\"Computes the next position and velocity for all masses given \n",
    "    a initial conditions and a time step size.\n",
    "    \"\"\"\n",
    "    N = len(x0)\n",
    "    tasks = [(i, x0, v0, G, m, dt) for i in range(N)]\n",
    "    results = pool.do(tasks)\n",
    "    x1 = np.empty(x0.shape, dtype=float)\n",
    "    v1 = np.empty(v0.shape, dtype=float)\n",
    "    for i, x_i1, v_i1 in results:\n",
    "        x1[i] = x_i1\n",
    "        v1[i] = v_i1\n",
    "    return x1, v1\n",
    "\n",
    "def initial_cond(N, D):\n",
    "    \"\"\"Generates initial conditions for N unity masses at rest \n",
    "    starting at random positions in D-dimensional space.\n",
    "    \"\"\"\n",
    "    x0 = np.random.rand(N, D)\n",
    "    v0 = np.zeros((N, D), dtype=float)\n",
    "    m = np.ones(N, dtype=float)\n",
    "    return x0, v0, m    "
   ]
  },
  {
   "cell_type": "code",
   "execution_count": 4,
   "id": "10adf033",
   "metadata": {},
   "outputs": [],
   "source": [
    "def makefig(x, v, t):\n",
    "    plt.plot(x[:,0], x[:,1], 'ro')\n",
    "    if not np.all(v == 0.0):\n",
    "        plt.quiver(x[:,0], x[:,1], v[:,0], v[:,1])\n",
    "    plt.xlabel('x')\n",
    "    plt.ylabel('y')\n",
    "    plt.title('Time t = {0}'.format(t))\n",
    "    plt.savefig('n-body-t{0}.svg'.format(t))"
   ]
  },
  {
   "cell_type": "code",
   "execution_count": 5,
   "id": "aebe3555",
   "metadata": {},
   "outputs": [
    {
     "name": "stdout",
     "output_type": "stream",
     "text": [
      "CPU times: user 374 ms, sys: 7.13 ms, total: 382 ms\n",
      "Wall time: 403 ms\n"
     ]
    }
   ],
   "source": [
    "%%time\n",
    "x0, v0, m = initial_cond(10, 2)\n",
    "pool = Pool(4)\n",
    "x1, v1 = timestep(x0, v0, 1.0, m, 1.0e-3, pool)\n",
    "del pool"
   ]
  },
  {
   "cell_type": "code",
   "execution_count": 6,
   "id": "a392554b",
   "metadata": {},
   "outputs": [
    {
     "data": {
      "image/png": "[encoded data removed]",
      "text/plain": [
       "<matplotlib.figure.Figure at 0x7f524c23bef0>"
      ]
     },
     "metadata": {},
     "output_type": "display_data"
    }
   ],
   "source": [
    "makefig(x0, v0, 0)"
   ]
  },
  {
   "cell_type": "code",
   "execution_count": 7,
   "id": "dee8267c",
   "metadata": {},
   "outputs": [
    {
     "data": {
      "image/png": "[encoded data removed]",
      "text/plain": [
       "<matplotlib.figure.Figure at 0x7f524c1a2c50>"
      ]
     },
     "metadata": {},
     "output_type": "display_data"
    }
   ],
   "source": [
    "makefig(x1, v1, 1e-3)"
   ]
  },
  {
   "cell_type": "code",
   "execution_count": 8,
   "id": "e9bb3999",
   "metadata": {},
   "outputs": [
    {
     "data": {
      "text/html": [
       "\n",
       "<script language=\"javascript\">\n",
       "  /* Define the Animation class */\n",
       "  function Animation(frames, img_id, slider_id, interval, loop_select_id){\n",
       "    this.img_id = img_id;\n",
       "    this.slider_id = slider_id;\n",
       "    this.loop_select_id = loop_select_id;\n",
       "    this.interval = interval;\n",
       "    this.current_frame = 0;\n",
       "    this.direction = 0;\n",
       "    this.timer = null;\n",
       "    this.frames = new Array(frames.length);\n",
       "\n",
       "    for (var i=0; i<frames.length; i++)\n",
       "    {\n",
       "     this.frames[i] = new Image();\n",
       "     this.frames[i].src = frames[i];\n",
       "    }\n",
       "    document.getElementById(this.slider_id).max = this.frames.length - 1;\n",
       "    this.set_frame(this.current_frame);\n",
       "  }\n",
       "\n",
       "  Animation.prototype.get_loop_state = function(){\n",
       "    var button_group = document[this.loop_select_id].state;\n",
       "    for (var i = 0; i < button_group.length; i++) {\n",
       "        var button = button_group[i];\n",
       "        if (button.checked) {\n",
       "            return button.value;\n",
       "        }\n",
       "    }\n",
       "    return undefined;\n",
       "  }\n",
       "\n",
       "  Animation.prototype.set_frame = function(frame){\n",
       "    this.current_frame = frame;\n",
       "    document.getElementById(this.img_id).src = this.frames[this.current_frame].src;\n",
       "    document.getElementById(this.slider_id).value = this.current_frame;\n",
       "  }\n",
       "\n",
       "  Animation.prototype.next_frame = function()\n",
       "  {\n",
       "    this.set_frame(Math.min(this.frames.length - 1, this.current_frame + 1));\n",
       "  }\n",
       "\n",
       "  Animation.prototype.previous_frame = function()\n",
       "  {\n",
       "    this.set_frame(Math.max(0, this.current_frame - 1));\n",
       "  }\n",
       "\n",
       "  Animation.prototype.first_frame = function()\n",
       "  {\n",
       "    this.set_frame(0);\n",
       "  }\n",
       "\n",
       "  Animation.prototype.last_frame = function()\n",
       "  {\n",
       "    this.set_frame(this.frames.length - 1);\n",
       "  }\n",
       "\n",
       "  Animation.prototype.slower = function()\n",
       "  {\n",
       "    this.interval /= 0.7;\n",
       "    if(this.direction > 0){this.play_animation();}\n",
       "    else if(this.direction < 0){this.reverse_animation();}\n",
       "  }\n",
       "\n",
       "  Animation.prototype.faster = function()\n",
       "  {\n",
       "    this.interval *= 0.7;\n",
       "    if(this.direction > 0){this.play_animation();}\n",
       "    else if(this.direction < 0){this.reverse_animation();}\n",
       "  }\n",
       "\n",
       "  Animation.prototype.anim_step_forward = function()\n",
       "  {\n",
       "    this.current_frame += 1;\n",
       "    if(this.current_frame < this.frames.length){\n",
       "      this.set_frame(this.current_frame);\n",
       "    }else{\n",
       "      var loop_state = this.get_loop_state();\n",
       "      if(loop_state == \"loop\"){\n",
       "        this.first_frame();\n",
       "      }else if(loop_state == \"reflect\"){\n",
       "        this.last_frame();\n",
       "        this.reverse_animation();\n",
       "      }else{\n",
       "        this.pause_animation();\n",
       "        this.last_frame();\n",
       "      }\n",
       "    }\n",
       "  }\n",
       "\n",
       "  Animation.prototype.anim_step_reverse = function()\n",
       "  {\n",
       "    this.current_frame -= 1;\n",
       "    if(this.current_frame >= 0){\n",
       "      this.set_frame(this.current_frame);\n",
       "    }else{\n",
       "      var loop_state = this.get_loop_state();\n",
       "      if(loop_state == \"loop\"){\n",
       "        this.last_frame();\n",
       "      }else if(loop_state == \"reflect\"){\n",
       "        this.first_frame();\n",
       "        this.play_animation();\n",
       "      }else{\n",
       "        this.pause_animation();\n",
       "        this.first_frame();\n",
       "      }\n",
       "    }\n",
       "  }\n",
       "\n",
       "  Animation.prototype.pause_animation = function()\n",
       "  {\n",
       "    this.direction = 0;\n",
       "    if (this.timer){\n",
       "      clearInterval(this.timer);\n",
       "      this.timer = null;\n",
       "    }\n",
       "  }\n",
       "\n",
       "  Animation.prototype.play_animation = function()\n",
       "  {\n",
       "    this.pause_animation();\n",
       "    this.direction = 1;\n",
       "    var t = this;\n",
       "    if (!this.timer) this.timer = setInterval(function(){t.anim_step_forward();}, this.interval);\n",
       "  }\n",
       "\n",
       "  Animation.prototype.reverse_animation = function()\n",
       "  {\n",
       "    this.pause_animation();\n",
       "    this.direction = -1;\n",
       "    var t = this;\n",
       "    if (!this.timer) this.timer = setInterval(function(){t.anim_step_reverse();}, this.interval);\n",
       "  }\n",
       "</script>\n",
       "\n",
       "<div class=\"animation\" align=\"center\">\n",
       "    <img id=\"_anim_imgCAPMNFKXYMKCSJRG\">\n",
       "    <br>\n",
       "    <input id=\"_anim_sliderCAPMNFKXYMKCSJRG\" type=\"range\" style=\"width:350px\" name=\"points\" min=\"0\" max=\"1\" step=\"1\" value=\"0\" onchange=\"animCAPMNFKXYMKCSJRG.set_frame(parseInt(this.value));\"></input>\n",
       "    <br>\n",
       "    <button onclick=\"animCAPMNFKXYMKCSJRG.slower()\">&#8211;</button>\n",
       "    <button onclick=\"animCAPMNFKXYMKCSJRG.first_frame()\"><img class=\"anim_icon\" src=\"data:image/png;base64,iVBORw0KGgoAAAANSUhEUgAAABQAAAAUCAQAAAAngNWGAAAAAXNSR0IArs4c6QAAAAJiS0dEAP+Hj8y/AAAACXBIWXMAAAsTAAALEwEAmpwYAAAAB3RJTUUH3QURCAgaeZk4EQAAASlJREFUKM/dkj9LQnEUhp9zr3bpj1uBcKGiJWxzLWivKAIRjIhcCqcgqJbKRagPICiVSVEuNTu0tLYGUg4tkRGUdxLJ0u79Ndxr5FfwTO/L+xzO4XCgO+v2T70AFU+/A/Dhmlzg6Pr0DKAMwOH4zQxAAbAkv2xNeF2RoQUVc1ytgttXUbWVdN1dOPE8pz4j4APQsdFtKA0WY6vpKjqvVciHnvZTS6Ja4HgggJLs7MHxl9nCh8NYcO+iGG0agiaC4h9oa6Vsw2yiK+QHSZT934YoEQABNBcTNDszsrhm1m1B+bFS86PT6QFppx6oeSaeOwlMXRp1h4aK13Y2kuHhUo9ykPboPvFjeEvsrhTMt3ylHyB0r8KZyYdCrbfj4OveoHMANjuyx+76rV+/blxKMZUnLgAAAABJRU5ErkJggg==\"></button>\n",
       "    <button onclick=\"animCAPMNFKXYMKCSJRG.previous_frame()\"><img class=\"anim_icon\" src=\"data:image/png;base64,iVBORw0KGgoAAAANSUhEUgAAABQAAAAUCAQAAAAngNWGAAAAAXNSR0IArs4c6QAAAAJiS0dEAP+Hj8y/AAAACXBIWXMAAAsTAAALEwEAmpwYAAAAB3RJTUUH3QURCAgyTCyQ6wAAANRJREFUKM9jYBjO4AiUfgzFGGAp4+yayUvX6jMwMDCsYmBgOCS4OAOrSYmMgcc8/pd5Q3irC+Neh/1AlmeBMVgZmP8yMLD8/c/cqv9r90whzv/MX7Eq/MfAwMDIwCuZdfSV8U8WDgZGRmYGrAoZGRgY/jO8b3sj/J2F6T8j4z80pzEhmIwMjAxsSbqqlkeZGP//Z8SlkJnhPwMjwx/Guoe1NhmRwk+YGH5jV8jOwMPHzcDBysAwh8FrxQwtPU99HrwBXsnAwMDAsJiBgYGBoZ1xmKYqALHhMpn1o7igAAAAAElFTkSuQmCC\"></button>\n",
       "    <button onclick=\"animCAPMNFKXYMKCSJRG.reverse_animation()\"><img class=\"anim_icon\" src=\"data:image/png;base64,iVBORw0KGgoAAAANSUhEUgAAABQAAAAUCAQAAAAngNWGAAAAAXNSR0IArs4c6QAAAAJiS0dEAP+Hj8y/AAAACXBIWXMAAAsTAAALEwEAmpwYAAAAB3RJTUUH3QURCAgmVvZElgAAAVFJREFUKM+t0k8ow3EYx/H3s/2aLDUSZctFkgsHEi1XLi5ukpPSWsuJklwclsPSsDKFi7MSJ0I5qF2GHO2m0FY7+BdNv7Y9DpuxDSt5vsfvq+fT9/k+8D8VBxIAWH6H0ead4Qb5BRwCENoceZi5Stl/6BgCBmtWhjzxg4mUQ02rAhil7JgB9tze7aTLxFAKsUUd14B9ZzCyFUk401gQyQJaDNcBHwv7t7ETd0ZVQFEEzcNCdE/1wtj15imGWlEB8qkf2QaAWjbG/bPSamIDyX65/iwDIFx7tWjUvWCoSo5oGbYATN7PORt7W9IZEQXJH8ohuN7C0VVX91KNqYhq4a1lEGJI0j892tazXCWQRUpwAbYDcHczPxXuajq3mbnhfANz5eOJxsuNvs7+jud0UcuyL3QAkuEMx4rnIvBYq1JhEwPAUb3fG7x8tVdc292/7Po7f2VqA+Yz7ZwAAAAASUVORK5CYII=\"></button>\n",
       "    <button onclick=\"animCAPMNFKXYMKCSJRG.pause_animation()\"><img class=\"anim_icon\" src=\"data:image/png;base64,iVBORw0KGgoAAAANSUhEUgAAABQAAAAUCAQAAAAngNWGAAAAAXNSR0IArs4c6QAAAAJiS0dEAP+Hj8y/AAAACXBIWXMAAAsTAAALEwEAmpwYAAAAB3RJTUUH3QURCAkR91DQ2AAAAKtJREFUKM9jYCANTEVib2K4jcRbzQihGWEC00JuNjN8Z2Q0Zo3VYWA4lL005venH9+c3ZK5IfIsMIXMBtc12Bj+MMgxMDAwMPzWe2TBzPCf4SLcZCYY4/9/RgZGBiaYFf8gljFhKiQERhUOeoX/Gf8y/GX4y/APmlj+Mfxj+MfwH64Qnnq0zr9fyfLrPzP3eQYGBobvk5x4GX4xMIij23gdib0cRWYHiVmAAQDK5ircshCbHQAAAABJRU5ErkJggg==\"></button>\n",
       "    <button onclick=\"animCAPMNFKXYMKCSJRG.play_animation()\"><img class=\"anim_icon\" src=\"data:image/png;base64,iVBORw0KGgoAAAANSUhEUgAAABQAAAAUCAQAAAAngNWGAAAAAXNSR0IArs4c6QAAAAJiS0dEAP+Hj8y/AAAACXBIWXMAAAsTAAALEwEAmpwYAAAAB3RJTUUH3QURCAkEmo00MwAAAS9JREFUKM+tkj1IQmEUhp9j94LQj0FD4RRBLdLQ3ftb26PRcCiQIIiIDFwKC0OhaAiam5wVDBpqCKohQojMLYzaAiUatOtpuQrKVQl64fu+4Xt4OLwc+Fs+nNM16jsPAWS6gZXggoZfXmfhog3hcZ6aTXF87Sp68OmH4/YggAo8bmfyyeh6Z1AAKPVldyO1+Iz2uILq3AriJSe3l+H7aj+cuRnrTsVDxSxay+VYbMDnCtZxxQOU9G4nlU9E1HQBxRkCQMRGRnIbpxMARkvxCIoAorYMMrq0mJ0qu4COUW3xyVDqJC4P+86P0ewDQbQqgevhlc2C8ETApXAEFLzvwa3EXG9BoIE1GQUbv1h7k4fTXxBu6cKgUbX5M3ZzNC+a7rQ936HV56SlRpcle+Mf8wvgJ16zo/4BtQAAAABJRU5ErkJggg==\"></button>\n",
       "    <button onclick=\"animCAPMNFKXYMKCSJRG.next_frame()\"><img class=\"anim_icon\" src=\"data:image/png;base64,iVBORw0KGgoAAAANSUhEUgAAABQAAAAUCAQAAAAngNWGAAAAAXNSR0IArs4c6QAAAAJiS0dEAP+Hj8y/AAAACXBIWXMAAAsTAAALEwEAmpwYAAAAB3RJTUUH3QURCAkd/uac8wAAAMhJREFUKM9jYBie4DEUQ8B+fEq3+3UrMzAwMFxjYGBgYJizYubaOUxYFUaXh/6vWfRfEMIL/+//P5gZJoei4/f/7wxnY1PeNUXdE2RgYGZgYoCrY2BBVsjKwMDAwvCS4f3SG/dXxm5gYESSQ1HIwvCPgZmB8f8Pxv+Kxxb/YfiPJIdi9T8GJgaG/38ZFd4Fx0xUYsZt4h8GBgb2D2bLy7KnMTAwMEIxFoVCXIYr1IoDnkF4XAysqNIwUMDAwMDAsADKS2NkGL4AAIARMlfNIfZMAAAAAElFTkSuQmCC\"></button>\n",
       "    <button onclick=\"animCAPMNFKXYMKCSJRG.last_frame()\"><img class=\"anim_icon\" src=\"data:image/png;base64,iVBORw0KGgoAAAANSUhEUgAAABQAAAAUCAQAAAAngNWGAAAAAXNSR0IArs4c6QAAAAJiS0dEAP+Hj8y/AAAACXBIWXMAAAsTAAALEwEAmpwYAAAAB3RJTUUH3QURCAknOOpFQQAAAS9JREFUKM/dkrEvQ3EQxz/33mtoQxiYpANbLU26NAabSCcSUouGBVNDjYQaOiDpIEiKjURIw2Kx04hEYmkHEpGoJpSISaXq9Wd4P03/ht5y98197/u9XA4aK4rAWw3lgWddZ3S+/G9mEovtAB8AHE4pgTQAx8PbJweRmsq6GimmNpxaNYXVzMNNCI6A2figimwCGACK786zuWgh3qcsKf/w0pM4X0m/doNVFVzVGlEQsdRj193VxEWpH0RsdRu+zi3tVMqCAsDShoiYqiSV4OouVDFEqS9Pbiyg7vV62lpQ2BJ4Gg0meg0MbNpkYG/e+540NNFyrE1a8qHk5BaAjfnrzUaHfAWImVrLIXbgnx4/9X06s35cweWsVACa3a24PVp0X+rPv1aHFnSONdiL8Qci0lzwpOM5sQAAAABJRU5ErkJggg==\"></button>\n",
       "    <button onclick=\"animCAPMNFKXYMKCSJRG.faster()\">+</button>\n",
       "  <form action=\"#n\" name=\"_anim_loop_selectCAPMNFKXYMKCSJRG\" class=\"anim_control\">\n",
       "    <input type=\"radio\" name=\"state\" value=\"once\" > Once </input>\n",
       "    <input type=\"radio\" name=\"state\" value=\"loop\" checked> Loop </input>\n",
       "    <input type=\"radio\" name=\"state\" value=\"reflect\" > Reflect </input>\n",
       "  </form>\n",
       "</div>\n",
       "\n",
       "\n",
       "<script language=\"javascript\">\n",
       "  /* Instantiate the Animation class. */\n",
       "  /* The IDs given should match those used in the template above. */\n",
       "  (function() {\n",
       "    var img_id = \"_anim_imgCAPMNFKXYMKCSJRG\";\n",
       "    var slider_id = \"_anim_sliderCAPMNFKXYMKCSJRG\";\n",
       "    var loop_select_id = \"_anim_loop_selectCAPMNFKXYMKCSJRG\";\n",
       "    var frames = new Array(0);\n",
       "    \n",
       "  frames[0] = \"data:image/png;base64,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\"\n",
       "  frames[1] = \"data:image/png;base64,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\"\n",
       "  frames[2] = \"data:image/png;base64,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\"\n",
       "\n",
       "\n",
       "    /* set a timeout to make sure all the above elements are created before\n",
       "       the object is initialized. */\n",
       "    setTimeout(function() {\n",
       "        animCAPMNFKXYMKCSJRG = new Animation(frames, img_id, slider_id, 100, loop_select_id);\n",
       "    }, 0);\n",
       "  })()\n",
       "</script>\n"
      ],
      "text/plain": [
       "<matplotlib.animation.FuncAnimation at 0x7f524c159978>"
      ]
     },
     "execution_count": 8,
     "metadata": {},
     "output_type": "execute_result"
    }
   ],
   "source": [
    "from matplotlib import animation\n",
    "from JSAnimation import IPython_display\n",
    "\n",
    "fig = plt.figure()\n",
    "ax = plt.axes(xlim=(0, 1.0), ylim=(0, 1.0))\n",
    "viewport = [0.0, 1.0, 0.0, 1.0]\n",
    "\n",
    "N = 10\n",
    "x0, v0, m = initial_cond(N, 2)\n",
    "pool = Pool(4)\n",
    "\n",
    "def init():\n",
    "    ax.clear()\n",
    "    ax.plot(x0[:,0], x0[:,1], 'ro')\n",
    "    ax.quiver(x0[:,0], x0[:,1], v0[:,0], v0[:,1])\n",
    "    ax.axis(viewport)\n",
    "    return ax\n",
    "\n",
    "def animate(i):\n",
    "    global x0, v0, pool\n",
    "    x, v = timestep(x0, v0, 1.0, m, 1.0e-3, pool)\n",
    "    ax.clear()\n",
    "    ax.plot(x[:,0], x[:,1], 'ro')\n",
    "    ax.quiver(x[:,0], x[:,1], v[:,0], v[:,1])\n",
    "    ax.axis(viewport)\n",
    "    x0, v0 = x, v\n",
    "    return ax\n",
    "\n",
    "animation.FuncAnimation(fig, animate, frames=3, init_func=init, interval=100)"
   ]
  },
  {
   "cell_type": "code",
   "execution_count": 9,
   "id": "93436a03",
   "metadata": {},
   "outputs": [],
   "source": [
    "del pool"
   ]
  },
  {
   "cell_type": "code",
   "execution_count": 10,
   "id": "5bd0f85f",
   "metadata": {},
   "outputs": [],
   "source": [
    "def simulate(P, N, D, S, G, dt):\n",
    "    x0, v0, m = initial_cond(N, D)\n",
    "    pool = Pool(P)\n",
    "    for s in range(S):\n",
    "        x1, v1 = timestep(x0, v0, G, m, dt, pool)\n",
    "        x0, v0 = x1, v1"
   ]
  },
  {
   "cell_type": "code",
   "execution_count": 11,
   "id": "c17f0385",
   "metadata": {},
   "outputs": [
    {
     "name": "stdout",
     "output_type": "stream",
     "text": [
      "running 1\n",
      "running 2\n",
      "running 4\n",
      "running 8\n",
      "[56.02754735946655, 145.93722319602966, 391.36282658576965, 748.9838373661041]\n",
      "CPU times: user 22min 17s, sys: 57.7 s, total: 23min 15s\n",
      "Wall time: 22min 22s\n"
     ]
    }
   ],
   "source": [
    "%%time\n",
    "import time\n",
    "Ps = [1, 2, 4, 8]\n",
    "runtimes = []\n",
    "for P in Ps:\n",
    "    print(\"running\", P)\n",
    "    start = time.time()\n",
    "    simulate(P, 64, 3, 300, 1.0, 1e-3)\n",
    "    stop = time.time()\n",
    "    runtimes.append(stop - start)\n",
    "print(runtimes)"
   ]
  },
  {
   "cell_type": "code",
   "execution_count": 12,
   "id": "80c9adb6",
   "metadata": {},
   "outputs": [
    {
     "data": {
      "image/png": "[encoded data removed]",
      "text/plain": [
       "<matplotlib.figure.Figure at 0x7f524c0eb438>"
      ]
     },
     "metadata": {},
     "output_type": "display_data"
    }
   ],
   "source": [
    "rts = runtimes[0] / np.array(runtimes) \n",
    "plt.plot(Ps, rts, 'ko-')\n",
    "plt.xlabel('Number of Threads, $P$')\n",
    "plt.ylabel('speedup, $t_1/t_P$')\n",
    "plt.savefig('n-body-thread-speedup.svg')"
   ]
  },
  {
   "cell_type": "code",
   "execution_count": 13,
   "id": "419c5d35",
   "metadata": {},
   "outputs": [
    {
     "data": {
      "text/plain": [
       "[<matplotlib.lines.Line2D at 0x7f5246d64eb8>]"
      ]
     },
     "execution_count": 13,
     "metadata": {},
     "output_type": "execute_result"
    },
    {
     "data": {
      "image/png": "[encoded data removed]",
      "text/plain": [
       "<matplotlib.figure.Figure at 0x7f524c1a4358>"
      ]
     },
     "metadata": {},
     "output_type": "display_data"
    }
   ],
   "source": [
    "plt.plot(Ps, rts / Ps, 'ko-')"
   ]
  },
  {
   "cell_type": "code",
   "execution_count": 14,
   "id": "708f76e6",
   "metadata": {},
   "outputs": [
    {
     "data": {
      "text/plain": [
       "array([ 1.        ,  0.3839154 ,  0.14316012,  0.07480475])"
      ]
     },
     "execution_count": 14,
     "metadata": {},
     "output_type": "execute_result"
    }
   ],
   "source": [
    "rts"
   ]
  },
  {
   "cell_type": "code",
   "execution_count": 15,
   "id": "00f85eda",
   "metadata": {},
   "outputs": [
    {
     "data": {
      "text/plain": [
       "array([ 0.3839154 ,  0.37289495,  0.52252506])"
      ]
     },
     "execution_count": 15,
     "metadata": {},
     "output_type": "execute_result"
    }
   ],
   "source": [
    "rts[1:] / rts[:-1]"
   ]
  },
  {
   "cell_type": "code",
   "execution_count": 16,
   "id": "5310fdc5",
   "metadata": {},
   "outputs": [
    {
     "data": {
      "image/png": "[encoded data removed]",
      "text/plain": [
       "<matplotlib.figure.Figure at 0x7f524c02bb70>"
      ]
     },
     "metadata": {},
     "output_type": "display_data"
    }
   ],
   "source": [
    "plt.plot(Ps[1:], rts[1:] / rts[:-1], 'ko-')\n",
    "plt.xlabel('Number of Threads, $P$')\n",
    "plt.ylabel('Relative Double Speedup, $t_P/t_{\\\\frac{P}{2}}$')\n",
    "plt.savefig('n-body-thread-double-speedup.svg')"
   ]
  },
  {
   "cell_type": "code",
   "execution_count": 17,
   "id": "c63d616f",
   "metadata": {},
   "outputs": [
    {
     "data": {
      "text/plain": [
       "28.79767767231955"
      ]
     },
     "execution_count": 17,
     "metadata": {},
     "output_type": "execute_result"
    }
   ],
   "source": [
    "runtimes[0]/1.9455578327178955"
   ]
  },
  {
   "cell_type": "code",
   "execution_count": 17,
   "id": "687008c4",
   "metadata": {},
   "outputs": [],
   "source": []
  }
 ],
 "metadata": {
  "kernelspec": {
   "display_name": "Python 3 (ipykernel)",
   "language": "python",
   "name": "python3"
  },
  "language_info": {
   "codemirror_mode": {
    "name": "ipython",
    "version": 3
   },
   "file_extension": ".py",
   "mimetype": "text/x-python",
   "name": "python",
   "nbconvert_exporter": "python",
   "pygments_lexer": "ipython3",
   "version": "3.8.12"
  }
 },
 "nbformat": 4,
 "nbformat_minor": 1
}
