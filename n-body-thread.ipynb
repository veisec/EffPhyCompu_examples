{
 "cells": [
  {
   "cell_type": "code",
   "execution_count": 9,
   "id": "d2d9ca6c",
   "metadata": {},
   "outputs": [],
   "source": [
    "import numpy as np\n",
    "import matplotlib.pyplot as plt\n",
    "def remove_i(x, i):\n",
    "    \"\"\"Drops the ith element of an array.\"\"\"\n",
    "    shape = (x.shape[0]-1,) + x.shape[1:]\n",
    "    y = np.empty(shape, dtype=float)\n",
    "    y[:i] = x[:i]\n",
    "    y[i:] = x[i+1:]\n",
    "    return y\n",
    "\n",
    "def a(i, x, G, m):\n",
    "    \"\"\"The acelleration of the ith mass.\"\"\"\n",
    "    x_i = x[i]\n",
    "    x_j = remove_i(x, i)\n",
    "    m_j = remove_i(m, i)\n",
    "    diff = x_j - x_i\n",
    "    mag3 = np.sum(diff**2, axis=1)**1.5\n",
    "    result = G * np.sum(diff * (m_j / mag3)[:,np.newaxis], axis=0)\n",
    "    return result"
   ]
  },
  {
   "cell_type": "code",
   "execution_count": 10,
   "id": "9e9219cb",
   "metadata": {},
   "outputs": [],
   "source": [
    "from threading import Thread\n",
    "\n",
    "class Worker(Thread):\n",
    "    \"\"\"Computes x, v, and a of the ith body.\"\"\"\n",
    "    def __init__(self, *args, **kwargs):\n",
    "        super(Worker, self).__init__(*args, **kwargs)\n",
    "        self.inputs = []\n",
    "        self.results = []\n",
    "        self.running = True\n",
    "        self.daemon = True\n",
    "        self.start()\n",
    "        \n",
    "    def run(self):\n",
    "        while self.running:\n",
    "            if len(self.inputs) == 0:\n",
    "                continue\n",
    "            i, x0, v0, G, m, dt = self.inputs[0]\n",
    "            a_i0 = a(i, x0, G, m)\n",
    "            v_i1 = a_i0 * dt + v0[i]\n",
    "            x_i1 = a_i0 * dt**2 + v0[i] * dt + x0[i]\n",
    "            result = (i, x_i1, v_i1)\n",
    "            self.results.append(result)\n",
    "            del self.inputs[0]\n",
    "            \n",
    "class Pool(object):\n",
    "    \"\"\"A collection of P worker threads that disrtibutes tasks \n",
    "    evenly across them.\n",
    "    \"\"\"\n",
    "    def __init__(self, size):\n",
    "        self.size = size\n",
    "        self.workers = [Worker() for p in range(size)]\n",
    "        \n",
    "    def do(self, tasks):\n",
    "        for p in range(self.size):\n",
    "            self.workers[p].inputs += tasks[p::self.size]\n",
    "        while any([len(worker.inputs) != 0 for worker in self.workers]):\n",
    "            pass\n",
    "        results = []\n",
    "        for worker in self.workers:\n",
    "            results += worker.results\n",
    "            worker.results.clear()\n",
    "        return results\n",
    "    \n",
    "    def __del__(self):\n",
    "        for worker in self.workers:\n",
    "            worker.running = False"
   ]
  },
  {
   "cell_type": "code",
   "execution_count": 11,
   "id": "7b9d6ee5",
   "metadata": {},
   "outputs": [],
   "source": [
    "def timestep(x0, v0, G, m, dt, pool):\n",
    "    \"\"\"Computes the next position and velocity for all masses given \n",
    "    a initial conditions and a time step size.\n",
    "    \"\"\"\n",
    "    N = len(x0)\n",
    "    tasks = [(i, x0, v0, G, m, dt) for i in range(N)]\n",
    "    results = pool.do(tasks)\n",
    "    x1 = np.empty(x0.shape, dtype=float)\n",
    "    v1 = np.empty(v0.shape, dtype=float)\n",
    "    for i, x_i1, v_i1 in results:\n",
    "        x1[i] = x_i1\n",
    "        v1[i] = v_i1\n",
    "    return x1, v1\n",
    "\n",
    "def initial_cond(N, D):\n",
    "    \"\"\"Generates initial conditions for N unity masses at rest \n",
    "    starting at random positions in D-dimensional space.\n",
    "    \"\"\"\n",
    "    x0 = np.random.rand(N, D)\n",
    "    v0 = np.zeros((N, D), dtype=float)\n",
    "    m = np.ones(N, dtype=float)\n",
    "    return x0, v0, m    "
   ]
  },
  {
   "cell_type": "code",
   "execution_count": 12,
   "id": "10adf033",
   "metadata": {},
   "outputs": [],
   "source": [
    "def makefig(x, v, t):\n",
    "    plt.plot(x[:,0], x[:,1], 'ro')\n",
    "    if not np.all(v == 0.0):\n",
    "        plt.quiver(x[:,0], x[:,1], v[:,0], v[:,1])\n",
    "    plt.xlabel('x')\n",
    "    plt.ylabel('y')\n",
    "    plt.title('Time t = {0}'.format(t))\n",
    "    plt.savefig('n-body-t{0}.svg'.format(t))"
   ]
  },
  {
   "cell_type": "code",
   "execution_count": 13,
   "id": "aebe3555",
   "metadata": {},
   "outputs": [
    {
     "name": "stdout",
     "output_type": "stream",
     "text": [
      "Wall time: 1.2 s\n"
     ]
    }
   ],
   "source": [
    "%%time\n",
    "x0, v0, m = initial_cond(10, 2)\n",
    "pool = Pool(4)\n",
    "x1, v1 = timestep(x0, v0, 1.0, m, 1.0e-3, pool)\n",
    "del pool"
   ]
  },
  {
   "cell_type": "code",
   "execution_count": 14,
   "id": "a392554b",
   "metadata": {},
   "outputs": [
    {
     "data": {
      "image/png": "[encoded data removed]",
      "text/plain": [
       "<Figure size 432x288 with 1 Axes>"
      ]
     },
     "metadata": {
      "needs_background": "light"
     },
     "output_type": "display_data"
    }
   ],
   "source": [
    "makefig(x0, v0, 0)"
   ]
  },
  {
   "cell_type": "code",
   "execution_count": 15,
   "id": "dee8267c",
   "metadata": {},
   "outputs": [
    {
     "data": {
      "image/png": "[encoded data removed]",
      "text/plain": [
       "<Figure size 432x288 with 1 Axes>"
      ]
     },
     "metadata": {
      "needs_background": "light"
     },
     "output_type": "display_data"
    }
   ],
   "source": [
    "makefig(x1, v1, 1e-3)"
   ]
  },
  {
   "cell_type": "code",
   "execution_count": 16,
   "id": "e9bb3999",
   "metadata": {},
   "outputs": [
    {
     "ename": "TypeError",
     "evalue": "setup() got an unexpected keyword argument 'clear_temp'",
     "output_type": "error",
     "traceback": [
      "\u001b[1;31m---------------------------------------------------------------------------\u001b[0m",
      "\u001b[1;31mTypeError\u001b[0m                                 Traceback (most recent call last)",
      "\u001b[1;32mc:\\Users\\wang95\\.conda\\envs\\LK_dde\\lib\\site-packages\\IPython\\core\\formatters.py\u001b[0m in \u001b[0;36m__call__\u001b[1;34m(self, obj)\u001b[0m\n\u001b[0;32m    343\u001b[0m             \u001b[0mmethod\u001b[0m \u001b[1;33m=\u001b[0m \u001b[0mget_real_method\u001b[0m\u001b[1;33m(\u001b[0m\u001b[0mobj\u001b[0m\u001b[1;33m,\u001b[0m \u001b[0mself\u001b[0m\u001b[1;33m.\u001b[0m\u001b[0mprint_method\u001b[0m\u001b[1;33m)\u001b[0m\u001b[1;33m\u001b[0m\u001b[1;33m\u001b[0m\u001b[0m\n\u001b[0;32m    344\u001b[0m             \u001b[1;32mif\u001b[0m \u001b[0mmethod\u001b[0m \u001b[1;32mis\u001b[0m \u001b[1;32mnot\u001b[0m \u001b[1;32mNone\u001b[0m\u001b[1;33m:\u001b[0m\u001b[1;33m\u001b[0m\u001b[1;33m\u001b[0m\u001b[0m\n\u001b[1;32m--> 345\u001b[1;33m                 \u001b[1;32mreturn\u001b[0m \u001b[0mmethod\u001b[0m\u001b[1;33m(\u001b[0m\u001b[1;33m)\u001b[0m\u001b[1;33m\u001b[0m\u001b[1;33m\u001b[0m\u001b[0m\n\u001b[0m\u001b[0;32m    346\u001b[0m             \u001b[1;32mreturn\u001b[0m \u001b[1;32mNone\u001b[0m\u001b[1;33m\u001b[0m\u001b[1;33m\u001b[0m\u001b[0m\n\u001b[0;32m    347\u001b[0m         \u001b[1;32melse\u001b[0m\u001b[1;33m:\u001b[0m\u001b[1;33m\u001b[0m\u001b[1;33m\u001b[0m\u001b[0m\n",
      "\u001b[1;32mc:\\Users\\wang95\\.conda\\envs\\LK_dde\\lib\\site-packages\\JSAnimation\\IPython_display.py\u001b[0m in \u001b[0;36manim_to_html\u001b[1;34m(anim, fps, embed_frames, default_mode)\u001b[0m\n\u001b[0;32m     72\u001b[0m         \u001b[1;31m#with tempfile.NamedTemporaryFile(suffix='.html') as f:\u001b[0m\u001b[1;33m\u001b[0m\u001b[1;33m\u001b[0m\u001b[1;33m\u001b[0m\u001b[0m\n\u001b[0;32m     73\u001b[0m         \u001b[1;32mwith\u001b[0m \u001b[0m_NameOnlyTemporaryFile\u001b[0m\u001b[1;33m(\u001b[0m\u001b[0msuffix\u001b[0m\u001b[1;33m=\u001b[0m\u001b[1;34m'.html'\u001b[0m\u001b[1;33m)\u001b[0m \u001b[1;32mas\u001b[0m \u001b[0mf\u001b[0m\u001b[1;33m:\u001b[0m\u001b[1;33m\u001b[0m\u001b[1;33m\u001b[0m\u001b[0m\n\u001b[1;32m---> 74\u001b[1;33m             anim.save(f.name,  writer=HTMLWriter(fps=fps,\n\u001b[0m\u001b[0;32m     75\u001b[0m                                                  \u001b[0membed_frames\u001b[0m\u001b[1;33m=\u001b[0m\u001b[0membed_frames\u001b[0m\u001b[1;33m,\u001b[0m\u001b[1;33m\u001b[0m\u001b[1;33m\u001b[0m\u001b[0m\n\u001b[0;32m     76\u001b[0m                                                  default_mode=default_mode))\n",
      "\u001b[1;32mc:\\Users\\wang95\\.conda\\envs\\LK_dde\\lib\\site-packages\\matplotlib\\animation.py\u001b[0m in \u001b[0;36msave\u001b[1;34m(self, filename, writer, fps, dpi, codec, bitrate, extra_args, metadata, extra_anim, savefig_kwargs, progress_callback)\u001b[0m\n\u001b[0;32m   1071\u001b[0m         \u001b[1;31m# callback a no-op; canvas.manager = None prevents resizing the GUI\u001b[0m\u001b[1;33m\u001b[0m\u001b[1;33m\u001b[0m\u001b[1;33m\u001b[0m\u001b[0m\n\u001b[0;32m   1072\u001b[0m         \u001b[1;31m# widget (both are likewise done in savefig()).\u001b[0m\u001b[1;33m\u001b[0m\u001b[1;33m\u001b[0m\u001b[1;33m\u001b[0m\u001b[0m\n\u001b[1;32m-> 1073\u001b[1;33m         \u001b[1;32mwith\u001b[0m \u001b[0mmpl\u001b[0m\u001b[1;33m.\u001b[0m\u001b[0mrc_context\u001b[0m\u001b[1;33m(\u001b[0m\u001b[1;33m{\u001b[0m\u001b[1;34m'savefig.bbox'\u001b[0m\u001b[1;33m:\u001b[0m \u001b[1;32mNone\u001b[0m\u001b[1;33m}\u001b[0m\u001b[1;33m)\u001b[0m\u001b[1;33m,\u001b[0m\u001b[0;31m \u001b[0m\u001b[0;31m\\\u001b[0m\u001b[1;33m\u001b[0m\u001b[1;33m\u001b[0m\u001b[0m\n\u001b[0m\u001b[0;32m   1074\u001b[0m              \u001b[0mwriter\u001b[0m\u001b[1;33m.\u001b[0m\u001b[0msaving\u001b[0m\u001b[1;33m(\u001b[0m\u001b[0mself\u001b[0m\u001b[1;33m.\u001b[0m\u001b[0m_fig\u001b[0m\u001b[1;33m,\u001b[0m \u001b[0mfilename\u001b[0m\u001b[1;33m,\u001b[0m \u001b[0mdpi\u001b[0m\u001b[1;33m)\u001b[0m\u001b[1;33m,\u001b[0m\u001b[0;31m \u001b[0m\u001b[0;31m\\\u001b[0m\u001b[1;33m\u001b[0m\u001b[1;33m\u001b[0m\u001b[0m\n\u001b[0;32m   1075\u001b[0m              cbook._setattr_cm(self._fig.canvas,\n",
      "\u001b[1;32mc:\\Users\\wang95\\.conda\\envs\\LK_dde\\lib\\contextlib.py\u001b[0m in \u001b[0;36m__enter__\u001b[1;34m(self)\u001b[0m\n\u001b[0;32m    111\u001b[0m         \u001b[1;32mdel\u001b[0m \u001b[0mself\u001b[0m\u001b[1;33m.\u001b[0m\u001b[0margs\u001b[0m\u001b[1;33m,\u001b[0m \u001b[0mself\u001b[0m\u001b[1;33m.\u001b[0m\u001b[0mkwds\u001b[0m\u001b[1;33m,\u001b[0m \u001b[0mself\u001b[0m\u001b[1;33m.\u001b[0m\u001b[0mfunc\u001b[0m\u001b[1;33m\u001b[0m\u001b[1;33m\u001b[0m\u001b[0m\n\u001b[0;32m    112\u001b[0m         \u001b[1;32mtry\u001b[0m\u001b[1;33m:\u001b[0m\u001b[1;33m\u001b[0m\u001b[1;33m\u001b[0m\u001b[0m\n\u001b[1;32m--> 113\u001b[1;33m             \u001b[1;32mreturn\u001b[0m \u001b[0mnext\u001b[0m\u001b[1;33m(\u001b[0m\u001b[0mself\u001b[0m\u001b[1;33m.\u001b[0m\u001b[0mgen\u001b[0m\u001b[1;33m)\u001b[0m\u001b[1;33m\u001b[0m\u001b[1;33m\u001b[0m\u001b[0m\n\u001b[0m\u001b[0;32m    114\u001b[0m         \u001b[1;32mexcept\u001b[0m \u001b[0mStopIteration\u001b[0m\u001b[1;33m:\u001b[0m\u001b[1;33m\u001b[0m\u001b[1;33m\u001b[0m\u001b[0m\n\u001b[0;32m    115\u001b[0m             \u001b[1;32mraise\u001b[0m \u001b[0mRuntimeError\u001b[0m\u001b[1;33m(\u001b[0m\u001b[1;34m\"generator didn't yield\"\u001b[0m\u001b[1;33m)\u001b[0m \u001b[1;32mfrom\u001b[0m \u001b[1;32mNone\u001b[0m\u001b[1;33m\u001b[0m\u001b[1;33m\u001b[0m\u001b[0m\n",
      "\u001b[1;32mc:\\Users\\wang95\\.conda\\envs\\LK_dde\\lib\\site-packages\\matplotlib\\animation.py\u001b[0m in \u001b[0;36msaving\u001b[1;34m(self, fig, outfile, dpi, *args, **kwargs)\u001b[0m\n\u001b[0;32m    232\u001b[0m         \"\"\"\n\u001b[0;32m    233\u001b[0m         \u001b[1;31m# This particular sequence is what contextlib.contextmanager wants\u001b[0m\u001b[1;33m\u001b[0m\u001b[1;33m\u001b[0m\u001b[1;33m\u001b[0m\u001b[0m\n\u001b[1;32m--> 234\u001b[1;33m         \u001b[0mself\u001b[0m\u001b[1;33m.\u001b[0m\u001b[0msetup\u001b[0m\u001b[1;33m(\u001b[0m\u001b[0mfig\u001b[0m\u001b[1;33m,\u001b[0m \u001b[0moutfile\u001b[0m\u001b[1;33m,\u001b[0m \u001b[0mdpi\u001b[0m\u001b[1;33m,\u001b[0m \u001b[1;33m*\u001b[0m\u001b[0margs\u001b[0m\u001b[1;33m,\u001b[0m \u001b[1;33m**\u001b[0m\u001b[0mkwargs\u001b[0m\u001b[1;33m)\u001b[0m\u001b[1;33m\u001b[0m\u001b[1;33m\u001b[0m\u001b[0m\n\u001b[0m\u001b[0;32m    235\u001b[0m         \u001b[1;32mtry\u001b[0m\u001b[1;33m:\u001b[0m\u001b[1;33m\u001b[0m\u001b[1;33m\u001b[0m\u001b[0m\n\u001b[0;32m    236\u001b[0m             \u001b[1;32myield\u001b[0m \u001b[0mself\u001b[0m\u001b[1;33m\u001b[0m\u001b[1;33m\u001b[0m\u001b[0m\n",
      "\u001b[1;32mc:\\Users\\wang95\\.conda\\envs\\LK_dde\\lib\\site-packages\\JSAnimation\\html_writer.py\u001b[0m in \u001b[0;36msetup\u001b[1;34m(self, fig, outfile, dpi, frame_dir)\u001b[0m\n\u001b[0;32m    279\u001b[0m             \u001b[0mframe_prefix\u001b[0m \u001b[1;33m=\u001b[0m \u001b[1;32mNone\u001b[0m\u001b[1;33m\u001b[0m\u001b[1;33m\u001b[0m\u001b[0m\n\u001b[0;32m    280\u001b[0m \u001b[1;33m\u001b[0m\u001b[0m\n\u001b[1;32m--> 281\u001b[1;33m         super(HTMLWriter, self).setup(fig, outfile, dpi,\n\u001b[0m\u001b[0;32m    282\u001b[0m                                       frame_prefix, clear_temp=False)\n\u001b[0;32m    283\u001b[0m \u001b[1;33m\u001b[0m\u001b[0m\n",
      "\u001b[1;31mTypeError\u001b[0m: setup() got an unexpected keyword argument 'clear_temp'"
     ]
    },
    {
     "data": {
      "text/plain": [
       "<matplotlib.animation.FuncAnimation at 0x24017b3fe80>"
      ]
     },
     "execution_count": 16,
     "metadata": {},
     "output_type": "execute_result"
    }
   ],
   "source": [
    "from matplotlib import animation\n",
    "from JSAnimation import IPython_display\n",
    "\n",
    "fig = plt.figure()\n",
    "ax = plt.axes(xlim=(0, 1.0), ylim=(0, 1.0))\n",
    "viewport = [0.0, 1.0, 0.0, 1.0]\n",
    "\n",
    "N = 10\n",
    "x0, v0, m = initial_cond(N, 2)\n",
    "pool = Pool(4)\n",
    "\n",
    "def init():\n",
    "    ax.clear()\n",
    "    ax.plot(x0[:,0], x0[:,1], 'ro')\n",
    "    ax.quiver(x0[:,0], x0[:,1], v0[:,0], v0[:,1])\n",
    "    ax.axis(viewport)\n",
    "    return ax\n",
    "\n",
    "def animate(i):\n",
    "    global x0, v0, pool\n",
    "    x, v = timestep(x0, v0, 1.0, m, 1.0e-3, pool)\n",
    "    ax.clear()\n",
    "    ax.plot(x[:,0], x[:,1], 'ro')\n",
    "    ax.quiver(x[:,0], x[:,1], v[:,0], v[:,1])\n",
    "    ax.axis(viewport)\n",
    "    x0, v0 = x, v\n",
    "    return ax\n",
    "\n",
    "animation.FuncAnimation(fig, animate, frames=3, init_func=init, interval=100)"
   ]
  },
  {
   "cell_type": "code",
   "execution_count": 17,
   "id": "93436a03",
   "metadata": {},
   "outputs": [],
   "source": [
    "del pool"
   ]
  },
  {
   "cell_type": "code",
   "execution_count": 18,
   "id": "5bd0f85f",
   "metadata": {},
   "outputs": [],
   "source": [
    "def simulate(P, N, D, S, G, dt):\n",
    "    x0, v0, m = initial_cond(N, D)\n",
    "    pool = Pool(P)\n",
    "    for s in range(S):\n",
    "        x1, v1 = timestep(x0, v0, G, m, dt, pool)\n",
    "        x0, v0 = x1, v1"
   ]
  },
  {
   "cell_type": "code",
   "execution_count": 19,
   "id": "c17f0385",
   "metadata": {},
   "outputs": [
    {
     "name": "stdout",
     "output_type": "stream",
     "text": [
      "running 1\n"
     ]
    }
   ],
   "source": [
    "%%time\n",
    "import time\n",
    "Ps = [1, 2, 4, 8]\n",
    "runtimes = []\n",
    "for P in Ps:\n",
    "    print(\"running\", P)\n",
    "    start = time.time()\n",
    "    simulate(P, 64, 3, 300, 1.0, 1e-3)\n",
    "    stop = time.time()\n",
    "    runtimes.append(stop - start)\n",
    "print(runtimes)"
   ]
  },
  {
   "cell_type": "code",
   "execution_count": null,
   "id": "80c9adb6",
   "metadata": {},
   "outputs": [
    {
     "data": {
      "image/png": "[encoded data removed]",
      "text/plain": [
       "<matplotlib.figure.Figure at 0x7f524c0eb438>"
      ]
     },
     "metadata": {},
     "output_type": "display_data"
    }
   ],
   "source": [
    "rts = runtimes[0] / np.array(runtimes) \n",
    "plt.plot(Ps, rts, 'ko-')\n",
    "plt.xlabel('Number of Threads, $P$')\n",
    "plt.ylabel('speedup, $t_1/t_P$')\n",
    "plt.savefig('n-body-thread-speedup.svg')"
   ]
  },
  {
   "cell_type": "code",
   "execution_count": null,
   "id": "419c5d35",
   "metadata": {},
   "outputs": [
    {
     "data": {
      "text/plain": [
       "[<matplotlib.lines.Line2D at 0x7f5246d64eb8>]"
      ]
     },
     "execution_count": 13,
     "metadata": {},
     "output_type": "execute_result"
    },
    {
     "data": {
      "image/png": "[encoded data removed]",
      "text/plain": [
       "<matplotlib.figure.Figure at 0x7f524c1a4358>"
      ]
     },
     "metadata": {},
     "output_type": "display_data"
    }
   ],
   "source": [
    "plt.plot(Ps, rts / Ps, 'ko-')"
   ]
  },
  {
   "cell_type": "code",
   "execution_count": null,
   "id": "708f76e6",
   "metadata": {},
   "outputs": [
    {
     "data": {
      "text/plain": [
       "array([ 1.        ,  0.3839154 ,  0.14316012,  0.07480475])"
      ]
     },
     "execution_count": 14,
     "metadata": {},
     "output_type": "execute_result"
    }
   ],
   "source": [
    "rts"
   ]
  },
  {
   "cell_type": "code",
   "execution_count": null,
   "id": "00f85eda",
   "metadata": {},
   "outputs": [
    {
     "data": {
      "text/plain": [
       "array([ 0.3839154 ,  0.37289495,  0.52252506])"
      ]
     },
     "execution_count": 15,
     "metadata": {},
     "output_type": "execute_result"
    }
   ],
   "source": [
    "rts[1:] / rts[:-1]"
   ]
  },
  {
   "cell_type": "code",
   "execution_count": null,
   "id": "5310fdc5",
   "metadata": {},
   "outputs": [
    {
     "data": {
      "image/png": "[encoded data removed]",
      "text/plain": [
       "<matplotlib.figure.Figure at 0x7f524c02bb70>"
      ]
     },
     "metadata": {},
     "output_type": "display_data"
    }
   ],
   "source": [
    "plt.plot(Ps[1:], rts[1:] / rts[:-1], 'ko-')\n",
    "plt.xlabel('Number of Threads, $P$')\n",
    "plt.ylabel('Relative Double Speedup, $t_P/t_{\\\\frac{P}{2}}$')\n",
    "plt.savefig('n-body-thread-double-speedup.svg')"
   ]
  },
  {
   "cell_type": "code",
   "execution_count": null,
   "id": "c63d616f",
   "metadata": {},
   "outputs": [
    {
     "data": {
      "text/plain": [
       "28.79767767231955"
      ]
     },
     "execution_count": 17,
     "metadata": {},
     "output_type": "execute_result"
    }
   ],
   "source": [
    "runtimes[0]/1.9455578327178955"
   ]
  },
  {
   "cell_type": "code",
   "execution_count": null,
   "id": "687008c4",
   "metadata": {},
   "outputs": [],
   "source": []
  }
 ],
 "metadata": {
  "kernelspec": {
   "display_name": "Python 3 (ipykernel)",
   "language": "python",
   "name": "python3"
  },
  "language_info": {
   "codemirror_mode": {
    "name": "ipython",
    "version": 3
   },
   "file_extension": ".py",
   "mimetype": "text/x-python",
   "name": "python",
   "nbconvert_exporter": "python",
   "pygments_lexer": "ipython3",
   "version": "3.8.12"
  }
 },
 "nbformat": 4,
 "nbformat_minor": 1
}
